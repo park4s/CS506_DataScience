{
 "cells": [
  {
   "cell_type": "markdown",
   "metadata": {
    "slideshow": {
     "slide_type": "slide"
    }
   },
   "source": [
    "# Probability and Statistics Review"
   ]
  },
  {
   "cell_type": "code",
   "execution_count": 1,
   "metadata": {
    "slideshow": {
     "slide_type": "skip"
    }
   },
   "outputs": [
    {
     "name": "stdout",
     "output_type": "stream",
     "text": [
      "\n"
     ]
    }
   ],
   "source": [
    "%matplotlib inline\n",
    "%config InlineBackend.figure_format='retina'\n",
    "# import libraries\n",
    "import numpy as np\n",
    "import matplotlib as mp\n",
    "import pandas as pd\n",
    "import matplotlib.pyplot as plt\n",
    "import pandas as pd\n",
    "from importlib import reload\n",
    "from datetime import datetime\n",
    "from IPython.display import Image\n",
    "from IPython.display import display_html\n",
    "from IPython.display import display\n",
    "from IPython.display import Math\n",
    "from IPython.display import Latex\n",
    "from IPython.display import HTML\n",
    "print('')"
   ]
  },
  {
   "cell_type": "code",
   "execution_count": 2,
   "metadata": {
    "slideshow": {
     "slide_type": "skip"
    }
   },
   "outputs": [
    {
     "data": {
      "text/html": [
       "<style>\n",
       " .container.slides .celltoolbar, .container.slides .hide-in-slideshow {\n",
       "    display: None ! important;\n",
       "}\n",
       "</style>"
      ],
      "text/plain": [
       "<IPython.core.display.HTML object>"
      ]
     },
     "metadata": {},
     "output_type": "display_data"
    }
   ],
   "source": [
    "%%html\n",
    "<style>\n",
    " .container.slides .celltoolbar, .container.slides .hide-in-slideshow {\n",
    "    display: None ! important;\n",
    "}\n",
    "</style>"
   ]
  },
  {
   "cell_type": "markdown",
   "metadata": {
    "slideshow": {
     "slide_type": "fragment"
    }
   },
   "source": [
    "These notes review some essential topics involving probability that will be useful later in the course."
   ]
  },
  {
   "cell_type": "markdown",
   "metadata": {
    "slideshow": {
     "slide_type": "slide"
    }
   },
   "source": [
    "## Probability "
   ]
  },
  {
   "cell_type": "markdown",
   "metadata": {
    "slideshow": {
     "slide_type": "fragment"
    }
   },
   "source": [
    "Historically, the notion of probability has been slippery and has taken on multiple forms. At least three ways to view probability in practice include:\n",
    "1. as a mathematical exercise involving positive functions that integrate to 1 (i.e., distributions);\n",
    "2. as an encoding of natural rules for reasoning under uncertainty; and\n",
    "3. as an idealization of properties of data and processes.\n",
    "\n",
    "For our purposes, we will use probability as an abstraction that hides details that are not relevant to our goals. In other words, we will build up a mathematical definition of probability and use it to accomplish data analysis and modeling tasks."
   ]
  },
  {
   "cell_type": "markdown",
   "metadata": {
    "slideshow": {
     "slide_type": "fragment"
    }
   },
   "source": [
    ">Any simple idea is approximate; as an illustration, consider an object ... what is an object? Philosophers are always \n",
    ">saying, “Well, just take a chair for example.” The moment they say that, you know that they do not know what they are \n",
    ">talking about any more. What is a chair? ... every object is a mixture of a lot of things, so we can deal with it \n",
    "> only as a series of approximations and idealizations.\n",
    "\n",
    ">The trick is the idealizations.\n",
    "\n",
    "Richard Feynman, _The Feynman Lectures on Physics, 12-2_"
   ]
  },
  {
   "cell_type": "markdown",
   "metadata": {
    "slideshow": {
     "slide_type": "-"
    }
   },
   "source": [
    "Here is an illustration of this principle applied to probability:\n",
    "\n",
    ">In a serious work ... an expression such as “this phenomenon is due to chance” constitutes simply, \n",
    ">an elliptic form of speech. ... It really means “everything occurs as if this phenomenon were due to chance,” \n",
    ">or, to be more precise: “To describe, or interpret or formalize this phenomenon, \n",
    ">only probabilistic models have so far given good results.”\n",
    "\n",
    "Georges Matheron, _Estimating and Choosing: An Essay on Probability in Practice_"
   ]
  },
  {
   "cell_type": "markdown",
   "metadata": {
    "slideshow": {
     "slide_type": "slide"
    }
   },
   "source": [
    "### Probability Measures"
   ]
  },
  {
   "cell_type": "markdown",
   "metadata": {
    "slideshow": {
     "slide_type": "fragment"
    }
   },
   "source": [
    "**Definition:**  Consider a set $\\Omega$, referred to as the\n",
    "_sample space._  A _probability\n",
    "  measure_ on $\\Omega$ is a function $P[\\cdot]$ defined on all the subsets of $\\Omega$ (each subset consists of zero or more _events_) such that:\n",
    "  \n",
    "1. $P[\\Omega] = 1$\n",
    "2. For any event $A \\subset \\Omega$, $P[A] \\geq 0.$\n",
    "3. For any events $A, B \\subset \\Omega$ where $A \\cap B =\n",
    "    \\emptyset$, $P[A \\cup B] = P[A] + P[B]$.\n",
    "\n",
    "The sample space $\\Omega$ may be continuous or discrete, and bounded or unbounded.\n",
    "\n",
    "One approach we can take to better understand the constraints that describe a mathematical concept is to try programmatically checking that they hold on some concrete structure. We can do so with Python."
   ]
  },
  {
   "cell_type": "markdown",
   "metadata": {
    "slideshow": {
     "slide_type": "fragment"
    }
   },
   "source": [
    "**Example:** One way in which a sample space could be instantiated is as a vector space in which each dimension corresponds to some feature or aspect of an event. For example, we could model two binary aspects of a day:\n",
    "\n",
    "* Is it sunny?\n",
    "* Did an earthquake occur?\n",
    "\n",
    "As we have seen in other contexts, we can represent an observations using vectors in a two-dimensional vector space: $\\Omega = \\{0,1\\}^2$. In this case, a vector such as $(1,0)$ represents a day occurring that is sunny, but during which an earthquake did not occur.\n",
    "\n",
    "For this example, we could define one possible probability measure (among many others) by specifying the probability of each of the possible $2^4 = 16$ subsets:\n",
    "* $P[\\emptyset] = 0$\n",
    "* $P[\\{(0,0)\\}] = 0.2$\n",
    "* $P[\\{(1,0)\\}] = 0.3$\n",
    "* $P[\\{(0,1)\\}] = 0.1$\n",
    "* $P[\\{(1,1)\\}] = 0.4$\n",
    "* $P[\\{(0,0),(0,1)\\}] = 0.3$\n",
    "* $P[\\{(0,0),(1,0)\\}] = 0.5$\n",
    "* $P[\\{(0,0),(1,1)\\}] = 0.6$\n",
    "* $P[\\{(1,0),(0,1)\\}] = 0.4$\n",
    "* $P[\\{(1,0),(1,1)\\}] = 0.7$\n",
    "* $P[\\{(0,1),(1,1)\\}] = 0.5$\n",
    "* $P[\\{(0,0),(0,1),(1,0)\\}] = 0.6$\n",
    "* $P[\\{(1,0),(0,1),(1,1)\\}] = 0.8$\n",
    "* $P[\\{(0,0),(0,1),(1,1)\\}] = 0.7$\n",
    "* $P[\\{(0,0),(1,0),(1,1)\\}] = 0.9$\n",
    "* $P[\\{(0,0),(0,1),(1,0),(1,1)\\}] = 1$\n",
    "\n",
    "Note that our definition artificially restricts us to having $P[\\emptyset] = 0$ in this example, but we can get around this if necessary by creating some vacuous aspect that is only present when all other aspects are absent.\n",
    "\n",
    "Another way to interpret the above is to imagine that we have observed 10 different days and collected a data set. The data set could look as follows:\n",
    "\n",
    "* $\\{(0,0)\\}$\n",
    "* $\\{(0,0)\\}$\n",
    "* $\\{(1,0)\\}$\n",
    "* $\\{(1,0)\\}$\n",
    "* $\\{(1,0)\\}$\n",
    "* $\\{(0,1)\\}$\n",
    "* $\\{(1,1)\\}$\n",
    "* $\\{(1,1)\\}$\n",
    "* $\\{(1,1)\\}$\n",
    "* $\\{(1,1)\\}$\n",
    "\n",
    "This approach to interpreting the definition for a probability measure gives us a natural way to check whether some measure $P$ is actually a probability measure."
   ]
  },
  {
   "cell_type": "code",
   "execution_count": 3,
   "metadata": {
    "slideshow": {
     "slide_type": "-"
    }
   },
   "outputs": [
    {
     "name": "stdout",
     "output_type": "stream",
     "text": [
      "0 0 True\n",
      "0.2 0.2 True\n",
      "0.3 0.3 True\n",
      "0.1 0.1 True\n",
      "0.4 0.4 True\n",
      "0.3 0.3 True\n",
      "0.5 0.5 True\n",
      "0.6 0.6 True\n",
      "0.4 0.4 True\n",
      "0.7 0.7 True\n",
      "0.5 0.5 True\n",
      "0.6 0.6 True\n",
      "0.8 0.8 True\n",
      "0.7 0.7 True\n",
      "0.9 0.9 True\n",
      "1 1 True\n",
      "0.2 0.2 True\n",
      "0.5 0.5 True\n",
      "0.3 0.30000000000000004 True\n",
      "0.6 0.6000000000000001 True\n",
      "0.6 0.6000000000000001 True\n",
      "0.9 0.8999999999999999 True\n",
      "0.7 0.7 True\n",
      "1 1.0 True\n",
      "0.3 0.3 True\n",
      "0.5 0.5 True\n",
      "0.4 0.4 True\n",
      "0.7 0.7 True\n",
      "0.6 0.6 True\n",
      "0.9 0.8999999999999999 True\n",
      "0.8 0.8 True\n",
      "1 1.0 True\n",
      "0.1 0.1 True\n",
      "0.3 0.30000000000000004 True\n",
      "0.4 0.4 True\n",
      "0.5 0.5 True\n",
      "0.6 0.6 True\n",
      "0.7 0.7 True\n",
      "0.8 0.7999999999999999 True\n",
      "1 1.0 True\n",
      "0.4 0.4 True\n",
      "0.6 0.6000000000000001 True\n",
      "0.7 0.7 True\n",
      "0.5 0.5 True\n",
      "0.7 0.7 True\n",
      "0.9 0.9 True\n",
      "0.8 0.8 True\n",
      "1 1.0 True\n",
      "0.3 0.3 True\n",
      "0.6 0.6 True\n",
      "0.7 0.7 True\n",
      "1 1.0 True\n",
      "0.5 0.5 True\n",
      "0.6 0.6 True\n",
      "0.9 0.9 True\n",
      "1 1.0 True\n",
      "0.6 0.6 True\n",
      "0.9 0.8999999999999999 True\n",
      "0.7 0.7 True\n",
      "1 1.0 True\n",
      "0.4 0.4 True\n",
      "0.6 0.6000000000000001 True\n",
      "0.8 0.8 True\n",
      "1 1.0 True\n",
      "0.7 0.7 True\n",
      "0.9 0.8999999999999999 True\n",
      "0.8 0.7999999999999999 True\n",
      "1 1.0 True\n",
      "0.5 0.5 True\n",
      "0.7 0.7 True\n",
      "0.8 0.8 True\n",
      "1 1.0 True\n",
      "0.6 0.6 True\n",
      "1 1.0 True\n",
      "0.8 0.8 True\n",
      "1 1.0 True\n",
      "0.7 0.7 True\n",
      "1 1.0 True\n",
      "0.9 0.9 True\n",
      "1 1.0 True\n",
      "1 1 True\n"
     ]
    }
   ],
   "source": [
    "from itertools import product\n",
    "import math\n",
    "\n",
    "fs = frozenset\n",
    "\n",
    "P = {\n",
    "    fs(set()): 0,\n",
    "    fs({(0,0)}): 0.2,\n",
    "    fs({(1,0)}): 0.3,\n",
    "    fs({(0,1)}): 0.1,\n",
    "    fs({(1,1)}): 0.4,\n",
    "    fs({(0,0),(0,1)}): 0.3,\n",
    "    fs({(0,0),(1,0)}): 0.5,\n",
    "    fs({(0,0),(1,1)}): 0.6,\n",
    "    fs({(1,0),(0,1)}): 0.4,\n",
    "    fs({(1,0),(1,1)}): 0.7,\n",
    "    fs({(0,1),(1,1)}): 0.5,\n",
    "    fs({(0,0),(0,1),(1,0)}): 0.6,\n",
    "    fs({(1,0),(0,1),(1,1)}): 0.8,\n",
    "    fs({(0,0),(0,1),(1,1)}): 0.7,\n",
    "    fs({(0,0),(1,0),(1,1)}): 0.9,\n",
    "    fs({(0,0),(0,1),(1,0),(1,1)}): 1\n",
    "  }\n",
    "\n",
    "def check(P):\n",
    "    for (A,B) in product(P.keys(), P.keys()):\n",
    "        if len(A & B) == 0:\n",
    "            print(P[A.union(B)], P[A]+P[B],\\\n",
    "                      math.isclose(P[A | B], P[A]+P[B]))\n",
    "\n",
    "check(P)"
   ]
  },
  {
   "cell_type": "markdown",
   "metadata": {
    "slideshow": {
     "slide_type": "slide"
    }
   },
   "source": [
    "### Independence and Conditioning"
   ]
  },
  {
   "cell_type": "markdown",
   "metadata": {
    "slideshow": {
     "slide_type": "fragment"
    }
   },
   "source": [
    "**Definition:** Two events $A$ and $B$ are **independent** if $P[A\\cap B] = P[A] \\cdot P[B].$\n",
    "\n",
    "The intuitive notion of independence is that \"if one event occurs, that does not change the probability of the other event.\""
   ]
  },
  {
   "cell_type": "code",
   "execution_count": 4,
   "metadata": {
    "slideshow": {
     "slide_type": "-"
    }
   },
   "outputs": [
    {
     "data": {
      "text/plain": [
       "False"
      ]
     },
     "execution_count": 4,
     "metadata": {},
     "output_type": "execute_result"
    }
   ],
   "source": [
    "A = fs({(1,0),(1,1)}) # \"It is sunny.\"\n",
    "B = fs({(0,1),(1,1)}) # \"There is an earthquake.\"\n",
    "\n",
    "P[A & B] == P[A] * P[B] # Should be False for P from above."
   ]
  },
  {
   "cell_type": "code",
   "execution_count": 5,
   "metadata": {
    "slideshow": {
     "slide_type": "-"
    }
   },
   "outputs": [
    {
     "data": {
      "text/plain": [
       "True"
      ]
     },
     "execution_count": 5,
     "metadata": {},
     "output_type": "execute_result"
    }
   ],
   "source": [
    "P = {\n",
    "    fs(set()): 0,\n",
    "    fs({(0,0)}): 0.1,\n",
    "    fs({(1,0)}): 0.4,\n",
    "    fs({(0,1)}): 0.1,\n",
    "    fs({(1,1)}): 0.4,\n",
    "    fs({(1,0),(1,1)}): 0.8,\n",
    "    fs({(0,1),(1,1)}): 0.5\n",
    "    # ...\n",
    "  }\n",
    "\n",
    "A = fs({(1,0),(1,1)})\n",
    "B = fs({(0,1),(1,1)})\n",
    "\n",
    "P[A & B] == P[A] * P[B] # Should be True."
   ]
  },
  {
   "cell_type": "markdown",
   "metadata": {
    "slideshow": {
     "slide_type": "fragment"
    }
   },
   "source": [
    "Often we want to ask how a probability measure changes if we restrict the sample space to be some subset of $\\Omega$. This is called __conditioning.__"
   ]
  },
  {
   "cell_type": "markdown",
   "metadata": {
    "slideshow": {
     "slide_type": "fragment"
    }
   },
   "source": [
    "**Definition:** The _conditional probability_ of an event $A$ given that\n",
    "event $B$ (having positive probability) is known to occur, is \n",
    "\n",
    "$$ P[A|B] = \\frac{P[A \\cap B]}{P[B]}  \\mbox{ where } P[B] > 0 $$"
   ]
  },
  {
   "cell_type": "code",
   "execution_count": 6,
   "metadata": {
    "slideshow": {
     "slide_type": "-"
    }
   },
   "outputs": [
    {
     "data": {
      "text/plain": [
       "0.8"
      ]
     },
     "execution_count": 6,
     "metadata": {},
     "output_type": "execute_result"
    }
   ],
   "source": [
    "A = fs({(1,0),(1,1)})\n",
    "B = fs({(0,1),(1,1)})\n",
    "\n",
    "P[A & B] / P[B] # Should be 0.8."
   ]
  },
  {
   "cell_type": "markdown",
   "metadata": {
    "slideshow": {
     "slide_type": "fragment"
    }
   },
   "source": [
    "The function $P[\\cdot|B]$ is a probability measure over the sample space $B$.  \n",
    "\n",
    "Note that in the expression $P[A|B]$, $A$ is random but $B$ is fixed. \n",
    "\n",
    "Now if $B$ is a proper subset of $\\Omega,$ then $P[B] < 1$. So $P[\\cdot|B]$ is a rescaling of the quantity $P[A\\cap B]$ so that $P[B|B] = 1.$\n",
    "\n",
    "Note that if $A$ and $B$ are independent, this means that $P[A|B] = P[A].$  "
   ]
  },
  {
   "cell_type": "markdown",
   "metadata": {
    "slideshow": {
     "slide_type": "slide"
    }
   },
   "source": [
    "## Random Variables"
   ]
  },
  {
   "cell_type": "markdown",
   "metadata": {
    "slideshow": {
     "slide_type": "fragment"
    }
   },
   "source": [
    "We are usually interested in numeric quantities associated with events. When a random event is represented using a numeric quantity we refer to it as a random variable. Notationally, we use capital letters for random variables and lowercase letters for non-random quantities.\n",
    "\n",
    "To allow us to represent what values of a random variable are more probably than others, we need some additional definitions."
   ]
  },
  {
   "cell_type": "markdown",
   "metadata": {
    "slideshow": {
     "slide_type": "fragment"
    }
   },
   "source": [
    "__Definition:__ The cumulative distribution function (CDF) $F$ for a random variable $X$ is equal to the probability measure for the event that consists of all possible outcomes with a value of the random variable $X$ less than or equal to $x$, that is, $F(x) = P[X \\leq x]$."
   ]
  },
  {
   "cell_type": "markdown",
   "metadata": {
    "slideshow": {
     "slide_type": "fragment"
    }
   },
   "source": [
    "**Example:**  Consider the roll of a single six-sided die.  The random variable here is the number of points showing.  What is the CDF?"
   ]
  },
  {
   "cell_type": "code",
   "execution_count": 22,
   "metadata": {
    "slideshow": {
     "slide_type": "fragment"
    }
   },
   "outputs": [
    {
     "name": "stdout",
     "output_type": "stream",
     "text": [
      "\n"
     ]
    },
    {
     "data": {
      "image/png": "[encoded data removed]",
      "text/plain": [
       "<Figure size 432x288 with 1 Axes>"
      ]
     },
     "metadata": {
      "image/png": {
       "height": 268,
       "width": 394
      },
      "needs_background": "light"
     },
     "output_type": "display_data"
    }
   ],
   "source": [
    "plt.figure()\n",
    "for i in range(7):\n",
    "    plt.plot(i,i/6.,'ob')\n",
    "    plt.plot([i,i+1],[i/6.,i/6.],'-b')\n",
    "plt.xlim([-0.5,7])\n",
    "plt.ylim([-0.05,1.1])\n",
    "plt.xlabel('Number of points showing',size=14)\n",
    "plt.ylabel(r'$P[X\\leq x]$',size=14)\n",
    "print('')"
   ]
  },
  {
   "cell_type": "markdown",
   "metadata": {
    "slideshow": {
     "slide_type": "fragment"
    }
   },
   "source": [
    "Now, consider this CDF of some random variable:"
   ]
  },
  {
   "cell_type": "code",
   "execution_count": 23,
   "metadata": {
    "slideshow": {
     "slide_type": "-"
    }
   },
   "outputs": [
    {
     "name": "stdout",
     "output_type": "stream",
     "text": [
      "\n"
     ]
    },
    {
     "data": {
      "image/png": "[encoded data removed]",
      "text/plain": [
       "<Figure size 432x288 with 1 Axes>"
      ]
     },
     "metadata": {
      "image/png": {
       "height": 268,
       "width": 392
      },
      "needs_background": "light"
     },
     "output_type": "display_data"
    }
   ],
   "source": [
    "from scipy.stats import norm\n",
    "plt.figure()\n",
    "x = np.linspace(norm.ppf(0.001), norm.ppf(0.999), 100)\n",
    "plt.plot(x, norm.cdf(x),'b-', lw=5, alpha=0.6)\n",
    "plt.xlabel('x',size=14)\n",
    "plt.ylabel(r'$P[X\\leq x]$',size=14)\n",
    "print('')"
   ]
  },
  {
   "cell_type": "markdown",
   "metadata": {},
   "source": [
    "What does it mean when the slope is steeper for some $x$ values? The slope tells us how likely values are in a particular range. This is important enough that we define a function to capture it."
   ]
  },
  {
   "cell_type": "markdown",
   "metadata": {},
   "source": [
    "**Definition:** The _probability density function_ (PDF) is the derivative of the CDF (when it is defined):\n",
    "\n",
    "$$ f(x) = \\frac{dF(x)}{dx}.$$"
   ]
  },
  {
   "cell_type": "markdown",
   "metadata": {},
   "source": [
    "Often we will go the other way as well:\n",
    "\n",
    "$$ F(x) = \\int_{-\\infty}^{x} f(t)\\; dt $$"
   ]
  },
  {
   "cell_type": "markdown",
   "metadata": {},
   "source": [
    "You should be able to see that:\n",
    "\n",
    "$$ \\int_{-\\infty}^{+\\infty} f(x)\\; dx = 1 $$\n",
    "\n",
    "and\n",
    "\n",
    "$$      f(x) \\geq 0 $$"
   ]
  },
  {
   "cell_type": "markdown",
   "metadata": {
    "slideshow": {
     "slide_type": "fragment"
    }
   },
   "source": [
    "Now, for a discrete random variable, the CDF is not differentiable (because the CDF is a step function). For the PDF of discrete RVs, we simply plot the probability function of each value.  That is, we plot $P[X = x]$ for the various values of $x$.\n",
    "\n",
    "Another way to think of the PDF is that it consists of impulses at the points of discontinuity of the CDF. "
   ]
  },
  {
   "cell_type": "markdown",
   "metadata": {
    "slideshow": {
     "slide_type": "fragment"
    }
   },
   "source": [
    "For our example of the single die:"
   ]
  },
  {
   "cell_type": "code",
   "execution_count": 7,
   "metadata": {
    "slideshow": {
     "slide_type": "-"
    }
   },
   "outputs": [
    {
     "name": "stdout",
     "output_type": "stream",
     "text": [
      "\n"
     ]
    },
    {
     "data": {
      "image/png": "[encoded data removed]",
      "text/plain": [
       "<Figure size 432x288 with 1 Axes>"
      ]
     },
     "metadata": {
      "image/png": {
       "height": 268,
       "width": 392
      },
      "needs_background": "light"
     },
     "output_type": "display_data"
    }
   ],
   "source": [
    "plt.figure()\n",
    "x = np.arange(7)\n",
    "plt.plot(x, 7*[1/6.], 'bo', ms=8)\n",
    "plt.vlines(x, 0, 1/6., colors='b', lw=5, alpha=0.5)\n",
    "plt.xlim([-0.5,6.5])\n",
    "plt.ylim([0,1.1])\n",
    "plt.xlabel('Number of points showing',size=14)\n",
    "plt.ylabel(r'$P[X = x]$',size=14)\n",
    "print('')"
   ]
  }
 ],
 "metadata": {
  "anaconda-cloud": {},
  "celltoolbar": "Slideshow",
  "kernelspec": {
   "display_name": "Python 3",
   "language": "python",
   "name": "python3"
  },
  "language_info": {
   "codemirror_mode": {
    "name": "ipython",
    "version": 3
   },
   "file_extension": ".py",
   "mimetype": "text/x-python",
   "name": "python",
   "nbconvert_exporter": "python",
   "pygments_lexer": "ipython3",
   "version": "3.6.4"
  }
 },
 "nbformat": 4,
 "nbformat_minor": 1
}
