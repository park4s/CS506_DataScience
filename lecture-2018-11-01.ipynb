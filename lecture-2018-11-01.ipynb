{
 "cells": [
  {
   "cell_type": "markdown",
   "metadata": {
    "slideshow": {
     "slide_type": "slide"
    }
   },
   "source": [
    "# Logistic Regression"
   ]
  },
  {
   "cell_type": "code",
   "execution_count": 2,
   "metadata": {
    "slideshow": {
     "slide_type": "skip"
    }
   },
   "outputs": [],
   "source": [
    "import time\n",
    "\n",
    "import numpy as np\n",
    "import matplotlib.pyplot as plt\n",
    "import pandas as pd\n",
    "\n",
    "import scipy as sp\n",
    "import scipy.sparse.linalg as linalg\n",
    "import scipy.cluster.hierarchy as hr\n",
    "from scipy.spatial.distance import pdist, squareform\n",
    "\n",
    "import sklearn.datasets as datasets\n",
    "import sklearn.metrics as metrics\n",
    "import sklearn.utils as utils\n",
    "import sklearn.linear_model as linear_model\n",
    "import sklearn.model_selection as cross_validation\n",
    "import sklearn.cluster as cluster\n",
    "from sklearn.neighbors import KNeighborsClassifier\n",
    "from sklearn.decomposition import TruncatedSVD\n",
    "from sklearn.preprocessing import StandardScaler\n",
    "\n",
    "import statsmodels.api as sm\n",
    "\n",
    "from patsy import dmatrices\n",
    "\n",
    "import seaborn as sns\n",
    "%matplotlib inline"
   ]
  },
  {
   "cell_type": "code",
   "execution_count": 3,
   "metadata": {
    "slideshow": {
     "slide_type": "skip"
    }
   },
   "outputs": [
    {
     "data": {
      "text/html": [
       "<style>\n",
       " .container.slides .celltoolbar, .container.slides .hide-in-slideshow {\n",
       "    display: None ! important;\n",
       "}\n",
       "</style>"
      ],
      "text/plain": [
       "<IPython.core.display.HTML object>"
      ]
     },
     "metadata": {},
     "output_type": "display_data"
    }
   ],
   "source": [
    "%%html\n",
    "<style>\n",
    " .container.slides .celltoolbar, .container.slides .hide-in-slideshow {\n",
    "    display: None ! important;\n",
    "}\n",
    "</style>"
   ]
  },
  {
   "cell_type": "markdown",
   "metadata": {
    "slideshow": {
     "slide_type": "skip"
    }
   },
   "source": [
    "%Set up useful MathJax (Latex) macros.\n",
    "%See http://docs.mathjax.org/en/latest/tex.html#defining-tex-macros\n",
    "%These are for use in the slideshow\n",
    "$\\newcommand{\\mat}[1]{\\left[\\begin{array}#1\\end{array}\\right]}$\n",
    "$\\newcommand{\\vx}{{\\mathbf x}}$\n",
    "$\\newcommand{\\hx}{\\hat{\\mathbf x}}$\n",
    "$\\newcommand{\\vbt}{{\\mathbf\\beta}}$\n",
    "$\\newcommand{\\vy}{{\\mathbf y}}$\n",
    "$\\newcommand{\\vz}{{\\mathbf z}}$\n",
    "$\\newcommand{\\R}{{\\mathbb{R}}}$\n",
    "$\\newcommand{\\vu}{{\\mathbf u}}$\n",
    "$\\newcommand{\\vv}{{\\mathbf v}}$\n",
    "$\\newcommand{\\vw}{{\\mathbf w}}$\n",
    "$\\newcommand{\\col}{{\\operatorname{Col}}}$\n",
    "$\\newcommand{\\nul}{{\\operatorname{Nul}}}$\n",
    "$\\newcommand{\\vb}{{\\mathbf b}}$\n",
    "$\\newcommand{\\va}{{\\mathbf a}}$\n",
    "$\\newcommand{\\ve}{{\\mathbf e}}$\n",
    "$\\newcommand{\\setb}{{\\mathcal{B}}}$\n",
    "$\\newcommand{\\rank}{{\\operatorname{rank}}}$\n",
    "$\\newcommand{\\vp}{{\\mathbf p}}$"
   ]
  },
  {
   "cell_type": "raw",
   "metadata": {
    "slideshow": {
     "slide_type": "skip"
    }
   },
   "source": [
    "\\newcommand{\\mat}[1]{\\left[\\begin{array}#1\\end{array}\\right]}\n",
    "\\newcommand{\\vx}{{\\mathbf x}}\n",
    "\\newcommand{\\hx}{\\hat{\\mathbf x}}\n",
    "\\newcommand{\\vbt}{{\\mathbf\\beta}}\n",
    "\\newcommand{\\vy}{{\\mathbf y}}\n",
    "\\newcommand{\\vz}{{\\mathbf z}}\n",
    "\\newcommand{\\vb}{{\\mathbf b}}\n",
    "\\newcommand{\\vu}{{\\mathbf u}}\n",
    "\\newcommand{\\vv}{{\\mathbf v}}\n",
    "\\newcommand{\\vw}{{\\mathbf w}}\n",
    "\\newcommand{\\va}{{\\mathbf a}}\n",
    "\\newcommand{\\ve}{{\\mathbf e}}\n",
    "\\newcommand{\\vp}{{\\mathbf p}}\n",
    "\\newcommand{\\R}{{\\mathbb{R}}}\n",
    "\\newcommand{\\col}{{\\operatorname{Col}}}\n",
    "\\newcommand{\\nul}{{\\operatorname{Nul}}}\n",
    "\\newcommand{\\rank}{{\\operatorname{rank}}}\n",
    "\\newcommand{\\setb}{{\\mathcal{B}}}"
   ]
  },
  {
   "cell_type": "markdown",
   "metadata": {
    "slideshow": {
     "slide_type": "slide"
    }
   },
   "source": [
    "## Overview"
   ]
  },
  {
   "cell_type": "markdown",
   "metadata": {
    "slideshow": {
     "slide_type": "slide"
    }
   },
   "source": [
    "We have studied the linear regression techniques, using which a continuous-valued observation is estimated using a linear (or affine) function of the independent variables."
   ]
  },
  {
   "cell_type": "markdown",
   "metadata": {
    "slideshow": {
     "slide_type": "fragment"
    }
   },
   "source": [
    "We now consider an alternate scenario in which we observe a binary variable (i.e., one which can only have a $0$ or $1$ value). These could represent discrete binary feature dimensions such as pass/fail, admit/reject, present/absent, and so on.\n",
    "\n",
    "In this scenario, we might believe that there is some **probability** (i.e., a value within a continuous bounded range) of observing a $1$, and that this probability is a function of certain independent variables."
   ]
  },
  {
   "cell_type": "markdown",
   "metadata": {
    "slideshow": {
     "slide_type": "fragment"
    }
   },
   "source": [
    "The key properties of a problem or scenario that make it appropriate for modeling using logistic regression are as follows.\n",
    "    \n",
    "* What you can observe is a __categorical__ variable.\n",
    "* What you want to estimate is a __probability__ of seeing a particular value of the categorical variable.\n",
    "* You believe a linear dependency on the features makes sense in context."
   ]
  },
  {
   "cell_type": "markdown",
   "metadata": {
    "slideshow": {
     "slide_type": "slide"
    }
   },
   "source": [
    "## Logistic regression"
   ]
  },
  {
   "cell_type": "markdown",
   "metadata": {
    "slideshow": {
     "slide_type": "fragment"
    }
   },
   "source": [
    "When employing logistic regression techniques, we are concerned with estimating a __probability__. However, all that is available are categorical observations, which we will represent using the feature dimension $\\{0,1\\}$."
   ]
  },
  {
   "cell_type": "markdown",
   "metadata": {
    "slideshow": {
     "slide_type": "fragment"
    }
   },
   "source": [
    "A linear function like $\\alpha + \\beta x$ cannot be used to predict probability directly, because the linear function takes on all values (from -$\\infty$ to +$\\infty$), and probability only ranges over $(0, 1)$. However, there is a transformation of probability that often works: it is called __log-odds__."
   ]
  },
  {
   "cell_type": "markdown",
   "metadata": {
    "slideshow": {
     "slide_type": "fragment"
    }
   },
   "source": [
    "For any probabilty $p$, the __odds__ are defined as $\\frac{p}{1-p}$.   Notice that odds vary from 0 to $\\infty$, and odds < 1 indicates that $p < 1/2$.\n",
    "\n",
    "Now, there is a good argument that to fit a linear function, instead of using odds, we should use log-odds.  That is simply $\\log (\\frac{p}{1-p})$."
   ]
  },
  {
   "cell_type": "markdown",
   "metadata": {
    "slideshow": {
     "slide_type": "fragment"
    }
   },
   "source": [
    "So, logistic regression involves the following: establshing a relationship between a linear regression described by $\\alpha + \\beta x$ and the log-odds $\\log(\\frac{p}{1-p})$. That is, we fit:\n",
    "\n",
    "$$\\alpha + \\beta x = \\log \\frac{p(x)}{1-p(x)}$$"
   ]
  },
  {
   "cell_type": "markdown",
   "metadata": {
    "slideshow": {
     "slide_type": "fragment"
    }
   },
   "source": [
    "$$e^{\\alpha + \\beta x} = \\frac{p(x)}{1-p(x)}$$"
   ]
  },
  {
   "cell_type": "markdown",
   "metadata": {
    "slideshow": {
     "slide_type": "fragment"
    }
   },
   "source": [
    "$$e^{\\alpha + \\beta x} (1-p(x)) = p(x)$$"
   ]
  },
  {
   "cell_type": "markdown",
   "metadata": {
    "slideshow": {
     "slide_type": "fragment"
    }
   },
   "source": [
    "$$ e^{\\alpha + \\beta x} - p(x)e^{\\alpha + \\beta x} = p(x)$$"
   ]
  },
  {
   "cell_type": "markdown",
   "metadata": {
    "slideshow": {
     "slide_type": "fragment"
    }
   },
   "source": [
    "$$e^{\\alpha + \\beta x}  = p(x) + p(x)e^{\\alpha + \\beta x}$$"
   ]
  },
  {
   "cell_type": "markdown",
   "metadata": {
    "slideshow": {
     "slide_type": "fragment"
    }
   },
   "source": [
    "$$e^{\\alpha + \\beta x}  = p(x)(1 + e^{\\alpha + \\beta x})$$"
   ]
  },
  {
   "cell_type": "markdown",
   "metadata": {
    "slideshow": {
     "slide_type": "fragment"
    }
   },
   "source": [
    "$$\\frac{e^{\\alpha + \\beta x}}{1 +e^{\\alpha + \\beta x}} = p(x)$$"
   ]
  },
  {
   "cell_type": "markdown",
   "metadata": {
    "slideshow": {
     "slide_type": "fragment"
    }
   },
   "source": [
    "So, logistic regression fits a probability of the following form:\n",
    "        $$p(x) = P(y=1\\mid x) = \\frac{e^{\\alpha+\\beta x}}{1+e^{\\alpha+\\beta x}} = \\frac{1}{1+e^{-(\\alpha+\\beta x)}}$$\n",
    "        \n",
    "This is a __sigmoid function__. When $\\beta > 0$, $x\\rightarrow \\infty$, then $p(x)\\rightarrow 1$ and when $x\\rightarrow -\\infty$, then $p(x)\\rightarrow 0$.\n",
    "\n"
   ]
  },
  {
   "cell_type": "code",
   "execution_count": 12,
   "metadata": {
    "scrolled": true,
    "slideshow": {
     "slide_type": "fragment"
    }
   },
   "outputs": [
    {
     "data": {
      "image/png": "[encoded data removed]",
      "text/plain": [
       "<Figure size 576x432 with 1 Axes>"
      ]
     },
     "metadata": {
      "needs_background": "light"
     },
     "output_type": "display_data"
    }
   ],
   "source": [
    "alphas = [-4, -8,-12,-20]\n",
    "betas = [0.4,0.4,0.6,1]\n",
    "x = np.arange(40)\n",
    "fig = plt.figure(figsize=(8, 6)) \n",
    "ax = plt.subplot(111)\n",
    "\n",
    "for i in range(len(alphas)):\n",
    "    a = alphas[i]\n",
    "    b = betas[i]\n",
    "    y = np.exp(a+b*x)/(1+np.exp(a+b*x)) # This is what we are plotting\n",
    "    plt.plot(x,y,label=r\"$\\alpha=%d,$    $\\beta=%3.1f$\" % (a,b))\n",
    "\n",
    "y = np.zeros(len(x)) + 0.5\n",
    "plt.plot(x,y,label=r\"log-odds = 0\")\n",
    "\n",
    "plt.plot\n",
    "plt.xlabel('x')\n",
    "plt.ylabel('$p(x)$')\n",
    "_=ax.legend(loc='center left', bbox_to_anchor=(1, 0.5), prop={'size': 20})"
   ]
  },
  {
   "cell_type": "markdown",
   "metadata": {
    "slideshow": {
     "slide_type": "fragment"
    }
   },
   "source": [
    "We note the following about the above:\n",
    "* the parameter $\\beta$ controls how fast $p(x)$ grows from $0$ to $1$, and\n",
    "* the value of -$\\alpha$/$\\beta$ shows the value of $x$ for which $p(x)=0.5$.\n",
    "\n",
    "Another interpretation of $\\alpha$ is that it gives the __base rate__: the unconditional probability of a 1. That is, if you knew nothing about a particular data item, then $p(x) = 1/(1+e^{-\\alpha})$."
   ]
  },
  {
   "cell_type": "markdown",
   "metadata": {
    "slideshow": {
     "slide_type": "fragment"
    }
   },
   "source": [
    "The function $f(x) = \\log (x/(1-x))$ is called the __logit__ function. So a compact way to describe logistic regression is that it finds regression coefficients $\\alpha, \\beta$ to fit:\n",
    "\n",
    "$$\\text{logit}\\left(p(x)\\right)=\\log\\left(\\frac{p(x)}{1-p(x)} \\right) = \\alpha + \\beta x$$"
   ]
  },
  {
   "cell_type": "markdown",
   "metadata": {
    "slideshow": {
     "slide_type": "fragment"
    }
   },
   "source": [
    "Note also that the __inverse__ logit function is:\n",
    "\n",
    "$$\\text{logit}^{-1}(x) = \\frac{e^x}{1 + e^x}$$\n",
    "\n",
    "Somewhat confusingly, this is called the __logistic__ function."
   ]
  },
  {
   "cell_type": "markdown",
   "metadata": {},
   "source": [
    "So, the best way to think of logistic regression is that we compute a linear function:\n",
    "    \n",
    "$$\\alpha + \\beta x$$\n",
    "    \n",
    "and then \"map\" that to a probability using the $\\text{logit}^{-1}$ function:\n",
    "\n",
    "$$\\frac{e^{\\alpha+\\beta x}}{1+e^{\\alpha+\\beta x}}$$"
   ]
  },
  {
   "cell_type": "markdown",
   "metadata": {
    "slideshow": {
     "slide_type": "slide"
    }
   },
   "source": [
    "## Logistic vs. linear regression"
   ]
  },
  {
   "cell_type": "markdown",
   "metadata": {
    "slideshow": {
     "slide_type": "fragment"
    }
   },
   "source": [
    "It is useful to compare linear and logistic regression techniques."
   ]
  },
  {
   "cell_type": "markdown",
   "metadata": {
    "slideshow": {
     "slide_type": "fragment"
    }
   },
   "source": [
    "When using linear regression, we find the model parameters $\\alpha$ and $\\beta$ to fit:\n",
    "\n",
    "$$y_i = \\alpha +\\beta x_i + \\epsilon_i$$\n",
    "\n",
    "We do the fitting by minimizing the sum of squares error ($\\Vert\\epsilon\\Vert$). This can be done in closed form (recall that the closed form can be found under appropriate conditions using linear algebra and/or calculus)."
   ]
  },
  {
   "cell_type": "markdown",
   "metadata": {
    "slideshow": {
     "slide_type": "fragment"
    }
   },
   "source": [
    "Now, if $\\epsilon_i$ comes from a normal distribution with mean zero and some fixed variance, then minimizing the sum of squares error is exactly the same as finding the maximum likelihood of the data with respect to the probability of the errors.\n",
    "\n",
    "So, in the case of linear regression, it is a lucky fact that the maximum likelihood estimation (MLE) of $\\alpha$ and $\\beta$ can be found by a __closed-form__ calculation."
   ]
  },
  {
   "cell_type": "markdown",
   "metadata": {
    "slideshow": {
     "slide_type": "fragment"
    }
   },
   "source": [
    "When using logistic regression, we find the model parameters $\\alpha$ and $\\beta$ to fit: \n",
    "\n",
    "$$\\text{logit}(p(x_i)) = \\alpha + \\beta x_i$$\n",
    "\n",
    "Note that $\\text{Pr}(y_i=1\\mid x_i)=p(x_i)$. But how should we choose parameters?   "
   ]
  },
  {
   "cell_type": "markdown",
   "metadata": {
    "slideshow": {
     "slide_type": "fragment"
    }
   },
   "source": [
    "Here too, we can use maximum likelihood estimation of the parameters. That is, we choose the parameter values that maximize the likelihood of the data given the model."
   ]
  },
  {
   "cell_type": "markdown",
   "metadata": {
    "slideshow": {
     "slide_type": "fragment"
    }
   },
   "source": [
    "$$ \\text{Pr}(y_i \\mid x_i) = \\left\\{\\begin{array}{lr}\\text{logit}^{-1}(\\alpha + \\beta x_i)& \\text{if } y_i = 1\\\\\n",
    "1 - \\text{logit}^{-1}(\\alpha + \\beta x_i)& \\text{if } y_i = 0\\end{array}\\right.$$"
   ]
  },
  {
   "cell_type": "markdown",
   "metadata": {
    "slideshow": {
     "slide_type": "fragment"
    }
   },
   "source": [
    "We can write this as a single expression:\n",
    "\n",
    "$$\\text{Pr}(y_i \\mid x_i) = \\text{logit}^{-1}(\\alpha + \\beta x_i)^{y_i} (1-\\text{logit}^{-1}(\\alpha + \\beta x_i))^{1-y_i} $$"
   ]
  },
  {
   "cell_type": "markdown",
   "metadata": {
    "slideshow": {
     "slide_type": "fragment"
    }
   },
   "source": [
    "We then use this to compute the __likelihood__ of parameters $\\alpha$, $\\beta$:\n",
    "\n",
    "$$L(\\alpha, \\beta \\mid x_i, y_i) = \\text{logit}^{-1}(\\alpha + \\beta x_i)^{y_i} (1-\\text{logit}^{-1}(\\alpha + \\beta x_i))^{1-y_i}$$\n",
    "\n",
    "which is a function that we can maximize via various kinds of gradient descent."
   ]
  },
  {
   "cell_type": "markdown",
   "metadata": {
    "slideshow": {
     "slide_type": "slide"
    }
   },
   "source": [
    "## Example: probability of admission"
   ]
  },
  {
   "cell_type": "markdown",
   "metadata": {
    "slideshow": {
     "slide_type": "fragment"
    }
   },
   "source": [
    "This example is drawn from http://www.ats.ucla.edu/stat/r/dae/logit.htm. Suppose a researcher is interested in how variables, such as _GRE_ (Graduate Record Exam scores), _GPA_ (grade point average) and the prestige or rank of the undergraduate institution affect admission into graduate school. The response variable, admit/reject, is a binary variable."
   ]
  },
  {
   "cell_type": "markdown",
   "metadata": {
    "slideshow": {
     "slide_type": "fragment"
    }
   },
   "source": [
    "There are three predictor variables: __gre,__ __gpa__ and __rank.__ We will treat the variables _gre_ and _gpa_ as continuous. The variable _rank_ takes on the values 1 through 4. Institutions with a rank of 1 have the highest prestige, while those with a rank of 4 have the lowest. "
   ]
  },
  {
   "cell_type": "code",
   "execution_count": 5,
   "metadata": {
    "slideshow": {
     "slide_type": "fragment"
    }
   },
   "outputs": [
    {
     "data": {
      "text/html": [
       "<div>\n",
       "<style scoped>\n",
       "    .dataframe tbody tr th:only-of-type {\n",
       "        vertical-align: middle;\n",
       "    }\n",
       "\n",
       "    .dataframe tbody tr th {\n",
       "        vertical-align: top;\n",
       "    }\n",
       "\n",
       "    .dataframe thead th {\n",
       "        text-align: right;\n",
       "    }\n",
       "</style>\n",
       "<table border=\"1\" class=\"dataframe\">\n",
       "  <thead>\n",
       "    <tr style=\"text-align: right;\">\n",
       "      <th></th>\n",
       "      <th>admit</th>\n",
       "      <th>gre</th>\n",
       "      <th>gpa</th>\n",
       "      <th>rank</th>\n",
       "    </tr>\n",
       "  </thead>\n",
       "  <tbody>\n",
       "    <tr>\n",
       "      <th>0</th>\n",
       "      <td>0</td>\n",
       "      <td>380</td>\n",
       "      <td>3.61</td>\n",
       "      <td>3</td>\n",
       "    </tr>\n",
       "    <tr>\n",
       "      <th>1</th>\n",
       "      <td>1</td>\n",
       "      <td>660</td>\n",
       "      <td>3.67</td>\n",
       "      <td>3</td>\n",
       "    </tr>\n",
       "    <tr>\n",
       "      <th>2</th>\n",
       "      <td>1</td>\n",
       "      <td>800</td>\n",
       "      <td>4.00</td>\n",
       "      <td>1</td>\n",
       "    </tr>\n",
       "    <tr>\n",
       "      <th>3</th>\n",
       "      <td>1</td>\n",
       "      <td>640</td>\n",
       "      <td>3.19</td>\n",
       "      <td>4</td>\n",
       "    </tr>\n",
       "    <tr>\n",
       "      <th>4</th>\n",
       "      <td>0</td>\n",
       "      <td>520</td>\n",
       "      <td>2.93</td>\n",
       "      <td>4</td>\n",
       "    </tr>\n",
       "    <tr>\n",
       "      <th>5</th>\n",
       "      <td>1</td>\n",
       "      <td>760</td>\n",
       "      <td>3.00</td>\n",
       "      <td>2</td>\n",
       "    </tr>\n",
       "    <tr>\n",
       "      <th>6</th>\n",
       "      <td>1</td>\n",
       "      <td>560</td>\n",
       "      <td>2.98</td>\n",
       "      <td>1</td>\n",
       "    </tr>\n",
       "    <tr>\n",
       "      <th>7</th>\n",
       "      <td>0</td>\n",
       "      <td>400</td>\n",
       "      <td>3.08</td>\n",
       "      <td>2</td>\n",
       "    </tr>\n",
       "    <tr>\n",
       "      <th>8</th>\n",
       "      <td>1</td>\n",
       "      <td>540</td>\n",
       "      <td>3.39</td>\n",
       "      <td>3</td>\n",
       "    </tr>\n",
       "    <tr>\n",
       "      <th>9</th>\n",
       "      <td>0</td>\n",
       "      <td>700</td>\n",
       "      <td>3.92</td>\n",
       "      <td>2</td>\n",
       "    </tr>\n",
       "    <tr>\n",
       "      <th>10</th>\n",
       "      <td>0</td>\n",
       "      <td>800</td>\n",
       "      <td>4.00</td>\n",
       "      <td>4</td>\n",
       "    </tr>\n",
       "    <tr>\n",
       "      <th>11</th>\n",
       "      <td>0</td>\n",
       "      <td>440</td>\n",
       "      <td>3.22</td>\n",
       "      <td>1</td>\n",
       "    </tr>\n",
       "    <tr>\n",
       "      <th>12</th>\n",
       "      <td>1</td>\n",
       "      <td>760</td>\n",
       "      <td>4.00</td>\n",
       "      <td>1</td>\n",
       "    </tr>\n",
       "    <tr>\n",
       "      <th>13</th>\n",
       "      <td>0</td>\n",
       "      <td>700</td>\n",
       "      <td>3.08</td>\n",
       "      <td>2</td>\n",
       "    </tr>\n",
       "    <tr>\n",
       "      <th>14</th>\n",
       "      <td>1</td>\n",
       "      <td>700</td>\n",
       "      <td>4.00</td>\n",
       "      <td>1</td>\n",
       "    </tr>\n",
       "    <tr>\n",
       "      <th>15</th>\n",
       "      <td>0</td>\n",
       "      <td>480</td>\n",
       "      <td>3.44</td>\n",
       "      <td>3</td>\n",
       "    </tr>\n",
       "    <tr>\n",
       "      <th>16</th>\n",
       "      <td>0</td>\n",
       "      <td>780</td>\n",
       "      <td>3.87</td>\n",
       "      <td>4</td>\n",
       "    </tr>\n",
       "    <tr>\n",
       "      <th>17</th>\n",
       "      <td>0</td>\n",
       "      <td>360</td>\n",
       "      <td>2.56</td>\n",
       "      <td>3</td>\n",
       "    </tr>\n",
       "    <tr>\n",
       "      <th>18</th>\n",
       "      <td>0</td>\n",
       "      <td>800</td>\n",
       "      <td>3.75</td>\n",
       "      <td>2</td>\n",
       "    </tr>\n",
       "    <tr>\n",
       "      <th>19</th>\n",
       "      <td>1</td>\n",
       "      <td>540</td>\n",
       "      <td>3.81</td>\n",
       "      <td>1</td>\n",
       "    </tr>\n",
       "  </tbody>\n",
       "</table>\n",
       "</div>"
      ],
      "text/plain": [
       "    admit  gre   gpa  rank\n",
       "0       0  380  3.61     3\n",
       "1       1  660  3.67     3\n",
       "2       1  800  4.00     1\n",
       "3       1  640  3.19     4\n",
       "4       0  520  2.93     4\n",
       "5       1  760  3.00     2\n",
       "6       1  560  2.98     1\n",
       "7       0  400  3.08     2\n",
       "8       1  540  3.39     3\n",
       "9       0  700  3.92     2\n",
       "10      0  800  4.00     4\n",
       "11      0  440  3.22     1\n",
       "12      1  760  4.00     1\n",
       "13      0  700  3.08     2\n",
       "14      1  700  4.00     1\n",
       "15      0  480  3.44     3\n",
       "16      0  780  3.87     4\n",
       "17      0  360  2.56     3\n",
       "18      0  800  3.75     2\n",
       "19      1  540  3.81     1"
      ]
     },
     "execution_count": 5,
     "metadata": {},
     "output_type": "execute_result"
    }
   ],
   "source": [
    "# Data source: http://www.ats.ucla.edu/stat/data/binary.csv.\n",
    "df = pd.read_csv('ats-admissions.csv') \n",
    "df.head(20)"
   ]
  },
  {
   "cell_type": "code",
   "execution_count": 4,
   "metadata": {
    "slideshow": {
     "slide_type": "fragment"
    }
   },
   "outputs": [
    {
     "data": {
      "text/html": [
       "<div>\n",
       "<style scoped>\n",
       "    .dataframe tbody tr th:only-of-type {\n",
       "        vertical-align: middle;\n",
       "    }\n",
       "\n",
       "    .dataframe tbody tr th {\n",
       "        vertical-align: top;\n",
       "    }\n",
       "\n",
       "    .dataframe thead th {\n",
       "        text-align: right;\n",
       "    }\n",
       "</style>\n",
       "<table border=\"1\" class=\"dataframe\">\n",
       "  <thead>\n",
       "    <tr style=\"text-align: right;\">\n",
       "      <th></th>\n",
       "      <th>admit</th>\n",
       "      <th>gre</th>\n",
       "      <th>gpa</th>\n",
       "      <th>rank</th>\n",
       "    </tr>\n",
       "  </thead>\n",
       "  <tbody>\n",
       "    <tr>\n",
       "      <th>count</th>\n",
       "      <td>400.000000</td>\n",
       "      <td>400.000000</td>\n",
       "      <td>400.000000</td>\n",
       "      <td>400.00000</td>\n",
       "    </tr>\n",
       "    <tr>\n",
       "      <th>mean</th>\n",
       "      <td>0.317500</td>\n",
       "      <td>587.700000</td>\n",
       "      <td>3.389900</td>\n",
       "      <td>2.48500</td>\n",
       "    </tr>\n",
       "    <tr>\n",
       "      <th>std</th>\n",
       "      <td>0.466087</td>\n",
       "      <td>115.516536</td>\n",
       "      <td>0.380567</td>\n",
       "      <td>0.94446</td>\n",
       "    </tr>\n",
       "    <tr>\n",
       "      <th>min</th>\n",
       "      <td>0.000000</td>\n",
       "      <td>220.000000</td>\n",
       "      <td>2.260000</td>\n",
       "      <td>1.00000</td>\n",
       "    </tr>\n",
       "    <tr>\n",
       "      <th>25%</th>\n",
       "      <td>0.000000</td>\n",
       "      <td>520.000000</td>\n",
       "      <td>3.130000</td>\n",
       "      <td>2.00000</td>\n",
       "    </tr>\n",
       "    <tr>\n",
       "      <th>50%</th>\n",
       "      <td>0.000000</td>\n",
       "      <td>580.000000</td>\n",
       "      <td>3.395000</td>\n",
       "      <td>2.00000</td>\n",
       "    </tr>\n",
       "    <tr>\n",
       "      <th>75%</th>\n",
       "      <td>1.000000</td>\n",
       "      <td>660.000000</td>\n",
       "      <td>3.670000</td>\n",
       "      <td>3.00000</td>\n",
       "    </tr>\n",
       "    <tr>\n",
       "      <th>max</th>\n",
       "      <td>1.000000</td>\n",
       "      <td>800.000000</td>\n",
       "      <td>4.000000</td>\n",
       "      <td>4.00000</td>\n",
       "    </tr>\n",
       "  </tbody>\n",
       "</table>\n",
       "</div>"
      ],
      "text/plain": [
       "            admit         gre         gpa       rank\n",
       "count  400.000000  400.000000  400.000000  400.00000\n",
       "mean     0.317500  587.700000    3.389900    2.48500\n",
       "std      0.466087  115.516536    0.380567    0.94446\n",
       "min      0.000000  220.000000    2.260000    1.00000\n",
       "25%      0.000000  520.000000    3.130000    2.00000\n",
       "50%      0.000000  580.000000    3.395000    2.00000\n",
       "75%      1.000000  660.000000    3.670000    3.00000\n",
       "max      1.000000  800.000000    4.000000    4.00000"
      ]
     },
     "execution_count": 4,
     "metadata": {},
     "output_type": "execute_result"
    }
   ],
   "source": [
    "df.describe()"
   ]
  },
  {
   "cell_type": "code",
   "execution_count": 5,
   "metadata": {
    "slideshow": {
     "slide_type": "fragment"
    }
   },
   "outputs": [
    {
     "data": {
      "image/png": "[encoded data removed]",
      "text/plain": [
       "<Figure size 432x288 with 4 Axes>"
      ]
     },
     "metadata": {
      "needs_background": "light"
     },
     "output_type": "display_data"
    }
   ],
   "source": [
    "df.hist()"
   ]
  },
  {
   "cell_type": "markdown",
   "metadata": {
    "slideshow": {
     "slide_type": "slide"
    }
   },
   "source": [
    "Let's look at how each independent variable affects admission probability. We begin with **rank**."
   ]
  },
  {
   "cell_type": "code",
   "execution_count": 8,
   "metadata": {
    "scrolled": false,
    "slideshow": {
     "slide_type": "fragment"
    }
   },
   "outputs": [
    {
     "name": "stdout",
     "output_type": "stream",
     "text": [
      "         admit         gre       gpa\n",
      "rank                                \n",
      "1     0.540984  611.803279  3.453115\n",
      "2     0.357616  596.026490  3.361656\n",
      "3     0.231405  574.876033  3.432893\n",
      "4     0.179104  570.149254  3.318358\n"
     ]
    },
    {
     "data": {
      "image/png": "[encoded data removed]",
      "text/plain": [
       "<Figure size 432x288 with 1 Axes>"
      ]
     },
     "metadata": {
      "needs_background": "light"
     },
     "output_type": "display_data"
    }
   ],
   "source": [
    "print(df.groupby('rank').mean()) # Means of all other columns.\n",
    "plt.plot(df.groupby('rank').mean()['admit'],'o-')\n",
    "plt.xlabel('Rank')\n",
    "plt.xlim([0.5,4.5])\n",
    "_ = plt.ylabel('P[admit]')"
   ]
  },
  {
   "cell_type": "markdown",
   "metadata": {
    "slideshow": {
     "slide_type": "fragment"
    }
   },
   "source": [
    "Next, we consider **gre**."
   ]
  },
  {
   "cell_type": "code",
   "execution_count": 10,
   "metadata": {
    "slideshow": {
     "slide_type": "-"
    }
   },
   "outputs": [
    {
     "data": {
      "image/png": "[encoded data removed]",
      "text/plain": [
       "<Figure size 432x288 with 1 Axes>"
      ]
     },
     "metadata": {
      "needs_background": "light"
     },
     "output_type": "display_data"
    }
   ],
   "source": [
    "plt.plot(df.groupby('gre').mean()['admit'])\n",
    "plt.xlabel('gre')\n",
    "_ = plt.ylabel('P[admit]')"
   ]
  },
  {
   "cell_type": "markdown",
   "metadata": {
    "slideshow": {
     "slide_type": "fragment"
    }
   },
   "source": [
    "Finally, we consider **gpa** (for this visualization, we aggregate GPA into 10 bins)."
   ]
  },
  {
   "cell_type": "code",
   "execution_count": 11,
   "metadata": {
    "slideshow": {
     "slide_type": "-"
    }
   },
   "outputs": [
    {
     "data": {
      "image/png": "[encoded data removed]",
      "text/plain": [
       "<Figure size 432x288 with 1 Axes>"
      ]
     },
     "metadata": {
      "needs_background": "light"
     },
     "output_type": "display_data"
    }
   ],
   "source": [
    "bins = np.linspace(df.gpa.min(), df.gpa.max(), 10)\n",
    "groups = df.groupby(np.digitize(df.gpa, bins))\n",
    "plt.plot(bins,groups.admit.mean())\n",
    "plt.xlabel('gpa')\n",
    "_ = plt.ylabel('P[admit]')"
   ]
  },
  {
   "cell_type": "markdown",
   "metadata": {
    "collapsed": true,
    "slideshow": {
     "slide_type": "fragment"
    }
   },
   "source": [
    "Furthermore, we can see that the independent variables are strongly correlated."
   ]
  },
  {
   "cell_type": "code",
   "execution_count": 47,
   "metadata": {
    "slideshow": {
     "slide_type": "-"
    }
   },
   "outputs": [
    {
     "data": {
      "image/png": "[encoded data removed]",
      "text/plain": [
       "<Figure size 432x288 with 4 Axes>"
      ]
     },
     "metadata": {},
     "output_type": "display_data"
    }
   ],
   "source": [
    "df1 = df[df['rank']==1]\n",
    "df2 = df[df['rank']==2]\n",
    "df3 = df[df['rank']==3]\n",
    "df4 = df[df['rank']==4]\n",
    "#\n",
    "ax = plt.subplot(221)\n",
    "df1.plot.scatter('gre','admit', ax = ax)\n",
    "plt.title('Rank 1 Institutions')\n",
    "ax = plt.subplot(222)\n",
    "df2.plot.scatter('gre','admit', ax = ax)\n",
    "plt.title('Rank 2 Institutions')\n",
    "ax = plt.subplot(223)\n",
    "df3.plot.scatter('gre','admit', ax = ax)\n",
    "plt.title('Rank 3 Institutions')\n",
    "ax = plt.subplot(224)\n",
    "plt.title('Rank 4 Institutions')\n",
    "df4.plot.scatter('gre','admit', ax = ax)\n",
    "plt.subplots_adjust(hspace=0.75,wspace=0.5)"
   ]
  },
  {
   "cell_type": "markdown",
   "metadata": {
    "slideshow": {
     "slide_type": "slide"
    }
   },
   "source": [
    "## Logistic regression in practice"
   ]
  },
  {
   "cell_type": "markdown",
   "metadata": {
    "slideshow": {
     "slide_type": "fragment"
    }
   },
   "source": [
    "Thus, within a scenario in which we apply logistic regression we:\n",
    "* have **input** data set entries $(x_i, y_i)$,\n",
    "* have **output** parameters $\\widehat{\\alpha}$ and $\\widehat{\\beta}$ that maximize the likelihood of the data given these parameters for the logistic regression model, and\n",
    "* use maximum likelihood estimation obtained via gradient descent to find the parameters."
   ]
  },
  {
   "cell_type": "markdown",
   "metadata": {
    "slideshow": {
     "slide_type": "fragment"
    }
   },
   "source": [
    "The standard package will give us a correlation coefficient (a $\\beta_i$ value) for each independent variable (feature). If we want to include a constant (i.e., $\\alpha$) we need to add a column of $1$ values (just like in linear regression)."
   ]
  },
  {
   "cell_type": "code",
   "execution_count": 14,
   "metadata": {
    "slideshow": {
     "slide_type": "fragment"
    }
   },
   "outputs": [
    {
     "data": {
      "text/plain": [
       "Index(['gre', 'gpa', 'rank', 'intercept'], dtype='object')"
      ]
     },
     "execution_count": 14,
     "metadata": {},
     "output_type": "execute_result"
    }
   ],
   "source": [
    "df['intercept'] = 1.0\n",
    "train_cols = df.columns[1:]\n",
    "train_cols"
   ]
  },
  {
   "cell_type": "code",
   "execution_count": 15,
   "metadata": {
    "slideshow": {
     "slide_type": "fragment"
    }
   },
   "outputs": [
    {
     "name": "stdout",
     "output_type": "stream",
     "text": [
      "Optimization terminated successfully.\n",
      "         Current function value: 0.574302\n",
      "         Iterations 6\n"
     ]
    }
   ],
   "source": [
    "logit = sm.Logit(df['admit'], df[train_cols])\n",
    " \n",
    "# Fit the model.\n",
    "result = logit.fit() "
   ]
  },
  {
   "cell_type": "code",
   "execution_count": 16,
   "metadata": {},
   "outputs": [
    {
     "data": {
      "text/html": [
       "<table class=\"simpletable\">\n",
       "<tr>\n",
       "        <td>Model:</td>              <td>Logit</td>      <td>Pseudo R-squared:</td>    <td>0.081</td>  \n",
       "</tr>\n",
       "<tr>\n",
       "  <td>Dependent Variable:</td>       <td>admit</td>            <td>AIC:</td>         <td>467.4418</td> \n",
       "</tr>\n",
       "<tr>\n",
       "         <td>Date:</td>        <td>2018-11-01 11:21</td>       <td>BIC:</td>         <td>483.4076</td> \n",
       "</tr>\n",
       "<tr>\n",
       "   <td>No. Observations:</td>         <td>400</td>        <td>Log-Likelihood:</td>    <td>-229.72</td> \n",
       "</tr>\n",
       "<tr>\n",
       "       <td>Df Model:</td>              <td>3</td>            <td>LL-Null:</td>        <td>-249.99</td> \n",
       "</tr>\n",
       "<tr>\n",
       "     <td>Df Residuals:</td>           <td>396</td>         <td>LLR p-value:</td>    <td>8.2071e-09</td>\n",
       "</tr>\n",
       "<tr>\n",
       "      <td>Converged:</td>           <td>1.0000</td>           <td>Scale:</td>         <td>1.0000</td>  \n",
       "</tr>\n",
       "<tr>\n",
       "    <td>No. Iterations:</td>        <td>6.0000</td>              <td></td>               <td></td>     \n",
       "</tr>\n",
       "</table>\n",
       "<table class=\"simpletable\">\n",
       "<tr>\n",
       "      <td></td>       <th>Coef.</th>  <th>Std.Err.</th>    <th>z</th>     <th>P>|z|</th> <th>[0.025</th>  <th>0.975]</th> \n",
       "</tr>\n",
       "<tr>\n",
       "  <th>gre</th>       <td>0.0023</td>   <td>0.0011</td>  <td>2.1010</td>  <td>0.0356</td> <td>0.0002</td>  <td>0.0044</td> \n",
       "</tr>\n",
       "<tr>\n",
       "  <th>gpa</th>       <td>0.7770</td>   <td>0.3275</td>  <td>2.3727</td>  <td>0.0177</td> <td>0.1352</td>  <td>1.4189</td> \n",
       "</tr>\n",
       "<tr>\n",
       "  <th>rank</th>      <td>-0.5600</td>  <td>0.1271</td>  <td>-4.4049</td> <td>0.0000</td> <td>-0.8092</td> <td>-0.3108</td>\n",
       "</tr>\n",
       "<tr>\n",
       "  <th>intercept</th> <td>-3.4495</td>  <td>1.1328</td>  <td>-3.0450</td> <td>0.0023</td> <td>-5.6699</td> <td>-1.2292</td>\n",
       "</tr>\n",
       "</table>"
      ],
      "text/plain": [
       "<class 'statsmodels.iolib.summary2.Summary'>\n",
       "\"\"\"\n",
       "                         Results: Logit\n",
       "=================================================================\n",
       "Model:              Logit            Pseudo R-squared: 0.081     \n",
       "Dependent Variable: admit            AIC:              467.4418  \n",
       "Date:               2018-11-01 11:21 BIC:              483.4076  \n",
       "No. Observations:   400              Log-Likelihood:   -229.72   \n",
       "Df Model:           3                LL-Null:          -249.99   \n",
       "Df Residuals:       396              LLR p-value:      8.2071e-09\n",
       "Converged:          1.0000           Scale:            1.0000    \n",
       "No. Iterations:     6.0000                                       \n",
       "------------------------------------------------------------------\n",
       "               Coef.   Std.Err.     z     P>|z|    [0.025   0.975]\n",
       "------------------------------------------------------------------\n",
       "gre            0.0023    0.0011   2.1010  0.0356   0.0002   0.0044\n",
       "gpa            0.7770    0.3275   2.3727  0.0177   0.1352   1.4189\n",
       "rank          -0.5600    0.1271  -4.4049  0.0000  -0.8092  -0.3108\n",
       "intercept     -3.4495    1.1328  -3.0450  0.0023  -5.6699  -1.2292\n",
       "=================================================================\n",
       "\n",
       "\"\"\""
      ]
     },
     "execution_count": 16,
     "metadata": {},
     "output_type": "execute_result"
    }
   ],
   "source": [
    "result.summary2()"
   ]
  },
  {
   "cell_type": "markdown",
   "metadata": {
    "slideshow": {
     "slide_type": "fragment"
    }
   },
   "source": [
    "Notice that all of our independent variables are considered significant (no confidence intervals contain zero)."
   ]
  },
  {
   "cell_type": "markdown",
   "metadata": {
    "slideshow": {
     "slide_type": "slide"
    }
   },
   "source": [
    "## Using the model"
   ]
  },
  {
   "cell_type": "markdown",
   "metadata": {
    "slideshow": {
     "slide_type": "fragment"
    }
   },
   "source": [
    "Note that by fitting a model to the data, we can make predictions for inputs that were never seen in the data. Furthermore, we can make a prediction of a probability for cases where we do not have enough data to estimate the probability directly (e.g, for specific parameter values)."
   ]
  },
  {
   "cell_type": "markdown",
   "metadata": {
    "slideshow": {
     "slide_type": "fragment"
    }
   },
   "source": [
    "Let's see how well the model fits the data. We have three independent variables, so in each case we will use average values for the two that we are not evaluating."
   ]
  },
  {
   "cell_type": "markdown",
   "metadata": {
    "slideshow": {
     "slide_type": "fragment"
    }
   },
   "source": [
    "First we consider **gpa**."
   ]
  },
  {
   "cell_type": "code",
   "execution_count": 17,
   "metadata": {
    "slideshow": {
     "slide_type": "-"
    }
   },
   "outputs": [
    {
     "data": {
      "image/png": "[encoded data removed]",
      "text/plain": [
       "<Figure size 432x288 with 1 Axes>"
      ]
     },
     "metadata": {
      "needs_background": "light"
     },
     "output_type": "display_data"
    }
   ],
   "source": [
    "bins = np.linspace(df.gpa.min(), df.gpa.max(), 10)\n",
    "groups = df.groupby(np.digitize(df.gpa, bins))\n",
    "prob = [result.predict([600, b, 2.5, 1.0]) for b in bins]\n",
    "plt.plot(bins, prob)\n",
    "plt.plot(bins,groups.admit.mean(),'o')\n",
    "plt.xlabel('gpa')\n",
    "plt.ylabel('P[admit]');"
   ]
  },
  {
   "cell_type": "markdown",
   "metadata": {
    "slideshow": {
     "slide_type": "fragment"
    }
   },
   "source": [
    "Next, we consider **gre**."
   ]
  },
  {
   "cell_type": "code",
   "execution_count": 18,
   "metadata": {
    "slideshow": {
     "slide_type": "-"
    }
   },
   "outputs": [
    {
     "data": {
      "image/png": "[encoded data removed]",
      "text/plain": [
       "<Figure size 432x288 with 1 Axes>"
      ]
     },
     "metadata": {
      "needs_background": "light"
     },
     "output_type": "display_data"
    }
   ],
   "source": [
    "prob = [result.predict([b, 3.4, 2.5, 1.0]) for b in sorted(df.gre.unique())]\n",
    "plt.plot(sorted(df.gre.unique()), prob)\n",
    "plt.plot(df.groupby('gre').mean()['admit'],'o')\n",
    "plt.xlabel('gre')\n",
    "plt.ylabel('P[admit]');"
   ]
  },
  {
   "cell_type": "markdown",
   "metadata": {
    "slideshow": {
     "slide_type": "fragment"
    }
   },
   "source": [
    "Finally, we have **rank**."
   ]
  },
  {
   "cell_type": "code",
   "execution_count": 19,
   "metadata": {
    "slideshow": {
     "slide_type": "-"
    }
   },
   "outputs": [
    {
     "data": {
      "image/png": "[encoded data removed]",
      "text/plain": [
       "<Figure size 432x288 with 1 Axes>"
      ]
     },
     "metadata": {
      "needs_background": "light"
     },
     "output_type": "display_data"
    }
   ],
   "source": [
    "prob = [result.predict([600, 3.4, b, 1.0]) for b in range(1,5)]\n",
    "plt.plot(range(1,5), prob)\n",
    "plt.plot(df.groupby('rank').mean()['admit'],'o')\n",
    "plt.xlabel('Rank')\n",
    "plt.xlim([0.5,4.5])\n",
    "_=plt.ylabel('P[admit]')"
   ]
  },
  {
   "cell_type": "markdown",
   "metadata": {
    "slideshow": {
     "slide_type": "slide"
    }
   },
   "source": [
    "## Logistic regression in perspective"
   ]
  },
  {
   "cell_type": "markdown",
   "metadata": {
    "slideshow": {
     "slide_type": "fragment"
    }
   },
   "source": [
    "We emphasized that logistic regression is concerned with estimating a __probability__ model from __discrete__ (i.e., binary) data. However, it may well be the case that we want to do something with the probability that can be interpreted as __classification__."
   ]
  },
  {
   "cell_type": "markdown",
   "metadata": {
    "slideshow": {
     "slide_type": "fragment"
    }
   },
   "source": [
    "For example, we may classify data items using a rule such as \"assign item $x_i$ to **Class 1** if $p(x_i) > 0.5$\". For this reason, logistic regression could be considered a classification method."
   ]
  },
  {
   "cell_type": "markdown",
   "metadata": {
    "slideshow": {
     "slide_type": "fragment"
    }
   },
   "source": [
    "This is similar to naive bayes, in which we use the technique to estimate something like a probability, and then we choose the class with the maximum value to create a classifier."
   ]
  },
  {
   "cell_type": "markdown",
   "metadata": {
    "slideshow": {
     "slide_type": "fragment"
    }
   },
   "source": [
    "Let's use our logistic regression as a classifier. We want to ask whether we can correctly predict whether a student gets admitted to graduate school. We separate our training and test data."
   ]
  },
  {
   "cell_type": "code",
   "execution_count": 20,
   "metadata": {
    "slideshow": {
     "slide_type": "-"
    }
   },
   "outputs": [],
   "source": [
    "(X_train, X_test, y_train, y_test) = cross_validation.train_test_split(\n",
    "        df[train_cols], df['admit'],\n",
    "        test_size=0.4, random_state=1)"
   ]
  },
  {
   "cell_type": "markdown",
   "metadata": {
    "slideshow": {
     "slide_type": "fragment"
    }
   },
   "source": [
    "Now, there are some standard metrics used when evaluating a binary classifier. Suppose our classifier is outputting \"yes\" when it thinks the student will be admitted."
   ]
  },
  {
   "cell_type": "markdown",
   "metadata": {
    "slideshow": {
     "slide_type": "fragment"
    }
   },
   "source": [
    "There are four cases:\n",
    "* Classifier says \"yes\", and student __is__ admitted:  __True Positive.__\n",
    "* Classifier says \"yes\", and student __is not__ admitted:  __False Positive.__\n",
    "* Classifier says \"no\", and student __is__ admitted:  __False Negative.__\n",
    "* Classifier says \"no\", and student __is not__ admitted:  __True Negative.__\n",
    "\n",
    "We can use the ROC (receiver-operator characteristic) curve to evaluate. "
   ]
  },
  {
   "cell_type": "markdown",
   "metadata": {
    "slideshow": {
     "slide_type": "fragment"
    }
   },
   "source": [
    "__Precision__ is the fraction of \"yes\"es that are correct:\n",
    "    $$\\mbox{Precision} = \\frac{\\mbox{True Positives}}{\\mbox{True Positives + False Positives}}$$\n",
    "    \n",
    "__Recall__ is the fraction of admits that we say \"yes\" to:\n",
    " $$\\mbox{Recall} = \\frac{\\mbox{True Positives}}{\\mbox{True Positives + False Negatives}}$$"
   ]
  },
  {
   "cell_type": "code",
   "execution_count": 21,
   "metadata": {
    "slideshow": {
     "slide_type": "fragment"
    }
   },
   "outputs": [
    {
     "name": "stdout",
     "output_type": "stream",
     "text": [
      "\n",
      "Precision: 0.586, Recall: 0.340\n"
     ]
    }
   ],
   "source": [
    "def evaluate(y_train, X_train, y_test, X_test, threshold):\n",
    "\n",
    "    # learn model on training data\n",
    "    logit = sm.Logit(y_train, X_train)\n",
    "    result = logit.fit(disp=False)\n",
    "    \n",
    "    # make probability predictions on test data\n",
    "    y_pred = result.predict(X_test)\n",
    "    \n",
    "    # threshold probabilities to create classifications\n",
    "    y_pred = y_pred > threshold\n",
    "    \n",
    "    # report metrics\n",
    "    precision = metrics.precision_score(y_test, y_pred)\n",
    "    recall = metrics.recall_score(y_test, y_pred)\n",
    "    return precision, recall\n",
    "\n",
    "precision, recall = evaluate(y_train, X_train, y_test, X_test, 0.5)\n",
    "\n",
    "print('\\nPrecision: {:0.3f}, Recall: {:0.3f}'.format(precision,recall))"
   ]
  },
  {
   "cell_type": "markdown",
   "metadata": {
    "slideshow": {
     "slide_type": "fragment"
    }
   },
   "source": [
    "Now, let's get a sense of average precision and recall:"
   ]
  },
  {
   "cell_type": "code",
   "execution_count": 22,
   "metadata": {
    "slideshow": {
     "slide_type": "fragment"
    }
   },
   "outputs": [],
   "source": [
    "PR = []\n",
    "for i in range(20):\n",
    "    (X_train, X_test, y_train, y_test) = cross_validation.train_test_split(\n",
    "            df[train_cols], df['admit'],\n",
    "            test_size=0.4)\n",
    "    PR.append(evaluate(y_train, X_train, y_test, X_test, 0.5))"
   ]
  },
  {
   "cell_type": "code",
   "execution_count": 23,
   "metadata": {
    "slideshow": {
     "slide_type": "-"
    }
   },
   "outputs": [
    {
     "name": "stdout",
     "output_type": "stream",
     "text": [
      "\n",
      "Average Precision: 0.568, Average Recall: 0.221\n"
     ]
    }
   ],
   "source": [
    "avgPrec = np.mean([f[0] for f in PR])\n",
    "avgRec = np.mean([f[1] for f in PR])\n",
    "print('\\nAverage Precision: {:0.3f}, Average Recall: {:0.3f}'.format(avgPrec, avgRec))"
   ]
  },
  {
   "cell_type": "markdown",
   "metadata": {
    "slideshow": {
     "slide_type": "fragment"
    }
   },
   "source": [
    "Sometimes we would like a single value that describes the overall performance of the classifier. For this, we take the harmonic mean of precision and recall, called __F1 Score__:\n",
    "\n",
    "$$\\mbox{F1 Score} = 2 \\;\\;\\frac{\\mbox{Precision} \\cdot \\mbox{Recall}}{\\mbox{Precision} + \\mbox{Recall}}$$"
   ]
  },
  {
   "cell_type": "markdown",
   "metadata": {
    "slideshow": {
     "slide_type": "fragment"
    }
   },
   "source": [
    "Using this, we can evaluate other settings for the threshold."
   ]
  },
  {
   "cell_type": "code",
   "execution_count": 24,
   "metadata": {
    "slideshow": {
     "slide_type": "-"
    }
   },
   "outputs": [],
   "source": [
    "import warnings\n",
    "warnings.filterwarnings(\"ignore\")\n",
    "def evalThresh(df, thresh):\n",
    "    PR = []\n",
    "    for i in range(20):\n",
    "        X_train, X_test, y_train, y_test = cross_validation.train_test_split(\n",
    "                df[train_cols], df['admit'],\n",
    "                test_size=0.4)\n",
    "        PR.append(evaluate(y_train, X_train, y_test, X_test, thresh))\n",
    "    avgPrec = np.mean([f[0] for f in PR])\n",
    "    avgRec = np.mean([f[1] for f in PR])\n",
    "    return 2 * (avgPrec * avgRec) / (avgPrec + avgRec), avgPrec, avgRec\n",
    "\n",
    "tvals = np.linspace(0.05, 0.8, 50)\n",
    "f1vals = [evalThresh(df, tval)[0] for tval in tvals]"
   ]
  },
  {
   "cell_type": "code",
   "execution_count": 25,
   "metadata": {
    "slideshow": {
     "slide_type": "fragment"
    }
   },
   "outputs": [
    {
     "data": {
      "image/png": "[encoded data removed]",
      "text/plain": [
       "<Figure size 432x288 with 1 Axes>"
      ]
     },
     "metadata": {
      "needs_background": "light"
     },
     "output_type": "display_data"
    }
   ],
   "source": [
    "plt.plot(tvals,f1vals)\n",
    "plt.ylabel('F1 Score')\n",
    "_=plt.xlabel('Threshold for Classification')"
   ]
  },
  {
   "cell_type": "markdown",
   "metadata": {
    "slideshow": {
     "slide_type": "fragment"
    }
   },
   "source": [
    "Based on this plot, we can say that the best classification threshold appears to be around 0.3, where precision and recall are:"
   ]
  },
  {
   "cell_type": "code",
   "execution_count": 70,
   "metadata": {
    "slideshow": {
     "slide_type": "-"
    }
   },
   "outputs": [
    {
     "name": "stdout",
     "output_type": "stream",
     "text": [
      "Best Precision: 0.422, Best Recall: 0.700\n"
     ]
    }
   ],
   "source": [
    "F1, Prec, Rec = evalThresh(df, 0.3)\n",
    "print('Best Precision: {:0.3f}, Best Recall: {:0.3f}'.format(Prec, Rec))"
   ]
  },
  {
   "cell_type": "markdown",
   "metadata": {
    "slideshow": {
     "slide_type": "fragment"
    }
   },
   "source": [
    "The example here is based on\n",
    "http://blog.yhathq.com/posts/logistic-regression-and-python.html\n",
    "where you can find additional details."
   ]
  },
  {
   "cell_type": "code",
   "execution_count": 71,
   "metadata": {},
   "outputs": [],
   "source": [
    "def evaluate_ROC(y_train, X_train, y_test, X_test):\n",
    "\n",
    "    # learn model on training data\n",
    "    logit = sm.Logit(y_train, X_train)\n",
    "    result = logit.fit(disp=False)\n",
    "    \n",
    "    # make probability predictions on test data\n",
    "    y_pred = result.predict(X_test)\n",
    "    \n",
    "    # build ROC \n",
    "    fpr, tpr, thresholds = metrics.roc_curve(y_test, y_pred)\n",
    "    roc_auc = metrics.auc(fpr, tpr)\n",
    "\n",
    "    return fpr, tpr, thresholds, roc_auc\n",
    "\n",
    "fpr, tpr, thresholds, roc_auc = evaluate_ROC(y_train, X_train, y_test, X_test)"
   ]
  },
  {
   "cell_type": "code",
   "execution_count": 72,
   "metadata": {},
   "outputs": [
    {
     "data": {
      "image/png": "[encoded data removed]",
      "text/plain": [
       "<Figure size 432x288 with 1 Axes>"
      ]
     },
     "metadata": {},
     "output_type": "display_data"
    }
   ],
   "source": [
    "lw = 2\n",
    "plt.plot(fpr, tpr, color='darkorange',\n",
    "         lw=lw, label='ROC curve (area = %0.2f)' % roc_auc)\n",
    "plt.plot([0, 1], [0, 1], color='navy', lw=lw, linestyle='--')\n",
    "plt.xlim([0.0, 1.0])\n",
    "plt.ylim([0.0, 1.05])\n",
    "plt.xlabel('False Positive Rate')\n",
    "plt.ylabel('True Positive Rate')\n",
    "plt.title('Receiver operating characteristic example')\n",
    "\n",
    "# Mark the point corresponding to threshold 0.3\n",
    "best_i = np.argmin(np.abs(thresholds - 0.3))\n",
    "plt.scatter([fpr[best_i]], [tpr[best_i]], linewidths=[4*lw], label='Threshold %0.2f' % thresholds[best_i])\n",
    "\n",
    "plt.legend(loc=\"lower right\")\n",
    "plt.show()\n"
   ]
  },
  {
   "cell_type": "markdown",
   "metadata": {
    "slideshow": {
     "slide_type": "slide"
    }
   },
   "source": [
    "## Handling multiple classes via logistic regression\n",
    "\n",
    "We can extend the logistic regression to $k$ different classes in several ways. One important way is to use a  _softmax_ classifier. Given functions $f_1,...,f_k$, we model the probability that $y$ takes on a value $j \\in\\{1,...k\\}$ as\n",
    "$$P\\Big(y = j \\ \\Big|\\ x\\Big) = \\frac{e^{f_j(x)} }{ \\sum_{\\ell =1}^k e^{f_\\ell(x)}}$$"
   ]
  },
  {
   "cell_type": "markdown",
   "metadata": {
    "slideshow": {
     "slide_type": "fragment"
    }
   },
   "source": [
    "In logistic regression, these functions are linear. That is, there exist \n",
    "\n",
    "- offsets $\\alpha_1,...,\\alpha_k\\in\\R$ and \n",
    "\n",
    "- vectors $\\vec \\beta_1,..., \\vec\\beta_k \\in \\R^d$ (where $d$ is the number of features) \n",
    "\n",
    "such that $f_j(\\vec x) = \\alpha_j + \\langle\\vec \\beta_j, \\vec x\\rangle$ and thus\n",
    "$$P\\Big(y = j \\ \\Big|\\ \\vec x\\Big) = \\frac{e^{\\alpha_j + \\langle\\vec \\beta_j, \\vec x\\rangle} }{ \\sum_{\\ell =1}^k e^{\\alpha_\\ell + \\langle\\vec \\beta_\\ell, \\vec x\\rangle}}$$\n",
    "\n",
    "\n"
   ]
  },
  {
   "cell_type": "markdown",
   "metadata": {
    "slideshow": {
     "slide_type": "fragment"
    }
   },
   "source": [
    "At first glance, this seems quite different from the binary case ($k=2$), sicne there is no logit function. However, \n",
    "it really does describe the same model. That is because in this model, one of the linear functions is redundant--we can set $\\alpha_k = 0 $ and $\\vec\\beta_k = \\vec 0$. With that simplification, we exactly recover the logistic model for $k=2$. "
   ]
  },
  {
   "cell_type": "markdown",
   "metadata": {},
   "source": [
    "In Python, we can access methods for fitting this type of model via \n",
    "\n",
    "```python\n",
    "sklearn.linear_model.LogisticRegression(multi_class = multinomial, ...)\n",
    "```\n",
    "\n",
    "For examples, and a comparison to other uses of logistic regression in multi-class settings, see\n",
    "http://scikit-learn.org/stable/auto_examples/linear_model/plot_logistic_multinomial.html#sphx-glr-auto-examples-linear-model-plot-logistic-multinomial-py\n"
   ]
  },
  {
   "cell_type": "markdown",
   "metadata": {},
   "source": [
    "The softmax of logistic regression leads us naturally to _feed-forward neural networks_, which we will come to next lecture."
   ]
  }
 ],
 "metadata": {
  "anaconda-cloud": {},
  "celltoolbar": "Slideshow",
  "kernelspec": {
   "display_name": "Python 3",
   "language": "python",
   "name": "python3"
  },
  "language_info": {
   "codemirror_mode": {
    "name": "ipython",
    "version": 3
   },
   "file_extension": ".py",
   "mimetype": "text/x-python",
   "name": "python",
   "nbconvert_exporter": "python",
   "pygments_lexer": "ipython3",
   "version": "3.6.4"
  }
 },
 "nbformat": 4,
 "nbformat_minor": 1
}
