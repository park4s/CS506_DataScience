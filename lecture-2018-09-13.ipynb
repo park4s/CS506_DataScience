{
 "cells": [
  {
   "cell_type": "markdown",
   "metadata": {
    "slideshow": {
     "slide_type": "slide"
    }
   },
   "source": [
    "# More on Data Manipulation and Analysis Frameworks"
   ]
  },
  {
   "cell_type": "markdown",
   "metadata": {
    "slideshow": {
     "slide_type": "slide"
    }
   },
   "source": [
    "## Dependencies"
   ]
  },
  {
   "cell_type": "code",
   "execution_count": 1,
   "metadata": {
    "slideshow": {
     "slide_type": "fragment"
    }
   },
   "outputs": [],
   "source": [
    "import pandas as pd\n",
    "pd.core.common.is_list_like = pd.api.types.is_list_like\n",
    "# don't forget to always enter your virtualenv environment and to rerun pip install -r requirements.txt to get the latest deps\n",
    "import pandas_datareader.data as web\n",
    "from pandas import Series, DataFrame\n",
    "\n",
    "import matplotlib.pyplot as plt\n",
    "import matplotlib as mpl\n",
    "import seaborn as sns\n",
    "\n",
    "from datetime import datetime\n",
    "\n",
    "%matplotlib inline"
   ]
  },
  {
   "cell_type": "markdown",
   "metadata": {
    "slideshow": {
     "slide_type": "slide"
    }
   },
   "source": [
    "## Filtering rows in a DataFrame"
   ]
  },
  {
   "cell_type": "code",
   "execution_count": 2,
   "metadata": {
    "scrolled": true,
    "slideshow": {
     "slide_type": "fragment"
    }
   },
   "outputs": [],
   "source": [
    "stocks = 'YELP'\n",
    "data_source = 'robinhood'\n",
    "df = web.DataReader(stocks, data_source)\n",
    "df.to_csv('rh_data.csv')\n",
    "df = pd.read_csv('rh_data.csv')"
   ]
  },
  {
   "cell_type": "markdown",
   "metadata": {
    "slideshow": {
     "slide_type": "-"
    }
   },
   "source": [
    "It is relatively straightforward to select rows of interest from the data set. Note that all of the operations below return a new DataFrame, which can be treated the same way as all DataFrames we have seen so far."
   ]
  },
  {
   "cell_type": "code",
   "execution_count": 3,
   "metadata": {
    "slideshow": {
     "slide_type": "fragment"
    }
   },
   "outputs": [
    {
     "data": {
      "text/plain": [
       "0    False\n",
       "1    False\n",
       "2    False\n",
       "3    False\n",
       "4    False\n",
       "Name: high_price, dtype: bool"
      ]
     },
     "execution_count": 3,
     "metadata": {},
     "output_type": "execute_result"
    }
   ],
   "source": [
    "tmp_high = df['high_price'] > 49 # Overloaded comparison operator.\n",
    "tmp_high.head()"
   ]
  },
  {
   "cell_type": "markdown",
   "metadata": {
    "slideshow": {
     "slide_type": "fragment"
    }
   },
   "source": [
    "Taking the sum of an array of `bool` values is the same as counting the number of `True` values in the array."
   ]
  },
  {
   "cell_type": "code",
   "execution_count": 4,
   "metadata": {
    "slideshow": {
     "slide_type": "-"
    }
   },
   "outputs": [
    {
     "data": {
      "text/plain": [
       "3"
      ]
     },
     "execution_count": 4,
     "metadata": {},
     "output_type": "execute_result"
    }
   ],
   "source": [
    "sum(tmp_high)"
   ]
  },
  {
   "cell_type": "markdown",
   "metadata": {
    "slideshow": {
     "slide_type": "fragment"
    }
   },
   "source": [
    "We can select only the rows of `df` that correspond to `tmp_high`."
   ]
  },
  {
   "cell_type": "code",
   "execution_count": 5,
   "metadata": {
    "slideshow": {
     "slide_type": "-"
    }
   },
   "outputs": [
    {
     "data": {
      "text/html": [
       "<div>\n",
       "<style scoped>\n",
       "    .dataframe tbody tr th:only-of-type {\n",
       "        vertical-align: middle;\n",
       "    }\n",
       "\n",
       "    .dataframe tbody tr th {\n",
       "        vertical-align: top;\n",
       "    }\n",
       "\n",
       "    .dataframe thead th {\n",
       "        text-align: right;\n",
       "    }\n",
       "</style>\n",
       "<table border=\"1\" class=\"dataframe\">\n",
       "  <thead>\n",
       "    <tr style=\"text-align: right;\">\n",
       "      <th></th>\n",
       "      <th>symbol</th>\n",
       "      <th>begins_at</th>\n",
       "      <th>close_price</th>\n",
       "      <th>high_price</th>\n",
       "      <th>interpolated</th>\n",
       "      <th>low_price</th>\n",
       "      <th>open_price</th>\n",
       "      <th>session</th>\n",
       "      <th>volume</th>\n",
       "    </tr>\n",
       "  </thead>\n",
       "  <tbody>\n",
       "    <tr>\n",
       "      <th>227</th>\n",
       "      <td>YELP</td>\n",
       "      <td>2018-08-09</td>\n",
       "      <td>48.33</td>\n",
       "      <td>49.7651</td>\n",
       "      <td>False</td>\n",
       "      <td>43.5100</td>\n",
       "      <td>44.00</td>\n",
       "      <td>reg</td>\n",
       "      <td>26302215</td>\n",
       "    </tr>\n",
       "    <tr>\n",
       "      <th>228</th>\n",
       "      <td>YELP</td>\n",
       "      <td>2018-08-10</td>\n",
       "      <td>49.35</td>\n",
       "      <td>51.3300</td>\n",
       "      <td>False</td>\n",
       "      <td>47.5400</td>\n",
       "      <td>48.03</td>\n",
       "      <td>reg</td>\n",
       "      <td>9312655</td>\n",
       "    </tr>\n",
       "    <tr>\n",
       "      <th>229</th>\n",
       "      <td>YELP</td>\n",
       "      <td>2018-08-13</td>\n",
       "      <td>46.94</td>\n",
       "      <td>49.5700</td>\n",
       "      <td>False</td>\n",
       "      <td>46.8646</td>\n",
       "      <td>49.56</td>\n",
       "      <td>reg</td>\n",
       "      <td>4490863</td>\n",
       "    </tr>\n",
       "  </tbody>\n",
       "</table>\n",
       "</div>"
      ],
      "text/plain": [
       "    symbol   begins_at  close_price  high_price  interpolated  low_price  \\\n",
       "227   YELP  2018-08-09        48.33     49.7651         False    43.5100   \n",
       "228   YELP  2018-08-10        49.35     51.3300         False    47.5400   \n",
       "229   YELP  2018-08-13        46.94     49.5700         False    46.8646   \n",
       "\n",
       "     open_price session    volume  \n",
       "227       44.00     reg  26302215  \n",
       "228       48.03     reg   9312655  \n",
       "229       49.56     reg   4490863  "
      ]
     },
     "execution_count": 5,
     "metadata": {},
     "output_type": "execute_result"
    }
   ],
   "source": [
    "df[tmp_high]"
   ]
  },
  {
   "cell_type": "markdown",
   "metadata": {
    "slideshow": {
     "slide_type": "fragment"
    }
   },
   "source": [
    "Putting it all together, we have the following commonly-used patterns."
   ]
  },
  {
   "cell_type": "code",
   "execution_count": 6,
   "metadata": {
    "slideshow": {
     "slide_type": "-"
    }
   },
   "outputs": [
    {
     "data": {
      "text/html": [
       "<div>\n",
       "<style scoped>\n",
       "    .dataframe tbody tr th:only-of-type {\n",
       "        vertical-align: middle;\n",
       "    }\n",
       "\n",
       "    .dataframe tbody tr th {\n",
       "        vertical-align: top;\n",
       "    }\n",
       "\n",
       "    .dataframe thead th {\n",
       "        text-align: right;\n",
       "    }\n",
       "</style>\n",
       "<table border=\"1\" class=\"dataframe\">\n",
       "  <thead>\n",
       "    <tr style=\"text-align: right;\">\n",
       "      <th></th>\n",
       "      <th>symbol</th>\n",
       "      <th>begins_at</th>\n",
       "      <th>close_price</th>\n",
       "      <th>high_price</th>\n",
       "      <th>interpolated</th>\n",
       "      <th>low_price</th>\n",
       "      <th>open_price</th>\n",
       "      <th>session</th>\n",
       "      <th>volume</th>\n",
       "    </tr>\n",
       "  </thead>\n",
       "  <tbody>\n",
       "    <tr>\n",
       "      <th>0</th>\n",
       "      <td>YELP</td>\n",
       "      <td>2017-09-14</td>\n",
       "      <td>42.91</td>\n",
       "      <td>43.03</td>\n",
       "      <td>False</td>\n",
       "      <td>42.5200</td>\n",
       "      <td>42.75</td>\n",
       "      <td>reg</td>\n",
       "      <td>1190931</td>\n",
       "    </tr>\n",
       "    <tr>\n",
       "      <th>1</th>\n",
       "      <td>YELP</td>\n",
       "      <td>2017-09-15</td>\n",
       "      <td>43.57</td>\n",
       "      <td>43.70</td>\n",
       "      <td>False</td>\n",
       "      <td>42.7600</td>\n",
       "      <td>42.91</td>\n",
       "      <td>reg</td>\n",
       "      <td>4243413</td>\n",
       "    </tr>\n",
       "    <tr>\n",
       "      <th>3</th>\n",
       "      <td>YELP</td>\n",
       "      <td>2017-09-19</td>\n",
       "      <td>43.85</td>\n",
       "      <td>44.07</td>\n",
       "      <td>False</td>\n",
       "      <td>43.0401</td>\n",
       "      <td>43.50</td>\n",
       "      <td>reg</td>\n",
       "      <td>859142</td>\n",
       "    </tr>\n",
       "    <tr>\n",
       "      <th>4</th>\n",
       "      <td>YELP</td>\n",
       "      <td>2017-09-20</td>\n",
       "      <td>44.17</td>\n",
       "      <td>44.24</td>\n",
       "      <td>False</td>\n",
       "      <td>43.4400</td>\n",
       "      <td>43.78</td>\n",
       "      <td>reg</td>\n",
       "      <td>940095</td>\n",
       "    </tr>\n",
       "    <tr>\n",
       "      <th>9</th>\n",
       "      <td>YELP</td>\n",
       "      <td>2017-09-27</td>\n",
       "      <td>42.70</td>\n",
       "      <td>42.79</td>\n",
       "      <td>False</td>\n",
       "      <td>41.8000</td>\n",
       "      <td>42.09</td>\n",
       "      <td>reg</td>\n",
       "      <td>1471632</td>\n",
       "    </tr>\n",
       "  </tbody>\n",
       "</table>\n",
       "</div>"
      ],
      "text/plain": [
       "  symbol   begins_at  close_price  high_price  interpolated  low_price  \\\n",
       "0   YELP  2017-09-14        42.91       43.03         False    42.5200   \n",
       "1   YELP  2017-09-15        43.57       43.70         False    42.7600   \n",
       "3   YELP  2017-09-19        43.85       44.07         False    43.0401   \n",
       "4   YELP  2017-09-20        44.17       44.24         False    43.4400   \n",
       "9   YELP  2017-09-27        42.70       42.79         False    41.8000   \n",
       "\n",
       "   open_price session   volume  \n",
       "0       42.75     reg  1190931  \n",
       "1       42.91     reg  4243413  \n",
       "3       43.50     reg   859142  \n",
       "4       43.78     reg   940095  \n",
       "9       42.09     reg  1471632  "
      ]
     },
     "execution_count": 6,
     "metadata": {},
     "output_type": "execute_result"
    }
   ],
   "source": [
    "positive_days = df[df['close_price'] > df['open_price']]\n",
    "positive_days.head()"
   ]
  },
  {
   "cell_type": "code",
   "execution_count": 7,
   "metadata": {
    "slideshow": {
     "slide_type": "fragment"
    }
   },
   "outputs": [
    {
     "data": {
      "text/html": [
       "<div>\n",
       "<style scoped>\n",
       "    .dataframe tbody tr th:only-of-type {\n",
       "        vertical-align: middle;\n",
       "    }\n",
       "\n",
       "    .dataframe tbody tr th {\n",
       "        vertical-align: top;\n",
       "    }\n",
       "\n",
       "    .dataframe thead th {\n",
       "        text-align: right;\n",
       "    }\n",
       "</style>\n",
       "<table border=\"1\" class=\"dataframe\">\n",
       "  <thead>\n",
       "    <tr style=\"text-align: right;\">\n",
       "      <th></th>\n",
       "      <th>symbol</th>\n",
       "      <th>begins_at</th>\n",
       "      <th>close_price</th>\n",
       "      <th>high_price</th>\n",
       "      <th>interpolated</th>\n",
       "      <th>low_price</th>\n",
       "      <th>open_price</th>\n",
       "      <th>session</th>\n",
       "      <th>volume</th>\n",
       "    </tr>\n",
       "  </thead>\n",
       "  <tbody>\n",
       "    <tr>\n",
       "      <th>227</th>\n",
       "      <td>YELP</td>\n",
       "      <td>2018-08-09</td>\n",
       "      <td>48.33</td>\n",
       "      <td>49.7651</td>\n",
       "      <td>False</td>\n",
       "      <td>43.51</td>\n",
       "      <td>44.0</td>\n",
       "      <td>reg</td>\n",
       "      <td>26302215</td>\n",
       "    </tr>\n",
       "  </tbody>\n",
       "</table>\n",
       "</div>"
      ],
      "text/plain": [
       "    symbol   begins_at  close_price  high_price  interpolated  low_price  \\\n",
       "227   YELP  2018-08-09        48.33     49.7651         False      43.51   \n",
       "\n",
       "     open_price session    volume  \n",
       "227        44.0     reg  26302215  "
      ]
     },
     "execution_count": 7,
     "metadata": {},
     "output_type": "execute_result"
    }
   ],
   "source": [
    "very_positive_days = df[df['close_price'] - df['open_price'] > 4]\n",
    "very_positive_days.head()"
   ]
  },
  {
   "cell_type": "markdown",
   "metadata": {
    "slideshow": {
     "slide_type": "fragment"
    }
   },
   "source": [
    "Note that conditions can also be combined by taking the conjunction or disjunction of the data frames used as conditions. Note the use of the intersection operator. This is primarily because the built-in Python `and` and `or` operators cannot be overloaded."
   ]
  },
  {
   "cell_type": "code",
   "execution_count": 8,
   "metadata": {
    "slideshow": {
     "slide_type": "fragment"
    }
   },
   "outputs": [
    {
     "data": {
      "text/plain": [
       "0      False\n",
       "1       True\n",
       "2      False\n",
       "3      False\n",
       "4      False\n",
       "5      False\n",
       "6      False\n",
       "7      False\n",
       "8      False\n",
       "9      False\n",
       "10     False\n",
       "11      True\n",
       "12     False\n",
       "13     False\n",
       "14     False\n",
       "15     False\n",
       "16     False\n",
       "17     False\n",
       "18     False\n",
       "19     False\n",
       "20     False\n",
       "21     False\n",
       "22     False\n",
       "23     False\n",
       "24     False\n",
       "25     False\n",
       "26     False\n",
       "27     False\n",
       "28     False\n",
       "29     False\n",
       "       ...  \n",
       "222    False\n",
       "223    False\n",
       "224    False\n",
       "225    False\n",
       "226    False\n",
       "227    False\n",
       "228    False\n",
       "229    False\n",
       "230    False\n",
       "231    False\n",
       "232    False\n",
       "233    False\n",
       "234    False\n",
       "235    False\n",
       "236    False\n",
       "237    False\n",
       "238    False\n",
       "239    False\n",
       "240    False\n",
       "241    False\n",
       "242    False\n",
       "243    False\n",
       "244    False\n",
       "245    False\n",
       "246    False\n",
       "247    False\n",
       "248    False\n",
       "249    False\n",
       "250    False\n",
       "251    False\n",
       "Length: 252, dtype: bool"
      ]
     },
     "execution_count": 8,
     "metadata": {},
     "output_type": "execute_result"
    }
   ],
   "source": [
    "(df['close_price'] > 43) & (df['open_price'] < 43)"
   ]
  },
  {
   "cell_type": "code",
   "execution_count": 9,
   "metadata": {
    "slideshow": {
     "slide_type": "fragment"
    }
   },
   "outputs": [
    {
     "data": {
      "text/html": [
       "<div>\n",
       "<style scoped>\n",
       "    .dataframe tbody tr th:only-of-type {\n",
       "        vertical-align: middle;\n",
       "    }\n",
       "\n",
       "    .dataframe tbody tr th {\n",
       "        vertical-align: top;\n",
       "    }\n",
       "\n",
       "    .dataframe thead th {\n",
       "        text-align: right;\n",
       "    }\n",
       "</style>\n",
       "<table border=\"1\" class=\"dataframe\">\n",
       "  <thead>\n",
       "    <tr style=\"text-align: right;\">\n",
       "      <th></th>\n",
       "      <th>symbol</th>\n",
       "      <th>begins_at</th>\n",
       "      <th>close_price</th>\n",
       "      <th>high_price</th>\n",
       "      <th>interpolated</th>\n",
       "      <th>low_price</th>\n",
       "      <th>open_price</th>\n",
       "      <th>session</th>\n",
       "      <th>volume</th>\n",
       "    </tr>\n",
       "  </thead>\n",
       "  <tbody>\n",
       "    <tr>\n",
       "      <th>1</th>\n",
       "      <td>YELP</td>\n",
       "      <td>2017-09-15</td>\n",
       "      <td>43.57</td>\n",
       "      <td>43.70</td>\n",
       "      <td>False</td>\n",
       "      <td>42.76</td>\n",
       "      <td>42.91</td>\n",
       "      <td>reg</td>\n",
       "      <td>4243413</td>\n",
       "    </tr>\n",
       "    <tr>\n",
       "      <th>11</th>\n",
       "      <td>YELP</td>\n",
       "      <td>2017-09-29</td>\n",
       "      <td>43.30</td>\n",
       "      <td>43.42</td>\n",
       "      <td>False</td>\n",
       "      <td>42.59</td>\n",
       "      <td>42.62</td>\n",
       "      <td>reg</td>\n",
       "      <td>898853</td>\n",
       "    </tr>\n",
       "    <tr>\n",
       "      <th>75</th>\n",
       "      <td>YELP</td>\n",
       "      <td>2018-01-02</td>\n",
       "      <td>43.24</td>\n",
       "      <td>43.47</td>\n",
       "      <td>False</td>\n",
       "      <td>42.06</td>\n",
       "      <td>42.06</td>\n",
       "      <td>reg</td>\n",
       "      <td>1355264</td>\n",
       "    </tr>\n",
       "    <tr>\n",
       "      <th>78</th>\n",
       "      <td>YELP</td>\n",
       "      <td>2018-01-05</td>\n",
       "      <td>43.17</td>\n",
       "      <td>43.34</td>\n",
       "      <td>False</td>\n",
       "      <td>42.74</td>\n",
       "      <td>42.95</td>\n",
       "      <td>reg</td>\n",
       "      <td>916723</td>\n",
       "    </tr>\n",
       "    <tr>\n",
       "      <th>88</th>\n",
       "      <td>YELP</td>\n",
       "      <td>2018-01-22</td>\n",
       "      <td>43.40</td>\n",
       "      <td>43.49</td>\n",
       "      <td>False</td>\n",
       "      <td>42.02</td>\n",
       "      <td>42.70</td>\n",
       "      <td>reg</td>\n",
       "      <td>975227</td>\n",
       "    </tr>\n",
       "  </tbody>\n",
       "</table>\n",
       "</div>"
      ],
      "text/plain": [
       "   symbol   begins_at  close_price  high_price  interpolated  low_price  \\\n",
       "1    YELP  2017-09-15        43.57       43.70         False      42.76   \n",
       "11   YELP  2017-09-29        43.30       43.42         False      42.59   \n",
       "75   YELP  2018-01-02        43.24       43.47         False      42.06   \n",
       "78   YELP  2018-01-05        43.17       43.34         False      42.74   \n",
       "88   YELP  2018-01-22        43.40       43.49         False      42.02   \n",
       "\n",
       "    open_price session   volume  \n",
       "1        42.91     reg  4243413  \n",
       "11       42.62     reg   898853  \n",
       "75       42.06     reg  1355264  \n",
       "78       42.95     reg   916723  \n",
       "88       42.70     reg   975227  "
      ]
     },
     "execution_count": 9,
     "metadata": {},
     "output_type": "execute_result"
    }
   ],
   "source": [
    "very_positive_days = df[(df['close_price'] > 43) & (df['open_price'] < 43)]\n",
    "very_positive_days.head()"
   ]
  },
  {
   "cell_type": "markdown",
   "metadata": {
    "slideshow": {
     "slide_type": "slide"
    }
   },
   "source": [
    "## Creating new columns in a DataFrame"
   ]
  },
  {
   "cell_type": "markdown",
   "metadata": {
    "slideshow": {
     "slide_type": "fragment"
    }
   },
   "source": [
    "To create a new column, assign a DataFrame to it. This behavior is similar to that of Python dictionaries."
   ]
  },
  {
   "cell_type": "code",
   "execution_count": 10,
   "metadata": {
    "slideshow": {
     "slide_type": "-"
    }
   },
   "outputs": [
    {
     "data": {
      "text/html": [
       "<div>\n",
       "<style scoped>\n",
       "    .dataframe tbody tr th:only-of-type {\n",
       "        vertical-align: middle;\n",
       "    }\n",
       "\n",
       "    .dataframe tbody tr th {\n",
       "        vertical-align: top;\n",
       "    }\n",
       "\n",
       "    .dataframe thead th {\n",
       "        text-align: right;\n",
       "    }\n",
       "</style>\n",
       "<table border=\"1\" class=\"dataframe\">\n",
       "  <thead>\n",
       "    <tr style=\"text-align: right;\">\n",
       "      <th></th>\n",
       "      <th>symbol</th>\n",
       "      <th>begins_at</th>\n",
       "      <th>close_price</th>\n",
       "      <th>high_price</th>\n",
       "      <th>interpolated</th>\n",
       "      <th>low_price</th>\n",
       "      <th>open_price</th>\n",
       "      <th>session</th>\n",
       "      <th>volume</th>\n",
       "      <th>profit</th>\n",
       "    </tr>\n",
       "  </thead>\n",
       "  <tbody>\n",
       "    <tr>\n",
       "      <th>0</th>\n",
       "      <td>YELP</td>\n",
       "      <td>2017-09-14</td>\n",
       "      <td>42.91</td>\n",
       "      <td>43.03</td>\n",
       "      <td>False</td>\n",
       "      <td>42.5200</td>\n",
       "      <td>42.75</td>\n",
       "      <td>reg</td>\n",
       "      <td>1190931</td>\n",
       "      <td>True</td>\n",
       "    </tr>\n",
       "    <tr>\n",
       "      <th>1</th>\n",
       "      <td>YELP</td>\n",
       "      <td>2017-09-15</td>\n",
       "      <td>43.57</td>\n",
       "      <td>43.70</td>\n",
       "      <td>False</td>\n",
       "      <td>42.7600</td>\n",
       "      <td>42.91</td>\n",
       "      <td>reg</td>\n",
       "      <td>4243413</td>\n",
       "      <td>True</td>\n",
       "    </tr>\n",
       "    <tr>\n",
       "      <th>2</th>\n",
       "      <td>YELP</td>\n",
       "      <td>2017-09-18</td>\n",
       "      <td>43.50</td>\n",
       "      <td>44.23</td>\n",
       "      <td>False</td>\n",
       "      <td>43.3500</td>\n",
       "      <td>43.80</td>\n",
       "      <td>reg</td>\n",
       "      <td>1261139</td>\n",
       "      <td>False</td>\n",
       "    </tr>\n",
       "    <tr>\n",
       "      <th>3</th>\n",
       "      <td>YELP</td>\n",
       "      <td>2017-09-19</td>\n",
       "      <td>43.85</td>\n",
       "      <td>44.07</td>\n",
       "      <td>False</td>\n",
       "      <td>43.0401</td>\n",
       "      <td>43.50</td>\n",
       "      <td>reg</td>\n",
       "      <td>859142</td>\n",
       "      <td>True</td>\n",
       "    </tr>\n",
       "    <tr>\n",
       "      <th>4</th>\n",
       "      <td>YELP</td>\n",
       "      <td>2017-09-20</td>\n",
       "      <td>44.17</td>\n",
       "      <td>44.24</td>\n",
       "      <td>False</td>\n",
       "      <td>43.4400</td>\n",
       "      <td>43.78</td>\n",
       "      <td>reg</td>\n",
       "      <td>940095</td>\n",
       "      <td>True</td>\n",
       "    </tr>\n",
       "  </tbody>\n",
       "</table>\n",
       "</div>"
      ],
      "text/plain": [
       "  symbol   begins_at  close_price  high_price  interpolated  low_price  \\\n",
       "0   YELP  2017-09-14        42.91       43.03         False    42.5200   \n",
       "1   YELP  2017-09-15        43.57       43.70         False    42.7600   \n",
       "2   YELP  2017-09-18        43.50       44.23         False    43.3500   \n",
       "3   YELP  2017-09-19        43.85       44.07         False    43.0401   \n",
       "4   YELP  2017-09-20        44.17       44.24         False    43.4400   \n",
       "\n",
       "   open_price session   volume  profit  \n",
       "0       42.75     reg  1190931    True  \n",
       "1       42.91     reg  4243413    True  \n",
       "2       43.80     reg  1261139   False  \n",
       "3       43.50     reg   859142    True  \n",
       "4       43.78     reg   940095    True  "
      ]
     },
     "execution_count": 10,
     "metadata": {},
     "output_type": "execute_result"
    }
   ],
   "source": [
    "df['profit'] = (df['open_price'] < df['close_price'])\n",
    "df.head()"
   ]
  },
  {
   "cell_type": "markdown",
   "metadata": {
    "slideshow": {
     "slide_type": "fragment"
    }
   },
   "source": [
    "In the code below, we create a new discrete feature dimension within the data frame that places every row into one of four possible `gain` categories."
   ]
  },
  {
   "cell_type": "code",
   "execution_count": 11,
   "metadata": {
    "slideshow": {
     "slide_type": "fragment"
    }
   },
   "outputs": [
    {
     "data": {
      "text/html": [
       "<div>\n",
       "<style scoped>\n",
       "    .dataframe tbody tr th:only-of-type {\n",
       "        vertical-align: middle;\n",
       "    }\n",
       "\n",
       "    .dataframe tbody tr th {\n",
       "        vertical-align: top;\n",
       "    }\n",
       "\n",
       "    .dataframe thead th {\n",
       "        text-align: right;\n",
       "    }\n",
       "</style>\n",
       "<table border=\"1\" class=\"dataframe\">\n",
       "  <thead>\n",
       "    <tr style=\"text-align: right;\">\n",
       "      <th></th>\n",
       "      <th>symbol</th>\n",
       "      <th>begins_at</th>\n",
       "      <th>close_price</th>\n",
       "      <th>high_price</th>\n",
       "      <th>interpolated</th>\n",
       "      <th>low_price</th>\n",
       "      <th>open_price</th>\n",
       "      <th>session</th>\n",
       "      <th>volume</th>\n",
       "      <th>profit</th>\n",
       "      <th>gain</th>\n",
       "    </tr>\n",
       "  </thead>\n",
       "  <tbody>\n",
       "    <tr>\n",
       "      <th>0</th>\n",
       "      <td>YELP</td>\n",
       "      <td>2017-09-14</td>\n",
       "      <td>42.91</td>\n",
       "      <td>43.03</td>\n",
       "      <td>False</td>\n",
       "      <td>42.5200</td>\n",
       "      <td>42.75</td>\n",
       "      <td>reg</td>\n",
       "      <td>1190931</td>\n",
       "      <td>True</td>\n",
       "      <td>negative</td>\n",
       "    </tr>\n",
       "    <tr>\n",
       "      <th>1</th>\n",
       "      <td>YELP</td>\n",
       "      <td>2017-09-15</td>\n",
       "      <td>43.57</td>\n",
       "      <td>43.70</td>\n",
       "      <td>False</td>\n",
       "      <td>42.7600</td>\n",
       "      <td>42.91</td>\n",
       "      <td>reg</td>\n",
       "      <td>4243413</td>\n",
       "      <td>True</td>\n",
       "      <td>negative</td>\n",
       "    </tr>\n",
       "    <tr>\n",
       "      <th>2</th>\n",
       "      <td>YELP</td>\n",
       "      <td>2017-09-18</td>\n",
       "      <td>43.50</td>\n",
       "      <td>44.23</td>\n",
       "      <td>False</td>\n",
       "      <td>43.3500</td>\n",
       "      <td>43.80</td>\n",
       "      <td>reg</td>\n",
       "      <td>1261139</td>\n",
       "      <td>False</td>\n",
       "      <td>small_gain</td>\n",
       "    </tr>\n",
       "    <tr>\n",
       "      <th>3</th>\n",
       "      <td>YELP</td>\n",
       "      <td>2017-09-19</td>\n",
       "      <td>43.85</td>\n",
       "      <td>44.07</td>\n",
       "      <td>False</td>\n",
       "      <td>43.0401</td>\n",
       "      <td>43.50</td>\n",
       "      <td>reg</td>\n",
       "      <td>859142</td>\n",
       "      <td>True</td>\n",
       "      <td>negative</td>\n",
       "    </tr>\n",
       "    <tr>\n",
       "      <th>4</th>\n",
       "      <td>YELP</td>\n",
       "      <td>2017-09-20</td>\n",
       "      <td>44.17</td>\n",
       "      <td>44.24</td>\n",
       "      <td>False</td>\n",
       "      <td>43.4400</td>\n",
       "      <td>43.78</td>\n",
       "      <td>reg</td>\n",
       "      <td>940095</td>\n",
       "      <td>True</td>\n",
       "      <td>negative</td>\n",
       "    </tr>\n",
       "  </tbody>\n",
       "</table>\n",
       "</div>"
      ],
      "text/plain": [
       "  symbol   begins_at  close_price  high_price  interpolated  low_price  \\\n",
       "0   YELP  2017-09-14        42.91       43.03         False    42.5200   \n",
       "1   YELP  2017-09-15        43.57       43.70         False    42.7600   \n",
       "2   YELP  2017-09-18        43.50       44.23         False    43.3500   \n",
       "3   YELP  2017-09-19        43.85       44.07         False    43.0401   \n",
       "4   YELP  2017-09-20        44.17       44.24         False    43.4400   \n",
       "\n",
       "   open_price session   volume  profit        gain  \n",
       "0       42.75     reg  1190931    True    negative  \n",
       "1       42.91     reg  4243413    True    negative  \n",
       "2       43.80     reg  1261139   False  small_gain  \n",
       "3       43.50     reg   859142    True    negative  \n",
       "4       43.78     reg   940095    True    negative  "
      ]
     },
     "execution_count": 11,
     "metadata": {},
     "output_type": "execute_result"
    }
   ],
   "source": [
    "for idx, row in df.iterrows():\n",
    "    if row.close_price > row.open_price:\n",
    "        df.loc[idx,'gain']='negative'\n",
    "    elif (row.open_price - row.close_price) < 1:\n",
    "        df.loc[idx,'gain']='small_gain'\n",
    "    elif (row.open_price - row.close_price) < 6:\n",
    "        df.loc[idx,'gain']='medium_gain'\n",
    "    else:\n",
    "        df.loc[idx,'gain']='large_gain'\n",
    "\n",
    "df.head()"
   ]
  },
  {
   "cell_type": "markdown",
   "metadata": {
    "slideshow": {
     "slide_type": "fragment"
    }
   },
   "source": [
    "Below is a more functional way to accomplish the same thing by defining a function that classifies rows, and then using `apply` to transform all the rows. The `axis=1` parameter indicates that it should be applied to each row (a parameter of `axis=0` would indicate that the function should be applied to each column)."
   ]
  },
  {
   "cell_type": "code",
   "execution_count": 12,
   "metadata": {
    "slideshow": {
     "slide_type": "-"
    }
   },
   "outputs": [
    {
     "data": {
      "text/html": [
       "<div>\n",
       "<style scoped>\n",
       "    .dataframe tbody tr th:only-of-type {\n",
       "        vertical-align: middle;\n",
       "    }\n",
       "\n",
       "    .dataframe tbody tr th {\n",
       "        vertical-align: top;\n",
       "    }\n",
       "\n",
       "    .dataframe thead th {\n",
       "        text-align: right;\n",
       "    }\n",
       "</style>\n",
       "<table border=\"1\" class=\"dataframe\">\n",
       "  <thead>\n",
       "    <tr style=\"text-align: right;\">\n",
       "      <th></th>\n",
       "      <th>symbol</th>\n",
       "      <th>begins_at</th>\n",
       "      <th>close_price</th>\n",
       "      <th>high_price</th>\n",
       "      <th>interpolated</th>\n",
       "      <th>low_price</th>\n",
       "      <th>open_price</th>\n",
       "      <th>session</th>\n",
       "      <th>volume</th>\n",
       "      <th>profit</th>\n",
       "      <th>gain</th>\n",
       "      <th>test_column</th>\n",
       "    </tr>\n",
       "  </thead>\n",
       "  <tbody>\n",
       "    <tr>\n",
       "      <th>0</th>\n",
       "      <td>YELP</td>\n",
       "      <td>2017-09-14</td>\n",
       "      <td>42.91</td>\n",
       "      <td>43.03</td>\n",
       "      <td>False</td>\n",
       "      <td>42.5200</td>\n",
       "      <td>42.75</td>\n",
       "      <td>reg</td>\n",
       "      <td>1190931</td>\n",
       "      <td>True</td>\n",
       "      <td>negative</td>\n",
       "      <td>negative</td>\n",
       "    </tr>\n",
       "    <tr>\n",
       "      <th>1</th>\n",
       "      <td>YELP</td>\n",
       "      <td>2017-09-15</td>\n",
       "      <td>43.57</td>\n",
       "      <td>43.70</td>\n",
       "      <td>False</td>\n",
       "      <td>42.7600</td>\n",
       "      <td>42.91</td>\n",
       "      <td>reg</td>\n",
       "      <td>4243413</td>\n",
       "      <td>True</td>\n",
       "      <td>negative</td>\n",
       "      <td>negative</td>\n",
       "    </tr>\n",
       "    <tr>\n",
       "      <th>2</th>\n",
       "      <td>YELP</td>\n",
       "      <td>2017-09-18</td>\n",
       "      <td>43.50</td>\n",
       "      <td>44.23</td>\n",
       "      <td>False</td>\n",
       "      <td>43.3500</td>\n",
       "      <td>43.80</td>\n",
       "      <td>reg</td>\n",
       "      <td>1261139</td>\n",
       "      <td>False</td>\n",
       "      <td>small_gain</td>\n",
       "      <td>small_gain</td>\n",
       "    </tr>\n",
       "    <tr>\n",
       "      <th>3</th>\n",
       "      <td>YELP</td>\n",
       "      <td>2017-09-19</td>\n",
       "      <td>43.85</td>\n",
       "      <td>44.07</td>\n",
       "      <td>False</td>\n",
       "      <td>43.0401</td>\n",
       "      <td>43.50</td>\n",
       "      <td>reg</td>\n",
       "      <td>859142</td>\n",
       "      <td>True</td>\n",
       "      <td>negative</td>\n",
       "      <td>negative</td>\n",
       "    </tr>\n",
       "    <tr>\n",
       "      <th>4</th>\n",
       "      <td>YELP</td>\n",
       "      <td>2017-09-20</td>\n",
       "      <td>44.17</td>\n",
       "      <td>44.24</td>\n",
       "      <td>False</td>\n",
       "      <td>43.4400</td>\n",
       "      <td>43.78</td>\n",
       "      <td>reg</td>\n",
       "      <td>940095</td>\n",
       "      <td>True</td>\n",
       "      <td>negative</td>\n",
       "      <td>negative</td>\n",
       "    </tr>\n",
       "  </tbody>\n",
       "</table>\n",
       "</div>"
      ],
      "text/plain": [
       "  symbol   begins_at  close_price  high_price  interpolated  low_price  \\\n",
       "0   YELP  2017-09-14        42.91       43.03         False    42.5200   \n",
       "1   YELP  2017-09-15        43.57       43.70         False    42.7600   \n",
       "2   YELP  2017-09-18        43.50       44.23         False    43.3500   \n",
       "3   YELP  2017-09-19        43.85       44.07         False    43.0401   \n",
       "4   YELP  2017-09-20        44.17       44.24         False    43.4400   \n",
       "\n",
       "   open_price session   volume  profit        gain test_column  \n",
       "0       42.75     reg  1190931    True    negative    negative  \n",
       "1       42.91     reg  4243413    True    negative    negative  \n",
       "2       43.80     reg  1261139   False  small_gain  small_gain  \n",
       "3       43.50     reg   859142    True    negative    negative  \n",
       "4       43.78     reg   940095    True    negative    negative  "
      ]
     },
     "execution_count": 12,
     "metadata": {},
     "output_type": "execute_result"
    }
   ],
   "source": [
    "def namerow(row):\n",
    "    if row.close_price > row.open_price:\n",
    "        return 'negative'\n",
    "    elif (row.open_price - row.close_price) < 1:\n",
    "        return 'small_gain'\n",
    "    elif (row.open_price - row.close_price) < 6:\n",
    "        return 'medium_gain'\n",
    "    else:\n",
    "        return 'large_gain'\n",
    "\n",
    "df['test_column'] = df.apply(namerow, axis=1)\n",
    "df.head()\n"
   ]
  },
  {
   "cell_type": "markdown",
   "metadata": {
    "slideshow": {
     "slide_type": "fragment"
    }
   },
   "source": [
    "We can remove a column using the `.drop()` method."
   ]
  },
  {
   "cell_type": "code",
   "execution_count": 13,
   "metadata": {
    "slideshow": {
     "slide_type": "-"
    }
   },
   "outputs": [
    {
     "data": {
      "text/html": [
       "<div>\n",
       "<style scoped>\n",
       "    .dataframe tbody tr th:only-of-type {\n",
       "        vertical-align: middle;\n",
       "    }\n",
       "\n",
       "    .dataframe tbody tr th {\n",
       "        vertical-align: top;\n",
       "    }\n",
       "\n",
       "    .dataframe thead th {\n",
       "        text-align: right;\n",
       "    }\n",
       "</style>\n",
       "<table border=\"1\" class=\"dataframe\">\n",
       "  <thead>\n",
       "    <tr style=\"text-align: right;\">\n",
       "      <th></th>\n",
       "      <th>symbol</th>\n",
       "      <th>begins_at</th>\n",
       "      <th>close_price</th>\n",
       "      <th>high_price</th>\n",
       "      <th>interpolated</th>\n",
       "      <th>low_price</th>\n",
       "      <th>open_price</th>\n",
       "      <th>session</th>\n",
       "      <th>volume</th>\n",
       "      <th>profit</th>\n",
       "      <th>gain</th>\n",
       "      <th>test_column</th>\n",
       "    </tr>\n",
       "  </thead>\n",
       "  <tbody>\n",
       "    <tr>\n",
       "      <th>0</th>\n",
       "      <td>YELP</td>\n",
       "      <td>2017-09-14</td>\n",
       "      <td>42.91</td>\n",
       "      <td>43.03</td>\n",
       "      <td>False</td>\n",
       "      <td>42.5200</td>\n",
       "      <td>42.75</td>\n",
       "      <td>reg</td>\n",
       "      <td>1190931</td>\n",
       "      <td>True</td>\n",
       "      <td>negative</td>\n",
       "      <td>negative</td>\n",
       "    </tr>\n",
       "    <tr>\n",
       "      <th>1</th>\n",
       "      <td>YELP</td>\n",
       "      <td>2017-09-15</td>\n",
       "      <td>43.57</td>\n",
       "      <td>43.70</td>\n",
       "      <td>False</td>\n",
       "      <td>42.7600</td>\n",
       "      <td>42.91</td>\n",
       "      <td>reg</td>\n",
       "      <td>4243413</td>\n",
       "      <td>True</td>\n",
       "      <td>negative</td>\n",
       "      <td>negative</td>\n",
       "    </tr>\n",
       "    <tr>\n",
       "      <th>2</th>\n",
       "      <td>YELP</td>\n",
       "      <td>2017-09-18</td>\n",
       "      <td>43.50</td>\n",
       "      <td>44.23</td>\n",
       "      <td>False</td>\n",
       "      <td>43.3500</td>\n",
       "      <td>43.80</td>\n",
       "      <td>reg</td>\n",
       "      <td>1261139</td>\n",
       "      <td>False</td>\n",
       "      <td>small_gain</td>\n",
       "      <td>small_gain</td>\n",
       "    </tr>\n",
       "    <tr>\n",
       "      <th>3</th>\n",
       "      <td>YELP</td>\n",
       "      <td>2017-09-19</td>\n",
       "      <td>43.85</td>\n",
       "      <td>44.07</td>\n",
       "      <td>False</td>\n",
       "      <td>43.0401</td>\n",
       "      <td>43.50</td>\n",
       "      <td>reg</td>\n",
       "      <td>859142</td>\n",
       "      <td>True</td>\n",
       "      <td>negative</td>\n",
       "      <td>negative</td>\n",
       "    </tr>\n",
       "    <tr>\n",
       "      <th>4</th>\n",
       "      <td>YELP</td>\n",
       "      <td>2017-09-20</td>\n",
       "      <td>44.17</td>\n",
       "      <td>44.24</td>\n",
       "      <td>False</td>\n",
       "      <td>43.4400</td>\n",
       "      <td>43.78</td>\n",
       "      <td>reg</td>\n",
       "      <td>940095</td>\n",
       "      <td>True</td>\n",
       "      <td>negative</td>\n",
       "      <td>negative</td>\n",
       "    </tr>\n",
       "  </tbody>\n",
       "</table>\n",
       "</div>"
      ],
      "text/plain": [
       "  symbol   begins_at  close_price  high_price  interpolated  low_price  \\\n",
       "0   YELP  2017-09-14        42.91       43.03         False    42.5200   \n",
       "1   YELP  2017-09-15        43.57       43.70         False    42.7600   \n",
       "2   YELP  2017-09-18        43.50       44.23         False    43.3500   \n",
       "3   YELP  2017-09-19        43.85       44.07         False    43.0401   \n",
       "4   YELP  2017-09-20        44.17       44.24         False    43.4400   \n",
       "\n",
       "   open_price session   volume  profit        gain test_column  \n",
       "0       42.75     reg  1190931    True    negative    negative  \n",
       "1       42.91     reg  4243413    True    negative    negative  \n",
       "2       43.80     reg  1261139   False  small_gain  small_gain  \n",
       "3       43.50     reg   859142    True    negative    negative  \n",
       "4       43.78     reg   940095    True    negative    negative  "
      ]
     },
     "execution_count": 13,
     "metadata": {},
     "output_type": "execute_result"
    }
   ],
   "source": [
    "df.drop('test_column', axis = 1)\n",
    "df.head()"
   ]
  },
  {
   "cell_type": "markdown",
   "metadata": {
    "slideshow": {
     "slide_type": "slide"
    }
   },
   "source": [
    "## Grouping"
   ]
  },
  {
   "cell_type": "markdown",
   "metadata": {
    "slideshow": {
     "slide_type": "fragment"
    }
   },
   "source": [
    "A useful DataFrame method is `groupby()`. It is analagous to the `GROUP BY` query construct in SQL. It groups rows of a DataFrame by the values in one (or more) columns, and makes it possible to iterate through each group. "
   ]
  },
  {
   "cell_type": "markdown",
   "metadata": {
    "slideshow": {
     "slide_type": "fragment"
    }
   },
   "source": [
    "Here we will look at the average gain among the  categories of gains (`negative`, `small`, `medium` and `large`) that we defined above and stored in column `gain`."
   ]
  },
  {
   "cell_type": "code",
   "execution_count": 14,
   "metadata": {
    "slideshow": {
     "slide_type": "-"
    }
   },
   "outputs": [],
   "source": [
    "gain_groups = df.groupby('gain')"
   ]
  },
  {
   "cell_type": "code",
   "execution_count": 15,
   "metadata": {},
   "outputs": [
    {
     "data": {
      "text/plain": [
       "<pandas.core.groupby.groupby.DataFrameGroupBy object at 0x1D19F6F0>"
      ]
     },
     "execution_count": 15,
     "metadata": {},
     "output_type": "execute_result"
    }
   ],
   "source": [
    "gain_groups"
   ]
  },
  {
   "cell_type": "markdown",
   "metadata": {
    "slideshow": {
     "slide_type": "fragment"
    }
   },
   "source": [
    "The `gain_groups` data structures behaves like a dictionary where:\n",
    "* the keys are the unique values found in the `gain` column, and\n",
    "* the values are **data frames** that contain only the rows having the corresponding unique values."
   ]
  },
  {
   "cell_type": "code",
   "execution_count": 16,
   "metadata": {
    "slideshow": {
     "slide_type": "fragment"
    }
   },
   "outputs": [
    {
     "name": "stdout",
     "output_type": "stream",
     "text": [
      "medium_gain\n",
      "   symbol   begins_at  close_price  high_price  interpolated  low_price  \\\n",
      "7    YELP  2017-09-25        41.90     43.1299         False      41.32   \n",
      "18   YELP  2017-10-10        44.40     45.8200         False      43.90   \n",
      "34   YELP  2017-11-01        46.03     48.1700         False      45.95   \n",
      "53   YELP  2017-11-29        45.20     47.7500         False      45.00   \n",
      "56   YELP  2017-12-04        43.05     44.3200         False      42.37   \n",
      "\n",
      "    open_price session   volume  profit         gain  test_column  \n",
      "7        43.03     reg  2026892   False  medium_gain  medium_gain  \n",
      "18       45.55     reg  1898232   False  medium_gain  medium_gain  \n",
      "34       47.22     reg  3919774   False  medium_gain  medium_gain  \n",
      "53       47.35     reg  1469804   False  medium_gain  medium_gain  \n",
      "56       44.10     reg  1194377   False  medium_gain  medium_gain  \n",
      "=============================\n",
      "negative\n",
      "  symbol   begins_at  close_price  high_price  interpolated  low_price  \\\n",
      "0   YELP  2017-09-14        42.91       43.03         False    42.5200   \n",
      "1   YELP  2017-09-15        43.57       43.70         False    42.7600   \n",
      "3   YELP  2017-09-19        43.85       44.07         False    43.0401   \n",
      "4   YELP  2017-09-20        44.17       44.24         False    43.4400   \n",
      "9   YELP  2017-09-27        42.70       42.79         False    41.8000   \n",
      "\n",
      "   open_price session   volume  profit      gain test_column  \n",
      "0       42.75     reg  1190931    True  negative    negative  \n",
      "1       42.91     reg  4243413    True  negative    negative  \n",
      "3       43.50     reg   859142    True  negative    negative  \n",
      "4       43.78     reg   940095    True  negative    negative  \n",
      "9       42.09     reg  1471632    True  negative    negative  \n",
      "=============================\n",
      "small_gain\n",
      "   symbol   begins_at  close_price  high_price  interpolated  low_price  \\\n",
      "2    YELP  2017-09-18        43.50     44.2300         False      43.35   \n",
      "5    YELP  2017-09-21        43.61     44.0700         False      43.05   \n",
      "6    YELP  2017-09-22        43.42     44.0000         False      43.24   \n",
      "8    YELP  2017-09-26        41.72     42.4215         False      41.68   \n",
      "20   YELP  2017-10-12        43.75     43.9700         False      43.53   \n",
      "\n",
      "    open_price session   volume  profit        gain test_column  \n",
      "2        43.80     reg  1261139   False  small_gain  small_gain  \n",
      "5        44.07     reg   769355   False  small_gain  small_gain  \n",
      "6        43.69     reg  1056873   False  small_gain  small_gain  \n",
      "8        42.11     reg  1087678   False  small_gain  small_gain  \n",
      "20       43.92     reg  1153125   False  small_gain  small_gain  \n",
      "=============================\n"
     ]
    }
   ],
   "source": [
    "for gain, gain_data in gain_groups:\n",
    "    print(gain)\n",
    "    print(gain_data.head())\n",
    "    print('=============================')"
   ]
  },
  {
   "cell_type": "code",
   "execution_count": 17,
   "metadata": {
    "slideshow": {
     "slide_type": "fragment"
    }
   },
   "outputs": [
    {
     "name": "stdout",
     "output_type": "stream",
     "text": [
      "The average closing value for the medium_gain group is 42.66521739130434\n",
      "The average closing value for the negative group is 43.876612903225805\n",
      "The average closing value for the small_gain group is 43.143047619047614\n"
     ]
    }
   ],
   "source": [
    "for gain, gain_data in df.groupby(\"gain\"):\n",
    "    print('The average closing value for the {} group is {}'.format(gain,\n",
    "                                                           gain_data['close_price'].mean()))"
   ]
  },
  {
   "cell_type": "markdown",
   "metadata": {
    "slideshow": {
     "slide_type": "fragment"
    }
   },
   "source": [
    "Note that another way to view a DataFrame is as an annotated two-dimensional array. The pandas library also has annotated versions of one-dimensional arrays (each of these is called a **`Series`**) and three-dimensional arrays (each of these is called a **`Panel`**)."
   ]
  },
  {
   "cell_type": "markdown",
   "metadata": {
    "slideshow": {
     "slide_type": "slide"
    }
   },
   "source": [
    "## Example: comparing multiple stocks"
   ]
  },
  {
   "cell_type": "markdown",
   "metadata": {
    "slideshow": {
     "slide_type": "fragment"
    }
   },
   "source": [
    "We will use the techniques we have learned so far -- together with some new ones -- in order to compare the performance of different stocks."
   ]
  },
  {
   "cell_type": "code",
   "execution_count": 18,
   "metadata": {
    "slideshow": {
     "slide_type": "fragment"
    }
   },
   "outputs": [
    {
     "data": {
      "text/plain": [
       "symbol  begins_at \n",
       "ORCL    2017-09-14    51.958800\n",
       "        2017-09-15    47.972600\n",
       "        2017-09-18    47.569100\n",
       "        2017-09-19    47.283600\n",
       "        2017-09-20    47.214700\n",
       "Name: close_price, dtype: object"
      ]
     },
     "execution_count": 18,
     "metadata": {},
     "output_type": "execute_result"
    }
   ],
   "source": [
    "stocks = ['ORCL', 'TSLA', 'IBM', 'YELP', 'MSFT']\n",
    "attr = 'close_price'\n",
    "df = web.DataReader(stocks, data_source)\n",
    "df = df[attr]\n",
    "df.head()"
   ]
  },
  {
   "cell_type": "code",
   "execution_count": 19,
   "metadata": {
    "slideshow": {
     "slide_type": "fragment"
    }
   },
   "outputs": [
    {
     "data": {
      "image/png": "[encoded data removed]",
      "text/plain": [
       "<Figure size 432x288 with 1 Axes>"
      ]
     },
     "metadata": {
      "needs_background": "light"
     },
     "output_type": "display_data"
    }
   ],
   "source": [
    "df.ORCL.astype(float).plot(label = 'orcl')\n",
    "df.TSLA.astype(float).plot(label = 'tesla')\n",
    "df.IBM.astype(float).plot(label = 'ibm')\n",
    "df.MSFT.astype(float).plot(label = 'msft')\n",
    "df.YELP.astype(float).plot(label = 'yelp')\n",
    "_ = plt.legend(loc='best')"
   ]
  },
  {
   "cell_type": "markdown",
   "metadata": {
    "slideshow": {
     "slide_type": "fragment"
    }
   },
   "source": [
    "We will calculate returns $r(T)$ over a period of length $T$, defined as:\n",
    "\n",
    "$$r(t) = \\frac{f(t)-f(t-T)}{f(t-T)}$$\n",
    "\n",
    "The returns can be computed with a DataFrame method `pct_change()`.  Note that for the first $T$ timesteps, this value is not defined."
   ]
  },
  {
   "cell_type": "code",
   "execution_count": 20,
   "metadata": {
    "slideshow": {
     "slide_type": "-"
    }
   },
   "outputs": [
    {
     "data": {
      "text/plain": [
       "symbol  begins_at \n",
       "ORCL    2017-09-14   NaN\n",
       "        2017-09-15   NaN\n",
       "        2017-09-18   NaN\n",
       "        2017-09-19   NaN\n",
       "        2017-09-20   NaN\n",
       "Name: close_price, dtype: float64"
      ]
     },
     "execution_count": 20,
     "metadata": {},
     "output_type": "execute_result"
    }
   ],
   "source": [
    "rets = df.astype(float).pct_change(30)\n",
    "rets.head()"
   ]
  },
  {
   "cell_type": "markdown",
   "metadata": {},
   "source": [
    "We could also compute any given row of the table directly using the formula. For example, we do so below for row `30` with $T = 30$."
   ]
  },
  {
   "cell_type": "code",
   "execution_count": 21,
   "metadata": {},
   "outputs": [
    {
     "data": {
      "text/plain": [
       "-0.0462616534638982"
      ]
     },
     "execution_count": 21,
     "metadata": {},
     "output_type": "execute_result"
    }
   ],
   "source": [
    "(df.astype(float).iloc[30] - df.astype(float).iloc[0])/df.astype(float).iloc[0]"
   ]
  },
  {
   "cell_type": "markdown",
   "metadata": {
    "slideshow": {
     "slide_type": "fragment"
    }
   },
   "source": [
    "We can plot the time series of the returns of the different stocks. Notice that the `NaN` values are gracefully dropped by the plotting function."
   ]
  },
  {
   "cell_type": "code",
   "execution_count": 22,
   "metadata": {
    "slideshow": {
     "slide_type": "-"
    }
   },
   "outputs": [
    {
     "data": {
      "text/plain": [
       "<matplotlib.legend.Legend at 0x1e337fd0>"
      ]
     },
     "execution_count": 22,
     "metadata": {},
     "output_type": "execute_result"
    },
    {
     "data": {
      "image/png": "[encoded data removed]",
      "text/plain": [
       "<Figure size 432x288 with 1 Axes>"
      ]
     },
     "metadata": {
      "needs_background": "light"
     },
     "output_type": "display_data"
    }
   ],
   "source": [
    "rets.ORCL.plot(label = 'oracle')\n",
    "rets.TSLA.plot(label = 'tesla')\n",
    "rets.IBM.plot(label = 'ibm')\n",
    "rets.MSFT.plot(label = 'msft')\n",
    "rets.YELP.plot(label = 'yelp')\n",
    "plt.legend(loc='best')"
   ]
  },
  {
   "cell_type": "markdown",
   "metadata": {
    "slideshow": {
     "slide_type": "fragment"
    }
   },
   "source": [
    "We can compare the returns from two stocks by creating a scatter plot."
   ]
  },
  {
   "cell_type": "code",
   "execution_count": 23,
   "metadata": {
    "slideshow": {
     "slide_type": "fragment"
    }
   },
   "outputs": [
    {
     "data": {
      "text/plain": [
       "Text(0,0.5,'ORCL 30-day returns')"
      ]
     },
     "execution_count": 23,
     "metadata": {},
     "output_type": "execute_result"
    },
    {
     "data": {
      "image/png": "[encoded data removed]",
      "text/plain": [
       "<Figure size 432x288 with 1 Axes>"
      ]
     },
     "metadata": {
      "needs_background": "light"
     },
     "output_type": "display_data"
    }
   ],
   "source": [
    "plt.scatter(rets.IBM, rets.ORCL)\n",
    "plt.xlabel('IBM 30-day returns')\n",
    "plt.ylabel('ORCL 30-day returns')"
   ]
  },
  {
   "cell_type": "markdown",
   "metadata": {
    "slideshow": {
     "slide_type": "fragment"
    }
   },
   "source": [
    "There appears to be some correlation between the movement of IBM and ORCL stocks. We can try to quantify this. The pandas library provides a DataFrame method to compute the correlation coefficient of all pairs of columns: `corr()`."
   ]
  },
  {
   "cell_type": "code",
   "execution_count": 24,
   "metadata": {
    "slideshow": {
     "slide_type": "fragment"
    }
   },
   "outputs": [
    {
     "data": {
      "text/html": [
       "<div>\n",
       "<style scoped>\n",
       "    .dataframe tbody tr th:only-of-type {\n",
       "        vertical-align: middle;\n",
       "    }\n",
       "\n",
       "    .dataframe tbody tr th {\n",
       "        vertical-align: top;\n",
       "    }\n",
       "\n",
       "    .dataframe thead th {\n",
       "        text-align: right;\n",
       "    }\n",
       "</style>\n",
       "<table border=\"1\" class=\"dataframe\">\n",
       "  <thead>\n",
       "    <tr style=\"text-align: right;\">\n",
       "      <th>symbol</th>\n",
       "      <th>IBM</th>\n",
       "      <th>MSFT</th>\n",
       "      <th>ORCL</th>\n",
       "      <th>TSLA</th>\n",
       "      <th>YELP</th>\n",
       "    </tr>\n",
       "    <tr>\n",
       "      <th>symbol</th>\n",
       "      <th></th>\n",
       "      <th></th>\n",
       "      <th></th>\n",
       "      <th></th>\n",
       "      <th></th>\n",
       "    </tr>\n",
       "  </thead>\n",
       "  <tbody>\n",
       "    <tr>\n",
       "      <th>IBM</th>\n",
       "      <td>1.000000</td>\n",
       "      <td>-0.916237</td>\n",
       "      <td>0.406079</td>\n",
       "      <td>-0.968995</td>\n",
       "      <td>0.919567</td>\n",
       "    </tr>\n",
       "    <tr>\n",
       "      <th>MSFT</th>\n",
       "      <td>-0.916237</td>\n",
       "      <td>1.000000</td>\n",
       "      <td>0.732001</td>\n",
       "      <td>0.966541</td>\n",
       "      <td>-0.887608</td>\n",
       "    </tr>\n",
       "    <tr>\n",
       "      <th>ORCL</th>\n",
       "      <td>0.406079</td>\n",
       "      <td>0.732001</td>\n",
       "      <td>1.000000</td>\n",
       "      <td>0.276537</td>\n",
       "      <td>0.307667</td>\n",
       "    </tr>\n",
       "    <tr>\n",
       "      <th>TSLA</th>\n",
       "      <td>-0.968995</td>\n",
       "      <td>0.966541</td>\n",
       "      <td>0.276537</td>\n",
       "      <td>1.000000</td>\n",
       "      <td>-0.942857</td>\n",
       "    </tr>\n",
       "    <tr>\n",
       "      <th>YELP</th>\n",
       "      <td>0.919567</td>\n",
       "      <td>-0.887608</td>\n",
       "      <td>0.307667</td>\n",
       "      <td>-0.942857</td>\n",
       "      <td>1.000000</td>\n",
       "    </tr>\n",
       "  </tbody>\n",
       "</table>\n",
       "</div>"
      ],
      "text/plain": [
       "symbol       IBM      MSFT      ORCL      TSLA      YELP\n",
       "symbol                                                  \n",
       "IBM     1.000000 -0.916237  0.406079 -0.968995  0.919567\n",
       "MSFT   -0.916237  1.000000  0.732001  0.966541 -0.887608\n",
       "ORCL    0.406079  0.732001  1.000000  0.276537  0.307667\n",
       "TSLA   -0.968995  0.966541  0.276537  1.000000 -0.942857\n",
       "YELP    0.919567 -0.887608  0.307667 -0.942857  1.000000"
      ]
     },
     "execution_count": 24,
     "metadata": {},
     "output_type": "execute_result"
    }
   ],
   "source": [
    "rets = rets.unstack(level=0)\n",
    "rets.corr()"
   ]
  },
  {
   "cell_type": "markdown",
   "metadata": {
    "slideshow": {
     "slide_type": "fragment"
    }
   },
   "source": [
    "It takes a bit of time to examine that table and draw conclusions. To speed that process up it helps to visualize the table. We will learn more about visualization later, but for now this is a simple example."
   ]
  },
  {
   "cell_type": "code",
   "execution_count": 25,
   "metadata": {
    "slideshow": {
     "slide_type": "fragment"
    }
   },
   "outputs": [
    {
     "data": {
      "image/png": "[encoded data removed]",
      "text/plain": [
       "<Figure size 432x288 with 2 Axes>"
      ]
     },
     "metadata": {
      "needs_background": "light"
     },
     "output_type": "display_data"
    }
   ],
   "source": [
    "_ = sns.heatmap(rets.corr(), annot=True)"
   ]
  },
  {
   "cell_type": "markdown",
   "metadata": {
    "slideshow": {
     "slide_type": "fragment"
    }
   },
   "source": [
    "Finally, it is important to know that the plotting performed by pandas is just a layer on top of `matplotlib` (i.e., the `plt` package). So these plots can be improved by using additional functions from `matplotlib`."
   ]
  },
  {
   "cell_type": "markdown",
   "metadata": {
    "slideshow": {
     "slide_type": "fragment"
    }
   },
   "source": [
    "For example, suppose we want to know both the returns as well as the standard deviation of the returns of a stock (i.e., its risk). Here is visualization of the result of such an analysis, and we construct the plot using only functions from `matplotlib`."
   ]
  },
  {
   "cell_type": "code",
   "execution_count": 26,
   "metadata": {
    "slideshow": {
     "slide_type": "fragment"
    }
   },
   "outputs": [
    {
     "data": {
      "image/png": "[encoded data removed]",
      "text/plain": [
       "<Figure size 432x288 with 1 Axes>"
      ]
     },
     "metadata": {
      "needs_background": "light"
     },
     "output_type": "display_data"
    }
   ],
   "source": [
    "plt.xlabel('Expected returns')\n",
    "plt.ylabel('Standard Deviation (Risk)')\n",
    "for label, x, y in zip(rets.columns, rets.mean(), rets.std()):\n",
    "    plt.annotate(\n",
    "        label, \n",
    "        xy = (x, y), xytext = (20, -20),\n",
    "        textcoords = 'offset points', ha = 'right', va = 'bottom',\n",
    "        bbox = dict(boxstyle = 'round,pad=0.5', fc = 'yellow', alpha = 0.5),\n",
    "        arrowprops = dict(arrowstyle = '->', connectionstyle = 'arc3,rad=0'))\n",
    "_ = plt.scatter(rets.mean(), rets.std())"
   ]
  },
  {
   "cell_type": "markdown",
   "metadata": {
    "slideshow": {
     "slide_type": "fragment"
    }
   },
   "source": [
    "To understand what these functions are doing, (especially the `annotate` function), you can consult the online documentation for matplotlib."
   ]
  }
 ],
 "metadata": {
  "anaconda-cloud": {},
  "celltoolbar": "Slideshow",
  "kernelspec": {
   "display_name": "Python 3",
   "language": "python",
   "name": "python3"
  },
  "language_info": {
   "codemirror_mode": {
    "name": "ipython",
    "version": 3
   },
   "file_extension": ".py",
   "mimetype": "text/x-python",
   "name": "python",
   "nbconvert_exporter": "python",
   "pygments_lexer": "ipython3",
   "version": "3.7.0"
  }
 },
 "nbformat": 4,
 "nbformat_minor": 1
}
