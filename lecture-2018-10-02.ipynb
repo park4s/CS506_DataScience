{
 "cells": [
  {
   "cell_type": "markdown",
   "metadata": {
    "slideshow": {
     "slide_type": "slide"
    }
   },
   "source": [
    "# Clustering"
   ]
  },
  {
   "cell_type": "code",
   "execution_count": 2,
   "metadata": {
    "slideshow": {
     "slide_type": "skip"
    }
   },
   "outputs": [
    {
     "name": "stdout",
     "output_type": "stream",
     "text": [
      "\n"
     ]
    }
   ],
   "source": [
    "%matplotlib inline\n",
    "%config InlineBackend.figure_format='retina'\n",
    "import requests\n",
    "import numpy as np\n",
    "import matplotlib as mp\n",
    "import pandas as pd\n",
    "import matplotlib.pyplot as plt\n",
    "import pandas as pd\n",
    "\n",
    "import sklearn.datasets as sk_data\n",
    "import sklearn.metrics as metrics\n",
    "import seaborn as sns\n",
    "\n",
    "from importlib import reload\n",
    "from datetime import datetime\n",
    "from IPython.display import Image\n",
    "from IPython.display import display_html\n",
    "from IPython.display import display\n",
    "from IPython.display import Math\n",
    "from IPython.display import Latex\n",
    "from IPython.display import HTML\n",
    "print('')"
   ]
  },
  {
   "cell_type": "code",
   "execution_count": 2,
   "metadata": {
    "slideshow": {
     "slide_type": "skip"
    }
   },
   "outputs": [
    {
     "data": {
      "text/html": [
       "<style>\n",
       " .container.slides .celltoolbar, .container.slides .hide-in-slideshow {\n",
       "    display: None ! important;\n",
       "}\n",
       "</style>"
      ],
      "text/plain": [
       "<IPython.core.display.HTML object>"
      ]
     },
     "metadata": {},
     "output_type": "display_data"
    }
   ],
   "source": [
    "%%html\n",
    "<style>\n",
    " .container.slides .celltoolbar, .container.slides .hide-in-slideshow {\n",
    "    display: None ! important;\n",
    "}\n",
    "</style>"
   ]
  },
  {
   "cell_type": "markdown",
   "metadata": {
    "slideshow": {
     "slide_type": "skip"
    }
   },
   "source": [
    "%Set up useful MathJax (Latex) macros.\n",
    "%See http://docs.mathjax.org/en/latest/tex.html#defining-tex-macros\n",
    "%These are for use in the slideshow\n",
    "$\\newcommand{\\mat}[1]{\\left[\\begin{array}#1\\end{array}\\right]}$\n",
    "$\\newcommand{\\vx}{{\\mathbf x}}$\n",
    "$\\newcommand{\\hx}{\\hat{\\mathbf x}}$\n",
    "$\\newcommand{\\vbt}{{\\mathbf\\beta}}$\n",
    "$\\newcommand{\\vy}{{\\mathbf y}}$\n",
    "$\\newcommand{\\vz}{{\\mathbf z}}$\n",
    "$\\newcommand{\\R}{{\\mathbb{R}}}$\n",
    "$\\newcommand{\\vu}{{\\mathbf u}}$\n",
    "$\\newcommand{\\vv}{{\\mathbf v}}$\n",
    "$\\newcommand{\\vw}{{\\mathbf w}}$\n",
    "$\\newcommand{\\col}{{\\operatorname{Col}}}$\n",
    "$\\newcommand{\\nul}{{\\operatorname{Nul}}}$\n",
    "$\\newcommand{\\vb}{{\\mathbf b}}$\n",
    "$\\newcommand{\\va}{{\\mathbf a}}$\n",
    "$\\newcommand{\\ve}{{\\mathbf e}}$\n",
    "$\\newcommand{\\setb}{{\\mathcal{B}}}$\n",
    "$\\newcommand{\\rank}{{\\operatorname{rank}}}$\n",
    "$\\newcommand{\\vp}{{\\mathbf p}}$"
   ]
  },
  {
   "cell_type": "raw",
   "metadata": {
    "slideshow": {
     "slide_type": "skip"
    }
   },
   "source": [
    "\\newcommand{\\mat}[1]{\\left[\\begin{array}#1\\end{array}\\right]}\n",
    "\\newcommand{\\vx}{{\\mathbf x}}\n",
    "\\newcommand{\\hx}{\\hat{\\mathbf x}}\n",
    "\\newcommand{\\vbt}{{\\mathbf\\beta}}\n",
    "\\newcommand{\\vy}{{\\mathbf y}}\n",
    "\\newcommand{\\vz}{{\\mathbf z}}\n",
    "\\newcommand{\\vb}{{\\mathbf b}}\n",
    "\\newcommand{\\vu}{{\\mathbf u}}\n",
    "\\newcommand{\\vv}{{\\mathbf v}}\n",
    "\\newcommand{\\vw}{{\\mathbf w}}\n",
    "\\newcommand{\\va}{{\\mathbf a}}\n",
    "\\newcommand{\\ve}{{\\mathbf e}}\n",
    "\\newcommand{\\vp}{{\\mathbf p}}\n",
    "\\newcommand{\\R}{{\\mathbb{R}}}\n",
    "\\newcommand{\\col}{{\\operatorname{Col}}}\n",
    "\\newcommand{\\nul}{{\\operatorname{Nul}}}\n",
    "\\newcommand{\\rank}{{\\operatorname{rank}}}\n",
    "\\newcommand{\\setb}{{\\mathcal{B}}}"
   ]
  },
  {
   "cell_type": "markdown",
   "metadata": {
    "slideshow": {
     "slide_type": "slide"
    }
   },
   "source": [
    "## Clustering"
   ]
  },
  {
   "cell_type": "markdown",
   "metadata": {
    "slideshow": {
     "slide_type": "fragment"
    }
   },
   "source": [
    "Clustering is a way of discovering a particular type of **structure** in a data set. Many real-world data sets exhibit this kind of structure (potentially in addition to other kinds of structure):\n",
    "\n",
    "* Locations where millionaires live\n",
    "* The number of hours people work each week\n",
    "* Demographics (\"soccer moms\", \"bored retirees\", \"unemployed millenials\", etc.)"
   ]
  },
  {
   "cell_type": "markdown",
   "metadata": {
    "slideshow": {
     "slide_type": "fragment"
    }
   },
   "source": [
    "In most approaches that represent or employ clustering, we first find clusters and then __interpret__ them by assigning a label or category to each cluster. Thus, clustering is an example of __unsupervised__ learning:\n",
    "\n",
    "* __Supervised__ methods:  Data items have labels, and we want to learn a function that correctly assigns labels to new data items.\n",
    "* __Unsupervised__ methods:  Data items do not have labels, and we want to learn a function that extracts  important patterns from the data."
   ]
  },
  {
   "cell_type": "markdown",
   "metadata": {
    "slideshow": {
     "slide_type": "slide"
    }
   },
   "source": [
    "### Feature scaling"
   ]
  },
  {
   "cell_type": "markdown",
   "metadata": {
    "slideshow": {
     "slide_type": "fragment"
    }
   },
   "source": [
    "When constructing or selecting a distance metric, one needs to think carefully about the scale of the features being used."
   ]
  },
  {
   "cell_type": "markdown",
   "metadata": {
    "slideshow": {
     "slide_type": "fragment"
    }
   },
   "source": [
    "For example, consider the case where we are clustering people based on their age, income, and gender. We might use age in years, income in dollars, and assign gender to the values $\\{0, 1\\}$. Suppose we have the following data set entries:\n",
    "\n",
    "* Joe Smith, age 27, income USD 75,000, male\n",
    "* Eve Jones, age 45, income USD 42,000, female\n",
    "\n",
    "The above entries would be encoded in a feature space as follows:\n",
    "\n",
    "$$\\mat{{c}27\\\\75000\\\\0},\\mat{{c}45\\\\42000\\\\1} $$"
   ]
  },
  {
   "cell_type": "markdown",
   "metadata": {
    "slideshow": {
     "slide_type": "fragment"
    }
   },
   "source": [
    "What would happen if we used Euclidean distance as our dissimilarity metric in this feature space?\n",
    "\n",
    "Clearly, the influence of income would dominate the other two features.  For example, a difference of gender is about as significant as a difference of one dollar of yearly income. We are unlikely to expose gender-based differences if we cluster using this representation."
   ]
  },
  {
   "cell_type": "markdown",
   "metadata": {
    "slideshow": {
     "slide_type": "fragment"
    }
   },
   "source": [
    "The most common way to handle this is __feature scaling__: rescale each feature dimension separately, so that its range of values is about the same as all of other features. For example, one may choose to:\n",
    "* Shift each feature independently by subtracting the mean over all observed values (this centers each feature on zero)\n",
    "* Rescale each feature so that the standard deviation over all observed values is 1 (then the feature will have about the same range of values as all the others)"
   ]
  },
  {
   "cell_type": "markdown",
   "metadata": {
    "slideshow": {
     "slide_type": "fragment"
    }
   },
   "source": [
    "As an example, we will consider Bortkiewicz's famous horse-kick data set."
   ]
  },
  {
   "cell_type": "code",
   "execution_count": 3,
   "metadata": {},
   "outputs": [
    {
     "data": {
      "text/plain": [
       "Year\n",
       "1875.0     3.0\n",
       "1876.0     5.0\n",
       "1877.0     7.0\n",
       "1878.0     9.0\n",
       "1879.0    10.0\n",
       "1880.0    18.0\n",
       "1881.0     6.0\n",
       "1882.0    14.0\n",
       "1883.0    11.0\n",
       "1884.0     9.0\n",
       "1885.0     5.0\n",
       "1886.0    11.0\n",
       "1887.0    15.0\n",
       "1888.0     6.0\n",
       "1889.0    11.0\n",
       "1890.0    17.0\n",
       "1891.0    12.0\n",
       "1892.0    15.0\n",
       "1893.0     8.0\n",
       "1894.0     4.0\n",
       "dtype: float64"
      ]
     },
     "execution_count": 3,
     "metadata": {},
     "output_type": "execute_result"
    }
   ],
   "source": [
    "# source: http://www.randomservices.org/random/data/HorseKicks.html\n",
    "import pandas as pd\n",
    "import requests\n",
    "data = requests.get('https://www.randomservices.org/random/data/HorseKicks.txt').text\n",
    "open('HorseKicks.txt', 'w').write(data)\n",
    "df = pd.read_table('HorseKicks.txt', index_col='Year',dtype='float')\n",
    "counts = df.sum(axis=1)\n",
    "counts"
   ]
  },
  {
   "cell_type": "code",
   "execution_count": 4,
   "metadata": {
    "slideshow": {
     "slide_type": "fragment"
    }
   },
   "outputs": [
    {
     "data": {
      "image/png": "[encoded data removed]",
      "text/plain": [
       "<Figure size 432x288 with 1 Axes>"
      ]
     },
     "metadata": {
      "image/png": {
       "height": 256,
       "width": 373
      },
      "needs_background": "light"
     },
     "output_type": "display_data"
    }
   ],
   "source": [
    "_ = counts.hist(bins=25,xlabelsize=16)"
   ]
  },
  {
   "cell_type": "code",
   "execution_count": 5,
   "metadata": {},
   "outputs": [
    {
     "data": {
      "text/plain": [
       "9.8"
      ]
     },
     "execution_count": 5,
     "metadata": {},
     "output_type": "execute_result"
    }
   ],
   "source": [
    "counts.mean()"
   ]
  },
  {
   "cell_type": "markdown",
   "metadata": {
    "slideshow": {
     "slide_type": "fragment"
    }
   },
   "source": [
    "To standardize to zero mean and unit standard deviation, we can use tools from the `scikit-learn` library."
   ]
  },
  {
   "cell_type": "code",
   "execution_count": 6,
   "metadata": {
    "slideshow": {
     "slide_type": "fragment"
    }
   },
   "outputs": [
    {
     "name": "stdout",
     "output_type": "stream",
     "text": [
      "           0\n",
      "0  -1.586984\n",
      "1  -1.120224\n",
      "2  -0.653464\n",
      "3  -0.186704\n",
      "4   0.046676\n",
      "5   1.913716\n",
      "6  -0.886844\n",
      "7   0.980196\n",
      "8   0.280056\n",
      "9  -0.186704\n",
      "10 -1.120224\n",
      "11  0.280056\n",
      "12  1.213576\n",
      "13 -0.886844\n",
      "14  0.280056\n",
      "15  1.680336\n",
      "16  0.513436\n",
      "17  1.213576\n",
      "18 -0.420084\n",
      "19 -1.353604\n"
     ]
    },
    {
     "data": {
      "image/png": "[encoded data removed]",
      "text/plain": [
       "<Figure size 432x288 with 1 Axes>"
      ]
     },
     "metadata": {
      "image/png": {
       "height": 269,
       "width": 377
      },
      "needs_background": "light"
     },
     "output_type": "display_data"
    }
   ],
   "source": [
    "from sklearn import preprocessing\n",
    "counts_scaled = pd.DataFrame(preprocessing.scale(counts))\n",
    "print(counts_scaled)\n",
    "_ = counts_scaled.hist(bins=25,xlabelsize=16)"
   ]
  },
  {
   "cell_type": "markdown",
   "metadata": {
    "slideshow": {
     "slide_type": "fragment"
    }
   },
   "source": [
    "Note that the mean for the scaled data set is now near 0 and the standard deviation is about 1."
   ]
  },
  {
   "cell_type": "code",
   "execution_count": 7,
   "metadata": {},
   "outputs": [
    {
     "name": "stdout",
     "output_type": "stream",
     "text": [
      "mean: [-1.33226763e-16]\n",
      "standard deviation: [1.02597835]\n"
     ]
    }
   ],
   "source": [
    "print('mean:', counts_scaled.mean().values)\n",
    "print('standard deviation:', counts_scaled.std().values)"
   ]
  },
  {
   "cell_type": "markdown",
   "metadata": {
    "slideshow": {
     "slide_type": "fragment"
    }
   },
   "source": [
    "Values that were zero before have now become negative. In some situations, it may not be sensible to change zeros into something else. It may make more sense to map all values into a fixed range, for example $[0, 1]$."
   ]
  },
  {
   "cell_type": "code",
   "execution_count": 8,
   "metadata": {
    "slideshow": {
     "slide_type": "fragment"
    }
   },
   "outputs": [
    {
     "name": "stdout",
     "output_type": "stream",
     "text": [
      "           0\n",
      "0   0.000000\n",
      "1   0.133333\n",
      "2   0.266667\n",
      "3   0.400000\n",
      "4   0.466667\n",
      "5   1.000000\n",
      "6   0.200000\n",
      "7   0.733333\n",
      "8   0.533333\n",
      "9   0.400000\n",
      "10  0.133333\n",
      "11  0.533333\n",
      "12  0.800000\n",
      "13  0.200000\n",
      "14  0.533333\n",
      "15  0.933333\n",
      "16  0.600000\n",
      "17  0.800000\n",
      "18  0.333333\n",
      "19  0.066667\n"
     ]
    },
    {
     "data": {
      "image/png": "[encoded data removed]",
      "text/plain": [
       "<Figure size 432x288 with 1 Axes>"
      ]
     },
     "metadata": {
      "image/png": {
       "height": 269,
       "width": 373
      },
      "needs_background": "light"
     },
     "output_type": "display_data"
    }
   ],
   "source": [
    "min_max_scaler = preprocessing.MinMaxScaler()\n",
    "counts_minmax = min_max_scaler.fit_transform(counts.values.reshape(-1,1))\n",
    "counts_minmax = pd.DataFrame(counts_minmax)\n",
    "print(counts_minmax)\n",
    "_ = counts_minmax.hist(bins=25,xlabelsize=16)"
   ]
  },
  {
   "cell_type": "markdown",
   "metadata": {
    "slideshow": {
     "slide_type": "fragment"
    }
   },
   "source": [
    "If we need to rescale multiple dimensions, one approach we can take is to do so one dimension at a time."
   ]
  },
  {
   "cell_type": "code",
   "execution_count": 9,
   "metadata": {
    "slideshow": {
     "slide_type": "fragment"
    }
   },
   "outputs": [
    {
     "data": {
      "text/html": [
       "<div>\n",
       "<style scoped>\n",
       "    .dataframe tbody tr th:only-of-type {\n",
       "        vertical-align: middle;\n",
       "    }\n",
       "\n",
       "    .dataframe tbody tr th {\n",
       "        vertical-align: top;\n",
       "    }\n",
       "\n",
       "    .dataframe thead th {\n",
       "        text-align: right;\n",
       "    }\n",
       "</style>\n",
       "<table border=\"1\" class=\"dataframe\">\n",
       "  <thead>\n",
       "    <tr style=\"text-align: right;\">\n",
       "      <th></th>\n",
       "      <th>GC</th>\n",
       "      <th>C1</th>\n",
       "      <th>C2</th>\n",
       "      <th>C3</th>\n",
       "      <th>C4</th>\n",
       "      <th>C5</th>\n",
       "      <th>C6</th>\n",
       "      <th>C7</th>\n",
       "      <th>C8</th>\n",
       "      <th>C9</th>\n",
       "      <th>C10</th>\n",
       "      <th>C11</th>\n",
       "      <th>C14</th>\n",
       "      <th>C15</th>\n",
       "    </tr>\n",
       "    <tr>\n",
       "      <th>Year</th>\n",
       "      <th></th>\n",
       "      <th></th>\n",
       "      <th></th>\n",
       "      <th></th>\n",
       "      <th></th>\n",
       "      <th></th>\n",
       "      <th></th>\n",
       "      <th></th>\n",
       "      <th></th>\n",
       "      <th></th>\n",
       "      <th></th>\n",
       "      <th></th>\n",
       "      <th></th>\n",
       "      <th></th>\n",
       "    </tr>\n",
       "  </thead>\n",
       "  <tbody>\n",
       "    <tr>\n",
       "      <th>1875.0</th>\n",
       "      <td>0.000000</td>\n",
       "      <td>0.000000</td>\n",
       "      <td>0.0</td>\n",
       "      <td>0.0</td>\n",
       "      <td>0.0</td>\n",
       "      <td>0.0</td>\n",
       "      <td>0.000000</td>\n",
       "      <td>0.5</td>\n",
       "      <td>1.0</td>\n",
       "      <td>0.0</td>\n",
       "      <td>0.000000</td>\n",
       "      <td>0.00</td>\n",
       "      <td>0.25</td>\n",
       "      <td>0.0</td>\n",
       "    </tr>\n",
       "    <tr>\n",
       "      <th>1876.0</th>\n",
       "      <td>0.666667</td>\n",
       "      <td>0.000000</td>\n",
       "      <td>0.0</td>\n",
       "      <td>0.0</td>\n",
       "      <td>1.0</td>\n",
       "      <td>0.0</td>\n",
       "      <td>0.000000</td>\n",
       "      <td>0.0</td>\n",
       "      <td>0.0</td>\n",
       "      <td>0.0</td>\n",
       "      <td>0.000000</td>\n",
       "      <td>0.00</td>\n",
       "      <td>0.25</td>\n",
       "      <td>0.5</td>\n",
       "    </tr>\n",
       "    <tr>\n",
       "      <th>1877.0</th>\n",
       "      <td>0.666667</td>\n",
       "      <td>0.000000</td>\n",
       "      <td>0.0</td>\n",
       "      <td>0.0</td>\n",
       "      <td>0.0</td>\n",
       "      <td>0.0</td>\n",
       "      <td>0.333333</td>\n",
       "      <td>0.5</td>\n",
       "      <td>0.0</td>\n",
       "      <td>0.0</td>\n",
       "      <td>0.333333</td>\n",
       "      <td>0.00</td>\n",
       "      <td>0.50</td>\n",
       "      <td>0.0</td>\n",
       "    </tr>\n",
       "    <tr>\n",
       "      <th>1878.0</th>\n",
       "      <td>0.333333</td>\n",
       "      <td>0.666667</td>\n",
       "      <td>1.0</td>\n",
       "      <td>0.5</td>\n",
       "      <td>1.0</td>\n",
       "      <td>0.0</td>\n",
       "      <td>0.000000</td>\n",
       "      <td>0.0</td>\n",
       "      <td>0.0</td>\n",
       "      <td>0.0</td>\n",
       "      <td>0.333333</td>\n",
       "      <td>0.00</td>\n",
       "      <td>0.25</td>\n",
       "      <td>0.0</td>\n",
       "    </tr>\n",
       "    <tr>\n",
       "      <th>1879.0</th>\n",
       "      <td>0.000000</td>\n",
       "      <td>0.000000</td>\n",
       "      <td>0.0</td>\n",
       "      <td>0.5</td>\n",
       "      <td>1.0</td>\n",
       "      <td>1.0</td>\n",
       "      <td>0.666667</td>\n",
       "      <td>0.0</td>\n",
       "      <td>1.0</td>\n",
       "      <td>0.0</td>\n",
       "      <td>0.000000</td>\n",
       "      <td>0.50</td>\n",
       "      <td>0.25</td>\n",
       "      <td>0.0</td>\n",
       "    </tr>\n",
       "    <tr>\n",
       "      <th>1880.0</th>\n",
       "      <td>0.000000</td>\n",
       "      <td>1.000000</td>\n",
       "      <td>1.0</td>\n",
       "      <td>0.5</td>\n",
       "      <td>1.0</td>\n",
       "      <td>0.5</td>\n",
       "      <td>0.000000</td>\n",
       "      <td>0.0</td>\n",
       "      <td>0.0</td>\n",
       "      <td>1.0</td>\n",
       "      <td>0.333333</td>\n",
       "      <td>1.00</td>\n",
       "      <td>0.75</td>\n",
       "      <td>0.0</td>\n",
       "    </tr>\n",
       "    <tr>\n",
       "      <th>1881.0</th>\n",
       "      <td>0.333333</td>\n",
       "      <td>0.000000</td>\n",
       "      <td>0.0</td>\n",
       "      <td>1.0</td>\n",
       "      <td>1.0</td>\n",
       "      <td>0.0</td>\n",
       "      <td>0.000000</td>\n",
       "      <td>0.5</td>\n",
       "      <td>0.0</td>\n",
       "      <td>0.5</td>\n",
       "      <td>0.000000</td>\n",
       "      <td>0.00</td>\n",
       "      <td>0.00</td>\n",
       "      <td>0.0</td>\n",
       "    </tr>\n",
       "    <tr>\n",
       "      <th>1882.0</th>\n",
       "      <td>0.333333</td>\n",
       "      <td>0.666667</td>\n",
       "      <td>0.0</td>\n",
       "      <td>0.0</td>\n",
       "      <td>0.0</td>\n",
       "      <td>0.0</td>\n",
       "      <td>0.333333</td>\n",
       "      <td>0.0</td>\n",
       "      <td>1.0</td>\n",
       "      <td>0.5</td>\n",
       "      <td>0.666667</td>\n",
       "      <td>0.25</td>\n",
       "      <td>1.00</td>\n",
       "      <td>0.5</td>\n",
       "    </tr>\n",
       "    <tr>\n",
       "      <th>1883.0</th>\n",
       "      <td>0.000000</td>\n",
       "      <td>0.000000</td>\n",
       "      <td>0.5</td>\n",
       "      <td>1.0</td>\n",
       "      <td>0.0</td>\n",
       "      <td>0.5</td>\n",
       "      <td>0.666667</td>\n",
       "      <td>0.5</td>\n",
       "      <td>0.0</td>\n",
       "      <td>0.5</td>\n",
       "      <td>0.000000</td>\n",
       "      <td>0.75</td>\n",
       "      <td>0.00</td>\n",
       "      <td>0.0</td>\n",
       "    </tr>\n",
       "    <tr>\n",
       "      <th>1884.0</th>\n",
       "      <td>1.000000</td>\n",
       "      <td>0.000000</td>\n",
       "      <td>0.5</td>\n",
       "      <td>0.0</td>\n",
       "      <td>0.0</td>\n",
       "      <td>0.0</td>\n",
       "      <td>0.000000</td>\n",
       "      <td>0.5</td>\n",
       "      <td>0.0</td>\n",
       "      <td>0.0</td>\n",
       "      <td>0.666667</td>\n",
       "      <td>0.00</td>\n",
       "      <td>0.25</td>\n",
       "      <td>0.5</td>\n",
       "    </tr>\n",
       "    <tr>\n",
       "      <th>1885.0</th>\n",
       "      <td>0.000000</td>\n",
       "      <td>0.000000</td>\n",
       "      <td>0.0</td>\n",
       "      <td>0.0</td>\n",
       "      <td>0.0</td>\n",
       "      <td>0.0</td>\n",
       "      <td>0.333333</td>\n",
       "      <td>0.0</td>\n",
       "      <td>0.0</td>\n",
       "      <td>1.0</td>\n",
       "      <td>0.000000</td>\n",
       "      <td>0.25</td>\n",
       "      <td>0.00</td>\n",
       "      <td>0.5</td>\n",
       "    </tr>\n",
       "    <tr>\n",
       "      <th>1886.0</th>\n",
       "      <td>0.666667</td>\n",
       "      <td>0.333333</td>\n",
       "      <td>0.0</td>\n",
       "      <td>0.0</td>\n",
       "      <td>1.0</td>\n",
       "      <td>0.5</td>\n",
       "      <td>0.333333</td>\n",
       "      <td>0.0</td>\n",
       "      <td>0.0</td>\n",
       "      <td>0.5</td>\n",
       "      <td>0.000000</td>\n",
       "      <td>0.25</td>\n",
       "      <td>0.75</td>\n",
       "      <td>0.0</td>\n",
       "    </tr>\n",
       "    <tr>\n",
       "      <th>1887.0</th>\n",
       "      <td>0.333333</td>\n",
       "      <td>0.333333</td>\n",
       "      <td>1.0</td>\n",
       "      <td>0.5</td>\n",
       "      <td>0.0</td>\n",
       "      <td>0.0</td>\n",
       "      <td>1.000000</td>\n",
       "      <td>1.0</td>\n",
       "      <td>1.0</td>\n",
       "      <td>0.5</td>\n",
       "      <td>0.000000</td>\n",
       "      <td>0.25</td>\n",
       "      <td>0.50</td>\n",
       "      <td>0.0</td>\n",
       "    </tr>\n",
       "    <tr>\n",
       "      <th>1888.0</th>\n",
       "      <td>0.000000</td>\n",
       "      <td>0.333333</td>\n",
       "      <td>0.5</td>\n",
       "      <td>0.0</td>\n",
       "      <td>0.0</td>\n",
       "      <td>0.5</td>\n",
       "      <td>0.333333</td>\n",
       "      <td>0.0</td>\n",
       "      <td>0.0</td>\n",
       "      <td>0.0</td>\n",
       "      <td>0.000000</td>\n",
       "      <td>0.25</td>\n",
       "      <td>0.25</td>\n",
       "      <td>0.0</td>\n",
       "    </tr>\n",
       "    <tr>\n",
       "      <th>1889.0</th>\n",
       "      <td>0.000000</td>\n",
       "      <td>0.000000</td>\n",
       "      <td>0.5</td>\n",
       "      <td>0.5</td>\n",
       "      <td>0.0</td>\n",
       "      <td>0.5</td>\n",
       "      <td>0.333333</td>\n",
       "      <td>0.0</td>\n",
       "      <td>0.0</td>\n",
       "      <td>0.5</td>\n",
       "      <td>0.666667</td>\n",
       "      <td>0.50</td>\n",
       "      <td>0.00</td>\n",
       "      <td>1.0</td>\n",
       "    </tr>\n",
       "    <tr>\n",
       "      <th>1890.0</th>\n",
       "      <td>0.333333</td>\n",
       "      <td>0.666667</td>\n",
       "      <td>0.0</td>\n",
       "      <td>1.0</td>\n",
       "      <td>0.0</td>\n",
       "      <td>0.5</td>\n",
       "      <td>0.333333</td>\n",
       "      <td>1.0</td>\n",
       "      <td>0.0</td>\n",
       "      <td>1.0</td>\n",
       "      <td>0.333333</td>\n",
       "      <td>0.25</td>\n",
       "      <td>0.50</td>\n",
       "      <td>1.0</td>\n",
       "    </tr>\n",
       "    <tr>\n",
       "      <th>1891.0</th>\n",
       "      <td>0.000000</td>\n",
       "      <td>0.000000</td>\n",
       "      <td>0.0</td>\n",
       "      <td>0.5</td>\n",
       "      <td>1.0</td>\n",
       "      <td>0.5</td>\n",
       "      <td>0.000000</td>\n",
       "      <td>0.5</td>\n",
       "      <td>1.0</td>\n",
       "      <td>0.0</td>\n",
       "      <td>1.000000</td>\n",
       "      <td>0.75</td>\n",
       "      <td>0.25</td>\n",
       "      <td>0.0</td>\n",
       "    </tr>\n",
       "    <tr>\n",
       "      <th>1892.0</th>\n",
       "      <td>0.333333</td>\n",
       "      <td>1.000000</td>\n",
       "      <td>1.0</td>\n",
       "      <td>0.0</td>\n",
       "      <td>1.0</td>\n",
       "      <td>0.5</td>\n",
       "      <td>1.000000</td>\n",
       "      <td>0.0</td>\n",
       "      <td>1.0</td>\n",
       "      <td>0.5</td>\n",
       "      <td>0.000000</td>\n",
       "      <td>0.25</td>\n",
       "      <td>0.25</td>\n",
       "      <td>0.0</td>\n",
       "    </tr>\n",
       "    <tr>\n",
       "      <th>1893.0</th>\n",
       "      <td>0.000000</td>\n",
       "      <td>0.333333</td>\n",
       "      <td>0.0</td>\n",
       "      <td>0.0</td>\n",
       "      <td>0.0</td>\n",
       "      <td>0.5</td>\n",
       "      <td>0.000000</td>\n",
       "      <td>1.0</td>\n",
       "      <td>0.0</td>\n",
       "      <td>0.0</td>\n",
       "      <td>0.333333</td>\n",
       "      <td>0.75</td>\n",
       "      <td>0.00</td>\n",
       "      <td>0.0</td>\n",
       "    </tr>\n",
       "    <tr>\n",
       "      <th>1894.0</th>\n",
       "      <td>0.333333</td>\n",
       "      <td>0.000000</td>\n",
       "      <td>0.0</td>\n",
       "      <td>0.0</td>\n",
       "      <td>0.0</td>\n",
       "      <td>0.0</td>\n",
       "      <td>0.000000</td>\n",
       "      <td>0.0</td>\n",
       "      <td>1.0</td>\n",
       "      <td>0.0</td>\n",
       "      <td>0.333333</td>\n",
       "      <td>0.25</td>\n",
       "      <td>0.00</td>\n",
       "      <td>0.0</td>\n",
       "    </tr>\n",
       "  </tbody>\n",
       "</table>\n",
       "</div>"
      ],
      "text/plain": [
       "              GC        C1   C2   C3   C4   C5        C6   C7   C8   C9  \\\n",
       "Year                                                                      \n",
       "1875.0  0.000000  0.000000  0.0  0.0  0.0  0.0  0.000000  0.5  1.0  0.0   \n",
       "1876.0  0.666667  0.000000  0.0  0.0  1.0  0.0  0.000000  0.0  0.0  0.0   \n",
       "1877.0  0.666667  0.000000  0.0  0.0  0.0  0.0  0.333333  0.5  0.0  0.0   \n",
       "1878.0  0.333333  0.666667  1.0  0.5  1.0  0.0  0.000000  0.0  0.0  0.0   \n",
       "1879.0  0.000000  0.000000  0.0  0.5  1.0  1.0  0.666667  0.0  1.0  0.0   \n",
       "1880.0  0.000000  1.000000  1.0  0.5  1.0  0.5  0.000000  0.0  0.0  1.0   \n",
       "1881.0  0.333333  0.000000  0.0  1.0  1.0  0.0  0.000000  0.5  0.0  0.5   \n",
       "1882.0  0.333333  0.666667  0.0  0.0  0.0  0.0  0.333333  0.0  1.0  0.5   \n",
       "1883.0  0.000000  0.000000  0.5  1.0  0.0  0.5  0.666667  0.5  0.0  0.5   \n",
       "1884.0  1.000000  0.000000  0.5  0.0  0.0  0.0  0.000000  0.5  0.0  0.0   \n",
       "1885.0  0.000000  0.000000  0.0  0.0  0.0  0.0  0.333333  0.0  0.0  1.0   \n",
       "1886.0  0.666667  0.333333  0.0  0.0  1.0  0.5  0.333333  0.0  0.0  0.5   \n",
       "1887.0  0.333333  0.333333  1.0  0.5  0.0  0.0  1.000000  1.0  1.0  0.5   \n",
       "1888.0  0.000000  0.333333  0.5  0.0  0.0  0.5  0.333333  0.0  0.0  0.0   \n",
       "1889.0  0.000000  0.000000  0.5  0.5  0.0  0.5  0.333333  0.0  0.0  0.5   \n",
       "1890.0  0.333333  0.666667  0.0  1.0  0.0  0.5  0.333333  1.0  0.0  1.0   \n",
       "1891.0  0.000000  0.000000  0.0  0.5  1.0  0.5  0.000000  0.5  1.0  0.0   \n",
       "1892.0  0.333333  1.000000  1.0  0.0  1.0  0.5  1.000000  0.0  1.0  0.5   \n",
       "1893.0  0.000000  0.333333  0.0  0.0  0.0  0.5  0.000000  1.0  0.0  0.0   \n",
       "1894.0  0.333333  0.000000  0.0  0.0  0.0  0.0  0.000000  0.0  1.0  0.0   \n",
       "\n",
       "             C10   C11   C14  C15  \n",
       "Year                               \n",
       "1875.0  0.000000  0.00  0.25  0.0  \n",
       "1876.0  0.000000  0.00  0.25  0.5  \n",
       "1877.0  0.333333  0.00  0.50  0.0  \n",
       "1878.0  0.333333  0.00  0.25  0.0  \n",
       "1879.0  0.000000  0.50  0.25  0.0  \n",
       "1880.0  0.333333  1.00  0.75  0.0  \n",
       "1881.0  0.000000  0.00  0.00  0.0  \n",
       "1882.0  0.666667  0.25  1.00  0.5  \n",
       "1883.0  0.000000  0.75  0.00  0.0  \n",
       "1884.0  0.666667  0.00  0.25  0.5  \n",
       "1885.0  0.000000  0.25  0.00  0.5  \n",
       "1886.0  0.000000  0.25  0.75  0.0  \n",
       "1887.0  0.000000  0.25  0.50  0.0  \n",
       "1888.0  0.000000  0.25  0.25  0.0  \n",
       "1889.0  0.666667  0.50  0.00  1.0  \n",
       "1890.0  0.333333  0.25  0.50  1.0  \n",
       "1891.0  1.000000  0.75  0.25  0.0  \n",
       "1892.0  0.000000  0.25  0.25  0.0  \n",
       "1893.0  0.333333  0.75  0.00  0.0  \n",
       "1894.0  0.333333  0.25  0.00  0.0  "
      ]
     },
     "execution_count": 9,
     "metadata": {},
     "output_type": "execute_result"
    }
   ],
   "source": [
    "min_max_scaler = preprocessing.MinMaxScaler()\n",
    "for column in df.columns:\n",
    "    df[column] = min_max_scaler.fit_transform(df[column].values.reshape(-1,1))\n",
    "df"
   ]
  },
  {
   "cell_type": "markdown",
   "metadata": {
    "slideshow": {
     "slide_type": "slide"
    }
   },
   "source": [
    "## Clustering examples with synthetic data"
   ]
  },
  {
   "cell_type": "markdown",
   "metadata": {
    "slideshow": {
     "slide_type": "fragment"
    }
   },
   "source": [
    "We consider an extended example showing how k-means clustering can be applied in practice using the Python scikit-learn libraries. Our goals include understanding:\n",
    "\n",
    "* How clustering is used in practice\n",
    "* Tools for evaluating the quality of a clustering output\n",
    "* Tools for assigning meaning or labels to a cluster\n",
    "* Common visualizations of results\n",
    "* A little bit about feature extraction for text"
   ]
  },
  {
   "cell_type": "markdown",
   "metadata": {
    "slideshow": {
     "slide_type": "slide"
    }
   },
   "source": [
    "### Generating data"
   ]
  },
  {
   "cell_type": "markdown",
   "metadata": {
    "slideshow": {
     "slide_type": "fragment"
    }
   },
   "source": [
    "When developing a new unsupervised method, it's a good idea to try it on a data set for which you already know the \"right\" answer. One way to do this is to generate synthetic data that has some known properties."
   ]
  },
  {
   "cell_type": "markdown",
   "metadata": {
    "slideshow": {
     "slide_type": "fragment"
    }
   },
   "source": [
    "The [scikit-learn](http://scikit-learn.org/stable/documentation.html) library makes available a variety of common machine learning functions.\n",
    "\n",
    "Among other things, it also provides tools for generating synthetic data for testing.\n",
    "\n",
    "The ```make_blobs``` function will generate a data set of naturally clustered points (a mixture of spherical Gaussians with standard deviation 1 in each coordinate), along with a vector of labels indicating which points belongs to which blob.\n",
    "\n",
    "We'll start by generating points in the plane:"
   ]
  },
  {
   "cell_type": "code",
   "execution_count": 4,
   "metadata": {},
   "outputs": [
    {
     "name": "stdout",
     "output_type": "stream",
     "text": [
      "[[ 4.68712586  1.58702856]\n",
      " [ 1.0570736   8.99447715]\n",
      " [ 5.05778701  1.64031723]\n",
      " [ 0.33864231  8.39483437]\n",
      " [ 0.90398719  7.18755672]\n",
      " [ 1.60462801  8.76392362]\n",
      " [-4.20127668  5.39794448]\n",
      " [-2.10438722  5.92331576]\n",
      " [ 4.7828298   2.20278916]\n",
      " [ 1.31821806  8.24483349]\n",
      " [ 2.68163072  8.73655757]\n",
      " [ 3.18283084  9.8099545 ]\n",
      " [ 4.57619748  0.25908363]\n",
      " [ 3.48531937 10.07693342]\n",
      " [-3.79856285  5.00932598]\n",
      " [ 5.978094    2.70137198]\n",
      " [-3.15226055  5.17228624]\n",
      " [ 1.13939388  6.88129205]\n",
      " [-3.12204963  7.54910724]\n",
      " [-4.15819137  5.8879296 ]\n",
      " [-3.69742643  3.61236137]\n",
      " [-3.09309084  4.66767102]\n",
      " [-2.4136765   4.21880848]\n",
      " [ 1.06475441  6.62677819]\n",
      " [ 3.03978242  2.84977905]\n",
      " [ 4.23744714  2.19731668]\n",
      " [ 3.34061897  2.33457651]\n",
      " [ 2.9453852   2.69615381]\n",
      " [-3.42298986  5.59638535]\n",
      " [-2.28201748  6.65926868]\n",
      " [ 2.09658373 10.06184816]\n",
      " [ 5.59878724  3.6912165 ]\n",
      " [ 3.69691606  1.04787251]\n",
      " [ 3.44661923  8.40241639]\n",
      " [-3.50934053  5.85324368]\n",
      " [-0.67066325  6.78024401]\n",
      " [ 1.84932131  9.01817316]\n",
      " [ 3.43620238  1.82715788]\n",
      " [ 4.46690144  2.50190049]\n",
      " [-3.79337102  7.37877912]\n",
      " [-1.9271721   4.75583301]\n",
      " [ 4.51287668  1.11051723]\n",
      " [ 4.40877322  3.12171322]\n",
      " [ 0.24626997 10.55835005]\n",
      " [ 2.10748758  8.98573717]\n",
      " [ 1.44288798  8.16950035]\n",
      " [ 3.23973789  1.21647766]\n",
      " [ 3.41596718  1.64569278]\n",
      " [-3.96663025  6.95278081]\n",
      " [-2.53053137  5.66421819]\n",
      " [-0.89057208  7.17229247]\n",
      " [ 3.47468896  2.47176061]\n",
      " [ 1.04524179  8.65952005]\n",
      " [ 4.31881002  2.77196636]\n",
      " [-3.55184048  7.76529658]\n",
      " [-2.19697741  5.18473893]\n",
      " [ 5.28931461  1.61540248]\n",
      " [ 4.12103506  3.58119781]\n",
      " [ 1.99829867  8.4203908 ]\n",
      " [ 5.99368574  0.44756826]\n",
      " [ 2.84005004  2.76472403]\n",
      " [-4.34666494  6.10281539]\n",
      " [-3.85721769  5.14621474]\n",
      " [-2.88713453  6.47079596]\n",
      " [-4.54506562  6.27515622]\n",
      " [ 3.7073581   3.01777239]\n",
      " [ 2.71357788  8.72924967]\n",
      " [-4.05402337  4.29099343]\n",
      " [ 3.79898251  1.85149266]\n",
      " [ 2.90262857  8.45621745]\n",
      " [-2.1329492   6.15449218]\n",
      " [ 4.22229478  7.15320898]\n",
      " [-0.60044966  9.26119325]\n",
      " [ 6.03347707  3.27584211]\n",
      " [ 3.24930936  3.70539227]\n",
      " [ 3.09194084  7.37274883]\n",
      " [ 2.1299663   8.20579372]\n",
      " [ 1.28007971  8.24802149]\n",
      " [-3.40780194  4.46081323]\n",
      " [ 4.48696057  0.69592653]\n",
      " [ 0.6997448   9.38506501]\n",
      " [ 2.01905738  8.91004655]\n",
      " [ 3.84253167  2.59778372]\n",
      " [ 0.32234181  9.07035691]\n",
      " [ 2.93741164  3.73894851]\n",
      " [ 2.39640339  8.94124898]\n",
      " [ 1.92435793  9.03590653]\n",
      " [ 1.44173502  7.42694247]\n",
      " [ 4.72461441  2.71753399]\n",
      " [ 1.56521334  8.3052719 ]\n",
      " [ 3.67538149  3.64459105]\n",
      " [ 4.50654176  0.70226581]\n",
      " [-1.95414843  6.49102825]\n",
      " [-4.08805087  6.51735904]\n",
      " [-4.36971544  5.37417992]\n",
      " [-1.86577823  6.15270713]\n",
      " [ 2.26560786  7.75347892]\n",
      " [ 2.81697636  7.86540963]\n",
      " [-2.42857658  4.23370687]\n",
      " [-4.27924355  6.6801275 ]]\n",
      "[1 0 1 0 0 0 2 2 1 0 0 0 1 0 2 1 2 0 2 2 2 2 2 0 1 1 1 1 2 2 0 1 1 0 2 2 0\n",
      " 1 1 2 2 1 1 0 0 0 1 1 2 2 2 1 0 1 2 2 1 1 0 1 1 2 2 2 2 1 0 2 1 0 2 0 0 1\n",
      " 1 0 0 0 2 1 0 0 1 0 1 0 0 0 1 0 1 1 2 2 2 2 0 0 2 2]\n"
     ]
    },
    {
     "data": {
      "text/plain": [
       "<matplotlib.collections.PathCollection at 0x113cb8e10>"
      ]
     },
     "execution_count": 4,
     "metadata": {},
     "output_type": "execute_result"
    },
    {
     "data": {
      "image/png": "[encoded data removed]",
      "text/plain": [
       "<Figure size 432x288 with 1 Axes>"
      ]
     },
     "metadata": {
      "image/png": {
       "height": 250,
       "width": 370
      },
      "needs_background": "light"
     },
     "output_type": "display_data"
    }
   ],
   "source": [
    "(points, labels) = sk_data.make_blobs(n_samples=100, centers=3, n_features=2, \n",
    "                                      center_box=(-20.0, 20.0),random_state=0)\n",
    "\n",
    "print(points)\n",
    "print(labels)\n",
    "plt.scatter(points[:, 0], points[:, 1], marker='o', c=labels, s=25, edgecolor='k')"
   ]
  },
  {
   "cell_type": "markdown",
   "metadata": {
    "slideshow": {
     "slide_type": "fragment"
    }
   },
   "source": [
    "A more realistic scenario is one in which our data set has many more feature dimensions (e.g., 30)."
   ]
  },
  {
   "cell_type": "code",
   "execution_count": 5,
   "metadata": {},
   "outputs": [
    {
     "data": {
      "image/png": "[encoded data removed]",
      "text/plain": [
       "<Figure size 432x288 with 1 Axes>"
      ]
     },
     "metadata": {
      "image/png": {
       "height": 235,
       "width": 352
      }
     },
     "output_type": "display_data"
    }
   ],
   "source": [
    "(X, y) = sk_data.make_blobs(n_samples=100, centers=3, n_features=30,\n",
    "                            center_box=(-10.0, 10.0),random_state=0)\n",
    "\n",
    "_ = sns.heatmap(X, xticklabels=False, yticklabels=False, linewidths=0, cbar=False)"
   ]
  },
  {
   "cell_type": "markdown",
   "metadata": {
    "slideshow": {
     "slide_type": "fragment"
    }
   },
   "source": [
    "We can try to compute pairwise distances for visualization purposes. The `sklearn.metrics` functions can help (documentation can be found [here](http://scikit-learn.org/stable/modules/classes.html#module-sklearn.metrics))."
   ]
  },
  {
   "cell_type": "code",
   "execution_count": 6,
   "metadata": {},
   "outputs": [
    {
     "data": {
      "image/png": "[encoded data removed]",
      "text/plain": [
       "<Figure size 432x288 with 1 Axes>"
      ]
     },
     "metadata": {
      "image/png": {
       "height": 235,
       "width": 352
      }
     },
     "output_type": "display_data"
    }
   ],
   "source": [
    "euclidean_dists = metrics.euclidean_distances(X)\n",
    "_ = sns.heatmap(euclidean_dists, xticklabels=False, yticklabels=False, linewidths=0, cbar=False)"
   ]
  },
  {
   "cell_type": "markdown",
   "metadata": {
    "slideshow": {
     "slide_type": "fragment"
    }
   },
   "source": [
    "These data points live in a __30 dimensional__ space, so we cannot directly visualize them. We will need some additional techniques to tractably visualize this data."
   ]
  },
  {
   "cell_type": "markdown",
   "metadata": {
    "slideshow": {
     "slide_type": "slide"
    }
   },
   "source": [
    "### Low-dimensional embeddings"
   ]
  },
  {
   "cell_type": "markdown",
   "metadata": {
    "slideshow": {
     "slide_type": "fragment"
    }
   },
   "source": [
    "It is sometimes (but not always) possible to get a nice two-dimensional representation of a data set that we can visualize. An __embedding__ is a function that maps a data set that lives in one metric space into a different one.\n",
    "\n",
    "To visualize a data set with a large number of feature dimensions, we can try to embed it into the plane $\\mathbb{R}^2$. There are many ways to do so; we will consider one: __multidimensional scaling__ (MDS)."
   ]
  },
  {
   "cell_type": "markdown",
   "metadata": {
    "slideshow": {
     "slide_type": "fragment"
    }
   },
   "source": [
    "Given a dissimilarity or distance matrix that specifies the distances between all pairs of data points, find a set of coordinates (in the desired vector space, such as $\\R^2$) for the points that approximates those distances as well as possible.\n",
    "\n",
    "One way this can be done is via a gradient descent algorithm that starts with random positions and moves points in a way that reduces the disparity between true distance and the Euclidean distance."
   ]
  },
  {
   "cell_type": "code",
   "execution_count": 7,
   "metadata": {},
   "outputs": [
    {
     "data": {
      "image/png": "[encoded data removed]",
      "text/plain": [
       "<Figure size 432x288 with 1 Axes>"
      ]
     },
     "metadata": {
      "image/png": {
       "height": 250,
       "width": 382
      },
      "needs_background": "light"
     },
     "output_type": "display_data"
    }
   ],
   "source": [
    "import sklearn.manifold\n",
    "mds = sklearn.manifold.MDS(n_components=2, max_iter=3000, eps=1e-9, random_state=0,\n",
    "                   dissimilarity=\"precomputed\", n_jobs=1)\n",
    "fit = mds.fit(euclidean_dists)\n",
    "pos = fit.embedding_\n",
    "_ = plt.scatter(pos[:, 0], pos[:, 1], s=8)"
   ]
  },
  {
   "cell_type": "markdown",
   "metadata": {
    "slideshow": {
     "slide_type": "slide"
    }
   },
   "source": [
    "### Applying specific clustering algorithms"
   ]
  },
  {
   "cell_type": "markdown",
   "metadata": {
    "slideshow": {
     "slide_type": "fragment"
    }
   },
   "source": [
    "The __`scikit-learn`__ library has an extensive set of tools for unsupervised learning generally, and clustering specifically; these are found in [`sklearn.cluster`](http://scikit-learn.org/stable/modules/clustering.html)."
   ]
  },
  {
   "cell_type": "markdown",
   "metadata": {
    "slideshow": {
     "slide_type": "fragment"
    }
   },
   "source": [
    "There are 3 functions in all of the clustering classes:\n",
    "\n",
    "* __`fit()`__: builds the model from the training data (e.g., for k-means, it finds the centroids) \n",
    "* __`predict()`__: assigns labels to the data after building the model\n",
    "* __`fit_predict()`__: does both at the same time"
   ]
  },
  {
   "cell_type": "code",
   "execution_count": 8,
   "metadata": {},
   "outputs": [
    {
     "name": "stdout",
     "output_type": "stream",
     "text": [
      "[0 2 1 1 2 0 2 2 0 2 1 0 1 0 2 1 1 0 1 2 1 2 1 0 2 2 0 1 1 1 1 0 1 0 1 2 1\n",
      " 2 1 2 2 2 0 1 0 1 0 2 0 1 1 0 0 0 0 1 0 2 2 1 0 1 2 0 0 2 1 0 0 2 2 2 0 0\n",
      " 1 0 2 0 2 0 2 2 2 0 1 1 2 0 0 1 0 2 2 1 0 1 1 2 2 1]\n",
      "[1 2 0 0 2 1 2 2 1 2 0 1 0 1 2 0 0 1 0 2 0 2 0 1 2 2 1 0 0 0 0 1 0 1 0 2 0\n",
      " 2 0 2 2 2 1 0 1 0 1 2 1 0 0 1 1 1 1 0 1 2 2 0 1 0 2 1 1 2 0 1 1 2 2 2 1 1\n",
      " 0 1 2 1 2 1 2 2 2 1 0 0 2 1 1 0 1 2 2 0 1 0 0 2 2 0]\n"
     ]
    }
   ],
   "source": [
    "from sklearn.cluster import KMeans\n",
    "kmeans = KMeans(init='k-means++', n_clusters=3, n_init=100)\n",
    "y_predicted = kmeans.fit_predict(X)\n",
    "print(y)\n",
    "print(y_predicted)"
   ]
  },
  {
   "cell_type": "markdown",
   "metadata": {
    "slideshow": {
     "slide_type": "fragment"
    }
   },
   "source": [
    "You will notice that in the results above, the ground truth labeling and the one generated by the algorithm does not match. However, we can confirm that it is the same labeling by observing that the mapping between labels is a bijection. In other words, if we pair up all corresponding labels, we should get only as many unique pairs as there are categories."
   ]
  },
  {
   "cell_type": "code",
   "execution_count": 15,
   "metadata": {},
   "outputs": [
    {
     "data": {
      "text/plain": [
       "{(0, 1), (1, 0), (2, 2)}"
      ]
     },
     "execution_count": 15,
     "metadata": {},
     "output_type": "execute_result"
    }
   ],
   "source": [
    "set(zip(y, y_predicted))"
   ]
  },
  {
   "cell_type": "markdown",
   "metadata": {
    "slideshow": {
     "slide_type": "fragment"
    }
   },
   "source": [
    "The above works well for confirming that the two clustering results are equivalent. However, if there are discrepancies, it may be more useful to count how many pairs of each kind there are. This can provide a rough absolute measure of the deviation (from the ground truth) in the labeling produced by the algorithm. There are a variety of ways that this can be accomplished; we illustrate two of them below."
   ]
  },
  {
   "cell_type": "code",
   "execution_count": 21,
   "metadata": {},
   "outputs": [
    {
     "data": {
      "text/html": [
       "<div>\n",
       "<style scoped>\n",
       "    .dataframe tbody tr th:only-of-type {\n",
       "        vertical-align: middle;\n",
       "    }\n",
       "\n",
       "    .dataframe tbody tr th {\n",
       "        vertical-align: top;\n",
       "    }\n",
       "\n",
       "    .dataframe thead th {\n",
       "        text-align: right;\n",
       "    }\n",
       "</style>\n",
       "<table border=\"1\" class=\"dataframe\">\n",
       "  <thead>\n",
       "    <tr style=\"text-align: right;\">\n",
       "      <th></th>\n",
       "      <th>1</th>\n",
       "    </tr>\n",
       "    <tr>\n",
       "      <th>0</th>\n",
       "      <th></th>\n",
       "    </tr>\n",
       "  </thead>\n",
       "  <tbody>\n",
       "    <tr>\n",
       "      <th>(0, 1)</th>\n",
       "      <td>34</td>\n",
       "    </tr>\n",
       "    <tr>\n",
       "      <th>(1, 0)</th>\n",
       "      <td>33</td>\n",
       "    </tr>\n",
       "    <tr>\n",
       "      <th>(2, 2)</th>\n",
       "      <td>33</td>\n",
       "    </tr>\n",
       "  </tbody>\n",
       "</table>\n",
       "</div>"
      ],
      "text/plain": [
       "         1\n",
       "0         \n",
       "(0, 1)  34\n",
       "(1, 0)  33\n",
       "(2, 2)  33"
      ]
     },
     "execution_count": 21,
     "metadata": {},
     "output_type": "execute_result"
    }
   ],
   "source": [
    "pd.DataFrame([(k,1) for k in zip(y, y_predicted)]).groupby(0).aggregate(sum)"
   ]
  },
  {
   "cell_type": "code",
   "execution_count": 14,
   "metadata": {},
   "outputs": [
    {
     "data": {
      "text/plain": [
       "(0, 1)    34\n",
       "(1, 0)    33\n",
       "(2, 2)    33\n",
       "dtype: int64"
      ]
     },
     "execution_count": 14,
     "metadata": {},
     "output_type": "execute_result"
    }
   ],
   "source": [
    "pd.Series(list(zip(y, y_predicted))).value_counts()"
   ]
  },
  {
   "cell_type": "markdown",
   "metadata": {
    "slideshow": {
     "slide_type": "fragment"
    }
   },
   "source": [
    "All the tools in `scikit-learn` are implemented as Python objects. Thus, the general sequence for using a tool from `scikit-learn` is:\n",
    "\n",
    "* Create the object, probably with some parameter settings or intialization\n",
    "* Run the method, generally by using the `fit()` function\n",
    "* Examine the results, which are generally instance variables of the object"
   ]
  },
  {
   "cell_type": "code",
   "execution_count": 15,
   "metadata": {},
   "outputs": [
    {
     "name": "stdout",
     "output_type": "stream",
     "text": [
      "The total error of the clustering is: 2733.8430818977895.\n",
      "\n",
      "Cluster labels:\n",
      "[1 2 0 0 2 1 2 2 1 2 0 1 0 1 2 0 0 1 0 2 0 2 0 1 2 2 1 0 0 0 0 1 0 1 0 2 0\n",
      " 2 0 2 2 2 1 0 1 0 1 2 1 0 0 1 1 1 1 0 1 2 2 0 1 0 2 1 1 2 0 1 1 2 2 2 1 1\n",
      " 0 1 2 1 2 1 2 2 2 1 0 0 2 1 1 0 1 2 2 0 1 0 0 2 2 0]\n",
      "\n",
      "Cluster centroids:\n",
      "[[-4.7833887   5.32946939 -0.87141823  1.38900567 -9.59956915  2.35207348\n",
      "   2.22988468  2.03394692  8.9797878   3.67857655 -2.67618716 -1.17595897\n",
      "   3.76433199 -8.46317271  3.28114395  3.73803392 -5.73436869 -7.0844462\n",
      "  -3.75643598 -3.07904369  1.36974653 -0.95918462  9.91135428 -8.17722281\n",
      "  -5.8656831  -6.76869078  3.12196673 -4.85745245 -0.70449349 -4.94582258]\n",
      " [ 0.88697885  4.29142902  1.93200132  1.10877989 -1.55994342  2.80616392\n",
      "  -1.11495818  7.74595341  8.92512875 -2.29656298  6.09588722  0.47062896\n",
      "   1.36408008  8.63168509 -8.54512921 -8.59161818 -9.64308952  6.92270491\n",
      "   5.65321496  7.29061444  9.58822315  5.79602014 -0.84970449  5.46127493\n",
      "  -7.77730238  2.75092191 -7.17026663  9.07475984  0.04245798 -1.98719465]\n",
      " [-7.0489904  -7.92501873  2.89710462 -7.17088692 -6.01151677 -2.66405834\n",
      "   6.43970052 -8.20341647  6.54146052 -7.92978843  9.56983319 -0.86327902\n",
      "   9.25897119  1.73061823  4.84528928 -9.26418246 -4.54021612 -7.47784575\n",
      "  -4.15060719 -7.85665458 -3.76688414 -1.6692291  -8.78048843  3.78904162\n",
      "   1.24247168 -4.73618733  0.27327032 -7.93180624  1.59974866  8.78601576]]\n"
     ]
    }
   ],
   "source": [
    "centroids = kmeans.cluster_centers_\n",
    "labels = kmeans.labels_\n",
    "error = kmeans.inertia_\n",
    "\n",
    "print(\"The total error of the clustering is: {}.\".format(error))\n",
    "print('\\nCluster labels:')\n",
    "print(labels)\n",
    "print('\\nCluster centroids:')\n",
    "print(centroids)"
   ]
  }
 ],
 "metadata": {
  "anaconda-cloud": {},
  "celltoolbar": "Slideshow",
  "kernelspec": {
   "display_name": "Python 3",
   "language": "python",
   "name": "python3"
  },
  "language_info": {
   "codemirror_mode": {
    "name": "ipython",
    "version": 3
   },
   "file_extension": ".py",
   "mimetype": "text/x-python",
   "name": "python",
   "nbconvert_exporter": "python",
   "pygments_lexer": "ipython3",
   "version": "3.6.4"
  }
 },
 "nbformat": 4,
 "nbformat_minor": 1
}
